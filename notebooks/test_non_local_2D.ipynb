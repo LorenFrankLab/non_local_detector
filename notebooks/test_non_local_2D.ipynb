{
 "cells": [
  {
   "cell_type": "code",
   "execution_count": 1,
   "metadata": {},
   "outputs": [],
   "source": [
    "import joblib\n",
    "import pandas as pd\n",
    "import numpy as np\n",
    "import logging\n",
    "\n",
    "FORMAT = \"%(asctime)s %(message)s\"\n",
    "logging.basicConfig(level=\"INFO\", format=FORMAT, datefmt=\"%d-%b-%y %H:%M:%S\")\n",
    "\n",
    "\n",
    "def load_data():\n",
    "    try:\n",
    "        path = \"/Users/edeno/Downloads/\"\n",
    "        position_info = pd.read_pickle(path + \"Jaq_03_16_position_info.pkl\")\n",
    "        spikes = pd.read_pickle(path + \"Jaq_03_16_spikes.pkl\")\n",
    "        is_ripple = pd.read_pickle(path + \"Jaq_03_16_is_ripple.pkl\")\n",
    "        env = joblib.load(path + \"Jaq_03_16_environment.pkl\")\n",
    "\n",
    "        time = np.asarray(position_info.index / np.timedelta64(1, \"s\"))\n",
    "        spikes = np.asarray(spikes).astype(float)\n",
    "        position = np.asarray(position_info.linear_position).astype(float)\n",
    "        position2D = np.asarray(position_info[[\"nose_x\", \"nose_y\"]]).astype(float)\n",
    "        is_ripple = np.asarray(is_ripple).squeeze()\n",
    "        speed = np.asarray(position_info.nose_vel).astype(float)\n",
    "    except FileNotFoundError:\n",
    "        path = \"/cumulus/edeno/non_local_paper/notebooks/\"\n",
    "        position_info = pd.read_pickle(path + \"Jaq_03_16_position_info.pkl\")\n",
    "        spikes = pd.read_pickle(path + \"Jaq_03_16_spikes.pkl\")\n",
    "        is_ripple = pd.read_pickle(path + \"Jaq_03_16_is_ripple.pkl\")\n",
    "        env = joblib.load(path + \"Jaq_03_16_environment.pkl\")\n",
    "\n",
    "        time = np.asarray(position_info.index / np.timedelta64(1, \"s\"))\n",
    "        spikes = np.asarray(spikes).astype(float)\n",
    "        position = np.asarray(position_info.linear_position).astype(float)\n",
    "        position2D = np.asarray(position_info[[\"nose_x\", \"nose_y\"]]).astype(float)\n",
    "        is_ripple = np.asarray(is_ripple).squeeze()\n",
    "        speed = np.asarray(position_info.nose_vel).astype(float)\n",
    "\n",
    "    return is_ripple, spikes, position, speed, env, time, position2D"
   ]
  },
  {
   "cell_type": "code",
   "execution_count": 2,
   "metadata": {},
   "outputs": [
    {
     "name": "stderr",
     "output_type": "stream",
     "text": [
      "2023-06-26 15:31:14.199855: W external/xla/xla/pjrt/gpu/gpu_helpers.cc:63] Unable to enable peer access between GPUs 0 and 9; status: INTERNAL: failed to enable peer access from 0x7f140c626e80 to 0x7f14106248a0: CUDA_ERROR_TOO_MANY_PEERS: peer mapping resources exhausted\n",
      "2023-06-26 15:31:14.201239: W external/xla/xla/pjrt/gpu/gpu_helpers.cc:63] Unable to enable peer access between GPUs 1 and 9; status: INTERNAL: failed to enable peer access from 0x7f142c624ef0 to 0x7f14106248a0: CUDA_ERROR_TOO_MANY_PEERS: peer mapping resources exhausted\n",
      "2023-06-26 15:31:14.202461: W external/xla/xla/pjrt/gpu/gpu_helpers.cc:63] Unable to enable peer access between GPUs 2 and 9; status: INTERNAL: failed to enable peer access from 0x7f142059ea10 to 0x7f14106248a0: CUDA_ERROR_TOO_MANY_PEERS: peer mapping resources exhausted\n",
      "2023-06-26 15:31:14.203529: W external/xla/xla/pjrt/gpu/gpu_helpers.cc:63] Unable to enable peer access between GPUs 3 and 9; status: INTERNAL: failed to enable peer access from 0x7f13fc624bd0 to 0x7f14106248a0: CUDA_ERROR_TOO_MANY_PEERS: peer mapping resources exhausted\n",
      "2023-06-26 15:31:14.204376: W external/xla/xla/pjrt/gpu/gpu_helpers.cc:63] Unable to enable peer access between GPUs 4 and 9; status: INTERNAL: failed to enable peer access from 0x7f13f4625130 to 0x7f14106248a0: CUDA_ERROR_TOO_MANY_PEERS: peer mapping resources exhausted\n",
      "2023-06-26 15:31:14.205039: W external/xla/xla/pjrt/gpu/gpu_helpers.cc:63] Unable to enable peer access between GPUs 5 and 9; status: INTERNAL: failed to enable peer access from 0x7f14047b6990 to 0x7f14106248a0: CUDA_ERROR_TOO_MANY_PEERS: peer mapping resources exhausted\n",
      "2023-06-26 15:31:14.205553: W external/xla/xla/pjrt/gpu/gpu_helpers.cc:63] Unable to enable peer access between GPUs 6 and 9; status: INTERNAL: failed to enable peer access from 0x7f1400624d10 to 0x7f14106248a0: CUDA_ERROR_TOO_MANY_PEERS: peer mapping resources exhausted\n",
      "2023-06-26 15:31:14.205861: W external/xla/xla/pjrt/gpu/gpu_helpers.cc:63] Unable to enable peer access between GPUs 7 and 9; status: INTERNAL: failed to enable peer access from 0x7f141464e1a0 to 0x7f14106248a0: CUDA_ERROR_TOO_MANY_PEERS: peer mapping resources exhausted\n",
      "2023-06-26 15:31:14.206024: W external/xla/xla/pjrt/gpu/gpu_helpers.cc:63] Unable to enable peer access between GPUs 8 and 9; status: INTERNAL: failed to enable peer access from 0x7f141c6248e0 to 0x7f14106248a0: CUDA_ERROR_TOO_MANY_PEERS: peer mapping resources exhausted\n",
      "2023-06-26 15:31:14.206186: W external/xla/xla/pjrt/gpu/gpu_helpers.cc:63] Unable to enable peer access between GPUs 9 and 0; status: INTERNAL: failed to enable peer access from 0x7f14106248a0 to 0x7f140c626e80: CUDA_ERROR_TOO_MANY_PEERS: peer mapping resources exhausted\n",
      "2023-06-26 15:31:14.206348: W external/xla/xla/pjrt/gpu/gpu_helpers.cc:63] Unable to enable peer access between GPUs 9 and 1; status: INTERNAL: failed to enable peer access from 0x7f14106248a0 to 0x7f142c624ef0: CUDA_ERROR_TOO_MANY_PEERS: peer mapping resources exhausted\n",
      "2023-06-26 15:31:14.206509: W external/xla/xla/pjrt/gpu/gpu_helpers.cc:63] Unable to enable peer access between GPUs 9 and 2; status: INTERNAL: failed to enable peer access from 0x7f14106248a0 to 0x7f142059ea10: CUDA_ERROR_TOO_MANY_PEERS: peer mapping resources exhausted\n",
      "2023-06-26 15:31:14.206654: W external/xla/xla/pjrt/gpu/gpu_helpers.cc:63] Unable to enable peer access between GPUs 9 and 3; status: INTERNAL: failed to enable peer access from 0x7f14106248a0 to 0x7f13fc624bd0: CUDA_ERROR_TOO_MANY_PEERS: peer mapping resources exhausted\n",
      "2023-06-26 15:31:14.206802: W external/xla/xla/pjrt/gpu/gpu_helpers.cc:63] Unable to enable peer access between GPUs 9 and 4; status: INTERNAL: failed to enable peer access from 0x7f14106248a0 to 0x7f13f4625130: CUDA_ERROR_TOO_MANY_PEERS: peer mapping resources exhausted\n",
      "2023-06-26 15:31:14.206964: W external/xla/xla/pjrt/gpu/gpu_helpers.cc:63] Unable to enable peer access between GPUs 9 and 5; status: INTERNAL: failed to enable peer access from 0x7f14106248a0 to 0x7f14047b6990: CUDA_ERROR_TOO_MANY_PEERS: peer mapping resources exhausted\n",
      "2023-06-26 15:31:14.207125: W external/xla/xla/pjrt/gpu/gpu_helpers.cc:63] Unable to enable peer access between GPUs 9 and 6; status: INTERNAL: failed to enable peer access from 0x7f14106248a0 to 0x7f1400624d10: CUDA_ERROR_TOO_MANY_PEERS: peer mapping resources exhausted\n",
      "2023-06-26 15:31:14.207293: W external/xla/xla/pjrt/gpu/gpu_helpers.cc:63] Unable to enable peer access between GPUs 9 and 7; status: INTERNAL: failed to enable peer access from 0x7f14106248a0 to 0x7f141464e1a0: CUDA_ERROR_TOO_MANY_PEERS: peer mapping resources exhausted\n",
      "2023-06-26 15:31:14.207455: W external/xla/xla/pjrt/gpu/gpu_helpers.cc:63] Unable to enable peer access between GPUs 9 and 8; status: INTERNAL: failed to enable peer access from 0x7f14106248a0 to 0x7f141c6248e0: CUDA_ERROR_TOO_MANY_PEERS: peer mapping resources exhausted\n",
      "26-Jun-23 15:31:14 Unable to initialize backend 'rocm': NOT_FOUND: Could not find registered platform with name: \"rocm\". Available platform names are: Interpreter Host CUDA\n",
      "26-Jun-23 15:31:14 Unable to initialize backend 'tpu': module 'jaxlib.xla_extension' has no attribute 'get_tpu_client'\n",
      "26-Jun-23 15:31:14 Unable to initialize backend 'plugin': xla_extension has no attributes named get_plugin_device_client. Compile TensorFlow with //tensorflow/compiler/xla/python:enable_plugin_device set to true (defaults to false) to enable this.\n"
     ]
    },
    {
     "name": "stdout",
     "output_type": "stream",
     "text": [
      "[StreamExecutorGpuDevice(id=0, process_index=0, slice_index=0),\n",
      " StreamExecutorGpuDevice(id=1, process_index=0, slice_index=0),\n",
      " StreamExecutorGpuDevice(id=2, process_index=0, slice_index=0),\n",
      " StreamExecutorGpuDevice(id=3, process_index=0, slice_index=0),\n",
      " StreamExecutorGpuDevice(id=4, process_index=0, slice_index=0),\n",
      " StreamExecutorGpuDevice(id=5, process_index=0, slice_index=0),\n",
      " StreamExecutorGpuDevice(id=6, process_index=0, slice_index=0),\n",
      " StreamExecutorGpuDevice(id=7, process_index=0, slice_index=0),\n",
      " StreamExecutorGpuDevice(id=8, process_index=0, slice_index=0),\n",
      " StreamExecutorGpuDevice(id=9, process_index=0, slice_index=0)]\n"
     ]
    }
   ],
   "source": [
    "import jax\n",
    "import pprint\n",
    "\n",
    "pprint.pprint(jax.devices())"
   ]
  },
  {
   "cell_type": "code",
   "execution_count": 3,
   "metadata": {},
   "outputs": [
    {
     "data": {
      "text/plain": [
       "StreamExecutorGpuDevice(id=1, process_index=0, slice_index=0)"
      ]
     },
     "execution_count": 3,
     "metadata": {},
     "output_type": "execute_result"
    }
   ],
   "source": [
    "device_id = 1\n",
    "device = jax.devices()[device_id]\n",
    "jax.config.update(\"jax_default_device\", device)\n",
    "device"
   ]
  },
  {
   "cell_type": "code",
   "execution_count": 4,
   "metadata": {},
   "outputs": [
    {
     "name": "stderr",
     "output_type": "stream",
     "text": [
      "26-Jun-23 15:31:16 Cupy is not installed or GPU is not detected. Ignore this message if not using GPU\n",
      "/home/edeno/miniconda3/envs/non_local_detector_gpu/lib/python3.10/site-packages/replay_trajectory_classification/likelihoods/multiunit_likelihood.py:8: TqdmExperimentalWarning: Using `tqdm.autonotebook.tqdm` in notebook mode. Use `tqdm.tqdm` instead to force console mode (e.g. in jupyter console)\n",
      "  from tqdm.autonotebook import tqdm\n"
     ]
    }
   ],
   "source": [
    "is_ripple, spikes, position, speed, env, time, position2D = load_data()"
   ]
  },
  {
   "cell_type": "code",
   "execution_count": 5,
   "metadata": {},
   "outputs": [
    {
     "name": "stderr",
     "output_type": "stream",
     "text": [
      "26-Jun-23 15:31:18 Fitting initial conditions...\n",
      "26-Jun-23 15:31:18 Fitting discrete state transition\n",
      "26-Jun-23 15:31:18 Fitting continuous state transition...\n",
      "26-Jun-23 15:31:20 Fitting place fields...\n"
     ]
    },
    {
     "ename": "KeyError",
     "evalue": "'sorted_spikes_kde_jax2'",
     "output_type": "error",
     "traceback": [
      "\u001b[0;31m---------------------------------------------------------------------------\u001b[0m",
      "\u001b[0;31mKeyError\u001b[0m                                  Traceback (most recent call last)",
      "Cell \u001b[0;32mIn[5], line 3\u001b[0m\n\u001b[1;32m      1\u001b[0m \u001b[39mfrom\u001b[39;00m \u001b[39mnon_local_detector\u001b[39;00m \u001b[39mimport\u001b[39;00m NonLocalSortedSpikesDetector\n\u001b[0;32m----> 3\u001b[0m detector \u001b[39m=\u001b[39m NonLocalSortedSpikesDetector(\n\u001b[1;32m      4\u001b[0m     sorted_spikes_algorithm\u001b[39m=\u001b[39;49m\u001b[39m\"\u001b[39;49m\u001b[39msorted_spikes_kde_jax2\u001b[39;49m\u001b[39m\"\u001b[39;49m,\n\u001b[1;32m      5\u001b[0m     sorted_spikes_algorithm_params\u001b[39m=\u001b[39;49m{\n\u001b[1;32m      6\u001b[0m         \u001b[39m\"\u001b[39;49m\u001b[39mposition_std\u001b[39;49m\u001b[39m\"\u001b[39;49m: \u001b[39m6.0\u001b[39;49m,\n\u001b[1;32m      7\u001b[0m         \u001b[39m\"\u001b[39;49m\u001b[39muse_diffusion\u001b[39;49m\u001b[39m\"\u001b[39;49m: \u001b[39mFalse\u001b[39;49;00m,\n\u001b[1;32m      8\u001b[0m         \u001b[39m\"\u001b[39;49m\u001b[39mblock_size\u001b[39;49m\u001b[39m\"\u001b[39;49m: \u001b[39m8000\u001b[39;49m,\n\u001b[1;32m      9\u001b[0m         \u001b[39m\"\u001b[39;49m\u001b[39minterpolate_local\u001b[39;49m\u001b[39m\"\u001b[39;49m: \u001b[39mFalse\u001b[39;49;00m,\n\u001b[1;32m     10\u001b[0m     },\n\u001b[1;32m     11\u001b[0m )\u001b[39m.\u001b[39;49mfit(position2D, spikes, is_training\u001b[39m=\u001b[39;49m\u001b[39m~\u001b[39;49mis_ripple)\n",
      "File \u001b[0;32m/cumulus/edeno/non_local_detector/src/non_local_detector/models/base.py:1044\u001b[0m, in \u001b[0;36mSortedSpikesDetector.fit\u001b[0;34m(self, position, spikes, is_training, encoding_group_labels, environment_labels, discrete_transition_covariate_data)\u001b[0m\n\u001b[1;32m   1036\u001b[0m position \u001b[39m=\u001b[39m position[:, np\u001b[39m.\u001b[39mnewaxis] \u001b[39mif\u001b[39;00m position\u001b[39m.\u001b[39mndim \u001b[39m==\u001b[39m \u001b[39m1\u001b[39m \u001b[39melse\u001b[39;00m position\n\u001b[1;32m   1037\u001b[0m \u001b[39mself\u001b[39m\u001b[39m.\u001b[39m_fit(\n\u001b[1;32m   1038\u001b[0m     position,\n\u001b[1;32m   1039\u001b[0m     is_training,\n\u001b[0;32m   (...)\u001b[0m\n\u001b[1;32m   1042\u001b[0m     discrete_transition_covariate_data,\n\u001b[1;32m   1043\u001b[0m )\n\u001b[0;32m-> 1044\u001b[0m \u001b[39mself\u001b[39;49m\u001b[39m.\u001b[39;49mfit_place_fields(\n\u001b[1;32m   1045\u001b[0m     position,\n\u001b[1;32m   1046\u001b[0m     spikes,\n\u001b[1;32m   1047\u001b[0m     is_training,\n\u001b[1;32m   1048\u001b[0m     encoding_group_labels,\n\u001b[1;32m   1049\u001b[0m     environment_labels,\n\u001b[1;32m   1050\u001b[0m )\n\u001b[1;32m   1051\u001b[0m \u001b[39mreturn\u001b[39;00m \u001b[39mself\u001b[39m\n",
      "File \u001b[0;32m/cumulus/edeno/non_local_detector/src/non_local_detector/models/base.py:1011\u001b[0m, in \u001b[0;36mSortedSpikesDetector.fit_place_fields\u001b[0;34m(self, position, spikes, is_training, encoding_group_labels, environment_labels)\u001b[0m\n\u001b[1;32m   1007\u001b[0m is_environment \u001b[39m=\u001b[39m environment_labels \u001b[39m==\u001b[39m obs\u001b[39m.\u001b[39menvironment_name\n\u001b[1;32m   1008\u001b[0m likelihood_name \u001b[39m=\u001b[39m State(\n\u001b[1;32m   1009\u001b[0m     environment_name\u001b[39m=\u001b[39mobs\u001b[39m.\u001b[39menvironment_name, encoding_group\u001b[39m=\u001b[39mobs\u001b[39m.\u001b[39mencoding_group\n\u001b[1;32m   1010\u001b[0m )\n\u001b[0;32m-> 1011\u001b[0m encoding_algorithm, _ \u001b[39m=\u001b[39m _SORTED_SPIKES_ALGORITHMS[\n\u001b[1;32m   1012\u001b[0m     \u001b[39mself\u001b[39;49m\u001b[39m.\u001b[39;49msorted_spikes_algorithm\n\u001b[1;32m   1013\u001b[0m ]\n\u001b[1;32m   1014\u001b[0m is_group \u001b[39m=\u001b[39m is_training \u001b[39m&\u001b[39m is_encoding \u001b[39m&\u001b[39m is_environment\n\u001b[1;32m   1016\u001b[0m \u001b[39mself\u001b[39m\u001b[39m.\u001b[39mencoding_model_[likelihood_name] \u001b[39m=\u001b[39m encoding_algorithm(\n\u001b[1;32m   1017\u001b[0m     position\u001b[39m=\u001b[39mposition[is_group],\n\u001b[1;32m   1018\u001b[0m     spikes\u001b[39m=\u001b[39mspikes[is_group],\n\u001b[0;32m   (...)\u001b[0m\n\u001b[1;32m   1024\u001b[0m     \u001b[39m*\u001b[39m\u001b[39m*\u001b[39mkwargs,\n\u001b[1;32m   1025\u001b[0m )\n",
      "\u001b[0;31mKeyError\u001b[0m: 'sorted_spikes_kde_jax2'"
     ]
    }
   ],
   "source": [
    "from non_local_detector import NonLocalSortedSpikesDetector\n",
    "\n",
    "detector = NonLocalSortedSpikesDetector(\n",
    "    sorted_spikes_algorithm=\"sorted_spikes_kde\",\n",
    "    sorted_spikes_algorithm_params={\n",
    "        \"position_std\": 6.0,\n",
    "        \"use_diffusion\": False,\n",
    "        \"block_size\": 8000,\n",
    "        \"interpolate_local\": False,\n",
    "    },\n",
    ").fit(position2D, spikes, is_training=~is_ripple)"
   ]
  },
  {
   "cell_type": "code",
   "execution_count": null,
   "metadata": {},
   "outputs": [],
   "source": [
    "detector.plot_discrete_state_transition()"
   ]
  },
  {
   "cell_type": "code",
   "execution_count": null,
   "metadata": {},
   "outputs": [],
   "source": [
    "results = detector.predict(spikes, position2D, time=time)\n",
    "results"
   ]
  },
  {
   "cell_type": "code",
   "execution_count": null,
   "metadata": {},
   "outputs": [],
   "source": [
    "results = detector.estimate_parameters(spikes, position2D, time=time)"
   ]
  },
  {
   "cell_type": "code",
   "execution_count": null,
   "metadata": {},
   "outputs": [],
   "source": [
    "detector.plot_discrete_state_transition()"
   ]
  },
  {
   "cell_type": "code",
   "execution_count": null,
   "metadata": {},
   "outputs": [],
   "source": []
  }
 ],
 "metadata": {
  "kernelspec": {
   "display_name": "non_local_detector",
   "language": "python",
   "name": "python3"
  },
  "language_info": {
   "codemirror_mode": {
    "name": "ipython",
    "version": 3
   },
   "file_extension": ".py",
   "mimetype": "text/x-python",
   "name": "python",
   "nbconvert_exporter": "python",
   "pygments_lexer": "ipython3",
   "version": "3.10.11"
  },
  "orig_nbformat": 4
 },
 "nbformat": 4,
 "nbformat_minor": 2
}
