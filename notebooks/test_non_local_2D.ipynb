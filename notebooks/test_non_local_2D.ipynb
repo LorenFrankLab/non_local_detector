{
 "cells": [
  {
   "cell_type": "code",
   "execution_count": null,
   "metadata": {},
   "outputs": [],
   "source": [
    "import joblib\n",
    "import pandas as pd\n",
    "import numpy as np\n",
    "import logging\n",
    "\n",
    "FORMAT = \"%(asctime)s %(message)s\"\n",
    "logging.basicConfig(level=\"INFO\", format=FORMAT, datefmt=\"%d-%b-%y %H:%M:%S\")\n",
    "\n",
    "\n",
    "def load_data():\n",
    "    try:\n",
    "        path = \"/Users/edeno/Downloads/\"\n",
    "        position_info = pd.read_pickle(path + \"Jaq_03_16_position_info.pkl\")\n",
    "        spikes = pd.read_pickle(path + \"Jaq_03_16_spikes.pkl\")\n",
    "        is_ripple = pd.read_pickle(path + \"Jaq_03_16_is_ripple.pkl\")\n",
    "        env = joblib.load(path + \"Jaq_03_16_environment.pkl\")\n",
    "\n",
    "        time = np.asarray(position_info.index / np.timedelta64(1, \"s\"))\n",
    "        spikes = np.asarray(spikes).astype(float)\n",
    "        position = np.asarray(position_info.linear_position).astype(float)\n",
    "        position2D = np.asarray(position_info[[\"nose_x\", \"nose_y\"]]).astype(float)\n",
    "        is_ripple = np.asarray(is_ripple).squeeze()\n",
    "        speed = np.asarray(position_info.nose_vel).astype(float)\n",
    "    except FileNotFoundError:\n",
    "        path = \"/cumulus/edeno/non_local_paper/notebooks/\"\n",
    "        position_info = pd.read_pickle(path + \"Jaq_03_16_position_info.pkl\")\n",
    "        spikes = pd.read_pickle(path + \"Jaq_03_16_spikes.pkl\")\n",
    "        is_ripple = pd.read_pickle(path + \"Jaq_03_16_is_ripple.pkl\")\n",
    "        env = joblib.load(path + \"Jaq_03_16_environment.pkl\")\n",
    "\n",
    "        time = np.asarray(position_info.index / np.timedelta64(1, \"s\"))\n",
    "        spikes = np.asarray(spikes).astype(float)\n",
    "        position = np.asarray(position_info.linear_position).astype(float)\n",
    "        position2D = np.asarray(position_info[[\"nose_x\", \"nose_y\"]]).astype(float)\n",
    "        is_ripple = np.asarray(is_ripple).squeeze()\n",
    "        speed = np.asarray(position_info.nose_vel).astype(float)\n",
    "\n",
    "    return is_ripple, spikes, position, speed, env, time, position2D"
   ]
  },
  {
   "cell_type": "code",
   "execution_count": null,
   "metadata": {},
   "outputs": [],
   "source": [
    "import jax\n",
    "import pprint\n",
    "\n",
    "pprint.pprint(jax.devices())"
   ]
  },
  {
   "cell_type": "code",
   "execution_count": null,
   "metadata": {},
   "outputs": [],
   "source": [
    "device_id = 1\n",
    "device = jax.devices()[device_id]\n",
    "jax.config.update(\"jax_default_device\", device)\n",
    "device"
   ]
  },
  {
   "cell_type": "code",
   "execution_count": null,
   "metadata": {},
   "outputs": [],
   "source": [
    "is_ripple, spikes, position, speed, env, time, position2D = load_data()"
   ]
  },
  {
   "cell_type": "code",
   "execution_count": null,
   "metadata": {},
   "outputs": [],
   "source": [
    "from non_local_detector import NonLocalSortedSpikesDetector\n",
    "\n",
    "detector = NonLocalSortedSpikesDetector(\n",
    "    sorted_spikes_algorithm=\"sorted_spikes_kde_jax2\",\n",
    "    sorted_spikes_algorithm_params={\n",
    "        \"position_std\": 6.0,\n",
    "        \"use_diffusion\": False,\n",
    "        \"block_size\": 8000,\n",
    "        \"interpolate_local\": False,\n",
    "    },\n",
    ").fit(position2D, spikes, is_training=~is_ripple)"
   ]
  },
  {
   "cell_type": "code",
   "execution_count": null,
   "metadata": {},
   "outputs": [],
   "source": [
    "detector.plot_discrete_state_transition()"
   ]
  },
  {
   "cell_type": "code",
   "execution_count": null,
   "metadata": {},
   "outputs": [],
   "source": [
    "results = detector.predict(spikes, position2D, time=time)\n",
    "results"
   ]
  },
  {
   "cell_type": "code",
   "execution_count": null,
   "metadata": {},
   "outputs": [],
   "source": [
    "results = detector.estimate_parameters(spikes, position2D, time=time)"
   ]
  },
  {
   "cell_type": "code",
   "execution_count": null,
   "metadata": {},
   "outputs": [],
   "source": [
    "detector.plot_discrete_state_transition()"
   ]
  },
  {
   "cell_type": "code",
   "execution_count": null,
   "metadata": {},
   "outputs": [],
   "source": []
  }
 ],
 "metadata": {
  "kernelspec": {
   "display_name": "non_local_detector",
   "language": "python",
   "name": "python3"
  },
  "language_info": {
   "codemirror_mode": {
    "name": "ipython",
    "version": 3
   },
   "file_extension": ".py",
   "mimetype": "text/x-python",
   "name": "python",
   "nbconvert_exporter": "python",
   "pygments_lexer": "ipython3",
   "version": "3.10.11"
  },
  "orig_nbformat": 4
 },
 "nbformat": 4,
 "nbformat_minor": 2
}
