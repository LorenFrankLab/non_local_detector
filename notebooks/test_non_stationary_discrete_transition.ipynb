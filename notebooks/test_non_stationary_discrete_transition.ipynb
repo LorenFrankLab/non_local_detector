{
 "cells": [
  {
   "cell_type": "code",
   "execution_count": 1,
   "metadata": {},
   "outputs": [],
   "source": [
    "import logging\n",
    "\n",
    "import numpy as np\n",
    "import matplotlib.pyplot as plt\n",
    "\n",
    "# Make analysis reproducible\n",
    "np.random.seed(0)\n",
    "\n",
    "# Enable logging\n",
    "logging.basicConfig(level=logging.INFO)"
   ]
  },
  {
   "cell_type": "code",
   "execution_count": 2,
   "metadata": {},
   "outputs": [
    {
     "name": "stderr",
     "output_type": "stream",
     "text": [
      "2023-06-26 16:38:44.620862: W external/xla/xla/pjrt/gpu/gpu_helpers.cc:63] Unable to enable peer access between GPUs 0 and 9; status: INTERNAL: failed to enable peer access from 0x7fc7946248c0 to 0x7fc7906386c0: CUDA_ERROR_TOO_MANY_PEERS: peer mapping resources exhausted\n",
      "2023-06-26 16:38:44.622788: W external/xla/xla/pjrt/gpu/gpu_helpers.cc:63] Unable to enable peer access between GPUs 1 and 9; status: INTERNAL: failed to enable peer access from 0x7fc7a4624c50 to 0x7fc7906386c0: CUDA_ERROR_TOO_MANY_PEERS: peer mapping resources exhausted\n",
      "2023-06-26 16:38:44.624779: W external/xla/xla/pjrt/gpu/gpu_helpers.cc:63] Unable to enable peer access between GPUs 2 and 9; status: INTERNAL: failed to enable peer access from 0x7fc79c6246e0 to 0x7fc7906386c0: CUDA_ERROR_TOO_MANY_PEERS: peer mapping resources exhausted\n",
      "2023-06-26 16:38:44.626177: W external/xla/xla/pjrt/gpu/gpu_helpers.cc:63] Unable to enable peer access between GPUs 3 and 9; status: INTERNAL: failed to enable peer access from 0x7fc7ac6273d0 to 0x7fc7906386c0: CUDA_ERROR_TOO_MANY_PEERS: peer mapping resources exhausted\n",
      "2023-06-26 16:38:44.627614: W external/xla/xla/pjrt/gpu/gpu_helpers.cc:63] Unable to enable peer access between GPUs 4 and 9; status: INTERNAL: failed to enable peer access from 0x7fc7a079e0e0 to 0x7fc7906386c0: CUDA_ERROR_TOO_MANY_PEERS: peer mapping resources exhausted\n",
      "2023-06-26 16:38:44.628840: W external/xla/xla/pjrt/gpu/gpu_helpers.cc:63] Unable to enable peer access between GPUs 5 and 9; status: INTERNAL: failed to enable peer access from 0x7fc798624d40 to 0x7fc7906386c0: CUDA_ERROR_TOO_MANY_PEERS: peer mapping resources exhausted\n",
      "2023-06-26 16:38:44.629614: W external/xla/xla/pjrt/gpu/gpu_helpers.cc:63] Unable to enable peer access between GPUs 6 and 9; status: INTERNAL: failed to enable peer access from 0x7fc78c666530 to 0x7fc7906386c0: CUDA_ERROR_TOO_MANY_PEERS: peer mapping resources exhausted\n",
      "2023-06-26 16:38:44.630013: W external/xla/xla/pjrt/gpu/gpu_helpers.cc:63] Unable to enable peer access between GPUs 7 and 9; status: INTERNAL: failed to enable peer access from 0x7fc784624780 to 0x7fc7906386c0: CUDA_ERROR_TOO_MANY_PEERS: peer mapping resources exhausted\n",
      "2023-06-26 16:38:44.630206: W external/xla/xla/pjrt/gpu/gpu_helpers.cc:63] Unable to enable peer access between GPUs 8 and 9; status: INTERNAL: failed to enable peer access from 0x7fc7a8624d50 to 0x7fc7906386c0: CUDA_ERROR_TOO_MANY_PEERS: peer mapping resources exhausted\n",
      "2023-06-26 16:38:44.630398: W external/xla/xla/pjrt/gpu/gpu_helpers.cc:63] Unable to enable peer access between GPUs 9 and 0; status: INTERNAL: failed to enable peer access from 0x7fc7906386c0 to 0x7fc7946248c0: CUDA_ERROR_TOO_MANY_PEERS: peer mapping resources exhausted\n",
      "2023-06-26 16:38:44.630658: W external/xla/xla/pjrt/gpu/gpu_helpers.cc:63] Unable to enable peer access between GPUs 9 and 1; status: INTERNAL: failed to enable peer access from 0x7fc7906386c0 to 0x7fc7a4624c50: CUDA_ERROR_TOO_MANY_PEERS: peer mapping resources exhausted\n",
      "2023-06-26 16:38:44.630842: W external/xla/xla/pjrt/gpu/gpu_helpers.cc:63] Unable to enable peer access between GPUs 9 and 2; status: INTERNAL: failed to enable peer access from 0x7fc7906386c0 to 0x7fc79c6246e0: CUDA_ERROR_TOO_MANY_PEERS: peer mapping resources exhausted\n",
      "2023-06-26 16:38:44.631040: W external/xla/xla/pjrt/gpu/gpu_helpers.cc:63] Unable to enable peer access between GPUs 9 and 3; status: INTERNAL: failed to enable peer access from 0x7fc7906386c0 to 0x7fc7ac6273d0: CUDA_ERROR_TOO_MANY_PEERS: peer mapping resources exhausted\n",
      "2023-06-26 16:38:44.631241: W external/xla/xla/pjrt/gpu/gpu_helpers.cc:63] Unable to enable peer access between GPUs 9 and 4; status: INTERNAL: failed to enable peer access from 0x7fc7906386c0 to 0x7fc7a079e0e0: CUDA_ERROR_TOO_MANY_PEERS: peer mapping resources exhausted\n",
      "2023-06-26 16:38:44.631572: W external/xla/xla/pjrt/gpu/gpu_helpers.cc:63] Unable to enable peer access between GPUs 9 and 5; status: INTERNAL: failed to enable peer access from 0x7fc7906386c0 to 0x7fc798624d40: CUDA_ERROR_TOO_MANY_PEERS: peer mapping resources exhausted\n",
      "2023-06-26 16:38:44.631848: W external/xla/xla/pjrt/gpu/gpu_helpers.cc:63] Unable to enable peer access between GPUs 9 and 6; status: INTERNAL: failed to enable peer access from 0x7fc7906386c0 to 0x7fc78c666530: CUDA_ERROR_TOO_MANY_PEERS: peer mapping resources exhausted\n",
      "2023-06-26 16:38:44.632130: W external/xla/xla/pjrt/gpu/gpu_helpers.cc:63] Unable to enable peer access between GPUs 9 and 7; status: INTERNAL: failed to enable peer access from 0x7fc7906386c0 to 0x7fc784624780: CUDA_ERROR_TOO_MANY_PEERS: peer mapping resources exhausted\n",
      "2023-06-26 16:38:44.632404: W external/xla/xla/pjrt/gpu/gpu_helpers.cc:63] Unable to enable peer access between GPUs 9 and 8; status: INTERNAL: failed to enable peer access from 0x7fc7906386c0 to 0x7fc7a8624d50: CUDA_ERROR_TOO_MANY_PEERS: peer mapping resources exhausted\n",
      "INFO:jax._src.xla_bridge:Unable to initialize backend 'rocm': NOT_FOUND: Could not find registered platform with name: \"rocm\". Available platform names are: CUDA Host Interpreter\n",
      "INFO:jax._src.xla_bridge:Unable to initialize backend 'tpu': module 'jaxlib.xla_extension' has no attribute 'get_tpu_client'\n",
      "INFO:jax._src.xla_bridge:Unable to initialize backend 'plugin': xla_extension has no attributes named get_plugin_device_client. Compile TensorFlow with //tensorflow/compiler/xla/python:enable_plugin_device set to true (defaults to false) to enable this.\n"
     ]
    },
    {
     "name": "stdout",
     "output_type": "stream",
     "text": [
      "[StreamExecutorGpuDevice(id=0, process_index=0, slice_index=0),\n",
      " StreamExecutorGpuDevice(id=1, process_index=0, slice_index=0),\n",
      " StreamExecutorGpuDevice(id=2, process_index=0, slice_index=0),\n",
      " StreamExecutorGpuDevice(id=3, process_index=0, slice_index=0),\n",
      " StreamExecutorGpuDevice(id=4, process_index=0, slice_index=0),\n",
      " StreamExecutorGpuDevice(id=5, process_index=0, slice_index=0),\n",
      " StreamExecutorGpuDevice(id=6, process_index=0, slice_index=0),\n",
      " StreamExecutorGpuDevice(id=7, process_index=0, slice_index=0),\n",
      " StreamExecutorGpuDevice(id=8, process_index=0, slice_index=0),\n",
      " StreamExecutorGpuDevice(id=9, process_index=0, slice_index=0)]\n"
     ]
    }
   ],
   "source": [
    "import jax\n",
    "import pprint\n",
    "\n",
    "pprint.pprint(jax.devices())"
   ]
  },
  {
   "cell_type": "code",
   "execution_count": 3,
   "metadata": {},
   "outputs": [
    {
     "data": {
      "text/plain": [
       "StreamExecutorGpuDevice(id=0, process_index=0, slice_index=0)"
      ]
     },
     "execution_count": 3,
     "metadata": {},
     "output_type": "execute_result"
    }
   ],
   "source": [
    "device_id = 0\n",
    "device = jax.devices()[device_id]\n",
    "device"
   ]
  },
  {
   "cell_type": "code",
   "execution_count": 4,
   "metadata": {},
   "outputs": [],
   "source": [
    "jax.config.update(\"jax_default_device\", device)"
   ]
  },
  {
   "cell_type": "code",
   "execution_count": 5,
   "metadata": {},
   "outputs": [
    {
     "name": "stderr",
     "output_type": "stream",
     "text": [
      "INFO:numexpr.utils:Note: detected 96 virtual cores but NumExpr set to maximum of 64, check \"NUMEXPR_MAX_THREADS\" environment variable.\n",
      "INFO:numexpr.utils:Note: NumExpr detected 96 cores but \"NUMEXPR_MAX_THREADS\" not set, so enforcing safe limit of 8.\n",
      "INFO:numexpr.utils:NumExpr defaulting to 8 threads.\n",
      "WARNING:replay_trajectory_classification.core:Cupy is not installed or GPU is not detected. Ignore this message if not using GPU\n",
      "/home/edeno/miniconda3/envs/non_local_detector_gpu/lib/python3.10/site-packages/replay_trajectory_classification/likelihoods/multiunit_likelihood.py:8: TqdmExperimentalWarning: Using `tqdm.autonotebook.tqdm` in notebook mode. Use `tqdm.tqdm` instead to force console mode (e.g. in jupyter console)\n",
      "  from tqdm.autonotebook import tqdm\n"
     ]
    }
   ],
   "source": [
    "from replay_trajectory_classification.sorted_spikes_simulation import (\n",
    "    make_simulated_run_data,\n",
    ")\n",
    "\n",
    "MM_TO_INCHES = 1.0 / 25.4\n",
    "TWO_COLUMN = 178.0 * MM_TO_INCHES\n",
    "GOLDEN_RATIO = (np.sqrt(5) - 1.0) / 2.0\n",
    "\n",
    "(\n",
    "    time,\n",
    "    linear_distance,\n",
    "    sampling_frequency,\n",
    "    spikes,\n",
    "    place_fields,\n",
    ") = make_simulated_run_data()"
   ]
  },
  {
   "cell_type": "code",
   "execution_count": 6,
   "metadata": {},
   "outputs": [],
   "source": [
    "from replay_trajectory_classification.sorted_spikes_simulation import (\n",
    "    make_fragmented_continuous_fragmented_replay,\n",
    ")\n",
    "\n",
    "replay_time, test_spikes = make_fragmented_continuous_fragmented_replay()\n",
    "\n",
    "state_names = [\"Continuous\", \"Fragmented\"]"
   ]
  },
  {
   "cell_type": "code",
   "execution_count": 7,
   "metadata": {},
   "outputs": [],
   "source": [
    "from replay_trajectory_classification import (\n",
    "    Environment,\n",
    "    RandomWalk,\n",
    "    Uniform,\n",
    "    estimate_movement_var,\n",
    ")\n",
    "\n",
    "\n",
    "movement_var = estimate_movement_var(linear_distance, sampling_frequency)\n",
    "\n",
    "environment = Environment(place_bin_size=np.sqrt(movement_var))\n",
    "continuous_transition_types = [\n",
    "    [RandomWalk(movement_var=movement_var * 120), Uniform()],\n",
    "    [Uniform(), Uniform()],\n",
    "]"
   ]
  },
  {
   "cell_type": "code",
   "execution_count": 14,
   "metadata": {},
   "outputs": [],
   "source": [
    "from non_local_detector import ContFragSortedSpikesClassifier\n",
    "from non_local_detector.discrete_state_transitions import DiscreteNonStationaryDiagonal\n",
    "\n",
    "discrete_transition_type = DiscreteNonStationaryDiagonal(\n",
    "    diagonal_values=np.array([0.98, 0.98])\n",
    ")\n",
    "\n",
    "\n",
    "discrete_transition_covariate_data = {\"speed\": linear_distance}"
   ]
  },
  {
   "cell_type": "code",
   "execution_count": 15,
   "metadata": {},
   "outputs": [
    {
     "name": "stderr",
     "output_type": "stream",
     "text": [
      "INFO:non_local_detector.models.base:Fitting initial conditions...\n",
      "INFO:non_local_detector.models.base:Fitting discrete state transition\n"
     ]
    },
    {
     "name": "stderr",
     "output_type": "stream",
     "text": [
      "INFO:non_local_detector.models.base:Fitting continuous state transition...\n",
      "INFO:non_local_detector.models.base:Fitting place fields...\n"
     ]
    },
    {
     "data": {
      "application/vnd.jupyter.widget-view+json": {
       "model_id": "0659a29bc12a421c80e3b893d92ca08b",
       "version_major": 2,
       "version_minor": 0
      },
      "text/plain": [
       "Encoding models:   0%|          | 0/19 [00:00<?, ?cell/s]"
      ]
     },
     "metadata": {},
     "output_type": "display_data"
    },
    {
     "name": "stderr",
     "output_type": "stream",
     "text": [
      "INFO:non_local_detector.models.base:Computing log likelihood...\n"
     ]
    },
    {
     "data": {
      "application/vnd.jupyter.widget-view+json": {
       "model_id": "ee7ee52ada98492fa248a16d68caf10f",
       "version_major": 2,
       "version_minor": 0
      },
      "text/plain": [
       "Non-Local Likelihood:   0%|          | 0/19 [00:00<?, ?cell/s]"
      ]
     },
     "metadata": {},
     "output_type": "display_data"
    },
    {
     "name": "stderr",
     "output_type": "stream",
     "text": [
      "INFO:non_local_detector.models.base:Computing posterior...\n"
     ]
    },
    {
     "ename": "TracerArrayConversionError",
     "evalue": "The numpy.ndarray conversion method __array__() was called on the JAX Tracer object Traced<ShapedArray(int32[])>with<DynamicJaxprTrace(level=3/0)>\nThe error occurred while tracing the function _step at /cumulus/edeno/non_local_detector/src/non_local_detector/core.py:255 for scan. This concrete value was not available in Python because it depends on the value of the argument t.\nSee https://jax.readthedocs.io/en/latest/errors.html#jax.errors.TracerArrayConversionError",
     "output_type": "error",
     "traceback": [
      "\u001b[0;31m---------------------------------------------------------------------------\u001b[0m",
      "\u001b[0;31mTracerArrayConversionError\u001b[0m                Traceback (most recent call last)",
      "Cell \u001b[0;32mIn[15], line 8\u001b[0m\n\u001b[1;32m      1\u001b[0m classifier3 \u001b[39m=\u001b[39m ContFragSortedSpikesClassifier(\n\u001b[1;32m      2\u001b[0m     environments\u001b[39m=\u001b[39menvironment,\n\u001b[1;32m      3\u001b[0m     discrete_transition_type\u001b[39m=\u001b[39mdiscrete_transition_type,\n\u001b[0;32m   (...)\u001b[0m\n\u001b[1;32m      6\u001b[0m     sorted_spikes_algorithm_params\u001b[39m=\u001b[39m{\u001b[39m\"\u001b[39m\u001b[39mposition_std\u001b[39m\u001b[39m\"\u001b[39m: \u001b[39m5.0\u001b[39m},\n\u001b[1;32m      7\u001b[0m )\u001b[39m.\u001b[39mfit(linear_distance, spikes, discrete_transition_covariate_data\u001b[39m=\u001b[39mdiscrete_transition_covariate_data)\n\u001b[0;32m----> 8\u001b[0m results3 \u001b[39m=\u001b[39m classifier3\u001b[39m.\u001b[39;49mpredict(test_spikes, time\u001b[39m=\u001b[39;49mreplay_time)\n",
      "File \u001b[0;32m/cumulus/edeno/non_local_detector/src/non_local_detector/models/base.py:1121\u001b[0m, in \u001b[0;36mSortedSpikesDetector.predict\u001b[0;34m(self, spikes, position, time, is_missing)\u001b[0m\n\u001b[1;32m   1111\u001b[0m \u001b[39mdef\u001b[39;00m \u001b[39mpredict\u001b[39m(\u001b[39mself\u001b[39m, spikes, position\u001b[39m=\u001b[39m\u001b[39mNone\u001b[39;00m, time\u001b[39m=\u001b[39m\u001b[39mNone\u001b[39;00m, is_missing\u001b[39m=\u001b[39m\u001b[39mNone\u001b[39;00m):\n\u001b[1;32m   1112\u001b[0m     \u001b[39mself\u001b[39m\u001b[39m.\u001b[39mlog_likelihood_ \u001b[39m=\u001b[39m \u001b[39mself\u001b[39m\u001b[39m.\u001b[39mcompute_log_likelihood(position, spikes, is_missing)\n\u001b[1;32m   1113\u001b[0m     (\n\u001b[1;32m   1114\u001b[0m         causal_posterior,\n\u001b[1;32m   1115\u001b[0m         acausal_posterior,\n\u001b[1;32m   1116\u001b[0m         _,\n\u001b[1;32m   1117\u001b[0m         _,\n\u001b[1;32m   1118\u001b[0m         acausal_state_probabilities,\n\u001b[1;32m   1119\u001b[0m         _,\n\u001b[1;32m   1120\u001b[0m         marginal_log_likelihood,\n\u001b[0;32m-> 1121\u001b[0m     ) \u001b[39m=\u001b[39m \u001b[39mself\u001b[39;49m\u001b[39m.\u001b[39;49m_predict()\n\u001b[1;32m   1123\u001b[0m     \u001b[39mreturn\u001b[39;00m \u001b[39mself\u001b[39m\u001b[39m.\u001b[39m_convert_results_to_xarray(\n\u001b[1;32m   1124\u001b[0m         time,\n\u001b[1;32m   1125\u001b[0m         causal_posterior,\n\u001b[0;32m   (...)\u001b[0m\n\u001b[1;32m   1128\u001b[0m         marginal_log_likelihood,\n\u001b[1;32m   1129\u001b[0m     )\n",
      "File \u001b[0;32m/cumulus/edeno/non_local_detector/src/non_local_detector/models/base.py:470\u001b[0m, in \u001b[0;36m_DetectorBase._predict\u001b[0;34m(self)\u001b[0m\n\u001b[1;32m    456\u001b[0m cross_is_track_interior \u001b[39m=\u001b[39m np\u001b[39m.\u001b[39mix_(is_track_interior, is_track_interior)\n\u001b[1;32m    458\u001b[0m transition_fn \u001b[39m=\u001b[39m partial(\n\u001b[1;32m    459\u001b[0m     get_transition_matrix,\n\u001b[1;32m    460\u001b[0m     \u001b[39mself\u001b[39m\u001b[39m.\u001b[39mcontinuous_state_transitions_[cross_is_track_interior],\n\u001b[1;32m    461\u001b[0m     \u001b[39mself\u001b[39m\u001b[39m.\u001b[39mdiscrete_state_transitions_,\n\u001b[1;32m    462\u001b[0m     \u001b[39mself\u001b[39m\u001b[39m.\u001b[39mstate_ind_[is_track_interior],\n\u001b[1;32m    463\u001b[0m )\n\u001b[1;32m    465\u001b[0m (\n\u001b[1;32m    466\u001b[0m     marginal_log_likelihood,\n\u001b[1;32m    467\u001b[0m     causal_posterior,\n\u001b[1;32m    468\u001b[0m     predictive_distribution,\n\u001b[1;32m    469\u001b[0m     acausal_posterior,\n\u001b[0;32m--> 470\u001b[0m ) \u001b[39m=\u001b[39m hmm_smoother(\n\u001b[1;32m    471\u001b[0m     \u001b[39mself\u001b[39;49m\u001b[39m.\u001b[39;49minitial_conditions_[is_track_interior],\n\u001b[1;32m    472\u001b[0m     \u001b[39mNone\u001b[39;49;00m,\n\u001b[1;32m    473\u001b[0m     \u001b[39mself\u001b[39;49m\u001b[39m.\u001b[39;49mlog_likelihood_[:, is_track_interior],\n\u001b[1;32m    474\u001b[0m     transition_fn\u001b[39m=\u001b[39;49mtransition_fn,\n\u001b[1;32m    475\u001b[0m )\n\u001b[1;32m    477\u001b[0m (\n\u001b[1;32m    478\u001b[0m     causal_state_probabilities,\n\u001b[1;32m    479\u001b[0m     acausal_state_probabilities,\n\u001b[0;32m   (...)\u001b[0m\n\u001b[1;32m    485\u001b[0m     \u001b[39mself\u001b[39m\u001b[39m.\u001b[39mstate_ind_[is_track_interior],\n\u001b[1;32m    486\u001b[0m )\n\u001b[1;32m    487\u001b[0m logger\u001b[39m.\u001b[39minfo(\u001b[39m\"\u001b[39m\u001b[39mFinished computing posterior...\u001b[39m\u001b[39m\"\u001b[39m)\n",
      "    \u001b[0;31m[... skipping hidden 12 frame]\u001b[0m\n",
      "File \u001b[0;32m/cumulus/edeno/non_local_detector/src/non_local_detector/core.py:309\u001b[0m, in \u001b[0;36mhmm_smoother\u001b[0;34m(initial_distribution, transition_matrix, log_likelihoods, transition_fn)\u001b[0m\n\u001b[1;32m    306\u001b[0m num_timesteps \u001b[39m=\u001b[39m log_likelihoods\u001b[39m.\u001b[39mshape[\u001b[39m0\u001b[39m]\n\u001b[1;32m    308\u001b[0m \u001b[39m# Run the HMM filter\u001b[39;00m\n\u001b[0;32m--> 309\u001b[0m (marginal_loglik, filtered_probs, predicted_probs) \u001b[39m=\u001b[39m hmm_filter(\n\u001b[1;32m    310\u001b[0m     initial_distribution, transition_matrix, log_likelihoods, transition_fn\n\u001b[1;32m    311\u001b[0m )\n\u001b[1;32m    313\u001b[0m \u001b[39m# Run the smoother backward in time\u001b[39;00m\n\u001b[1;32m    314\u001b[0m \u001b[39mdef\u001b[39;00m \u001b[39m_step\u001b[39m(carry, args):\n\u001b[1;32m    315\u001b[0m     \u001b[39m# Unpack the inputs\u001b[39;00m\n",
      "    \u001b[0;31m[... skipping hidden 12 frame]\u001b[0m\n",
      "File \u001b[0;32m/cumulus/edeno/non_local_detector/src/non_local_detector/core.py:268\u001b[0m, in \u001b[0;36mhmm_filter\u001b[0;34m(initial_distribution, transition_matrix, log_likelihoods, transition_fn)\u001b[0m\n\u001b[1;32m    265\u001b[0m     \u001b[39mreturn\u001b[39;00m (log_normalizer, predicted_probs_next), (filtered_probs, predicted_probs)\n\u001b[1;32m    267\u001b[0m carry \u001b[39m=\u001b[39m (\u001b[39m0.0\u001b[39m, initial_distribution)\n\u001b[0;32m--> 268\u001b[0m (log_normalizer, _), (filtered_probs, predicted_probs) \u001b[39m=\u001b[39m jax\u001b[39m.\u001b[39;49mlax\u001b[39m.\u001b[39;49mscan(\n\u001b[1;32m    269\u001b[0m     _step, carry, jnp\u001b[39m.\u001b[39;49marange(num_timesteps)\n\u001b[1;32m    270\u001b[0m )\n\u001b[1;32m    272\u001b[0m \u001b[39mreturn\u001b[39;00m (\n\u001b[1;32m    273\u001b[0m     log_normalizer,\n\u001b[1;32m    274\u001b[0m     filtered_probs,\n\u001b[1;32m    275\u001b[0m     predicted_probs,\n\u001b[1;32m    276\u001b[0m )\n",
      "    \u001b[0;31m[... skipping hidden 9 frame]\u001b[0m\n",
      "File \u001b[0;32m/cumulus/edeno/non_local_detector/src/non_local_detector/core.py:258\u001b[0m, in \u001b[0;36mhmm_filter.<locals>._step\u001b[0;34m(carry, t)\u001b[0m\n\u001b[1;32m    255\u001b[0m \u001b[39mdef\u001b[39;00m \u001b[39m_step\u001b[39m(carry, t):\n\u001b[1;32m    256\u001b[0m     log_normalizer, predicted_probs \u001b[39m=\u001b[39m carry\n\u001b[0;32m--> 258\u001b[0m     A \u001b[39m=\u001b[39m get_trans_mat(transition_matrix, transition_fn, t)\n\u001b[1;32m    259\u001b[0m     ll \u001b[39m=\u001b[39m log_likelihoods[t]\n\u001b[1;32m    261\u001b[0m     filtered_probs, log_norm \u001b[39m=\u001b[39m _condition_on(predicted_probs, ll)\n",
      "File \u001b[0;32m/cumulus/edeno/non_local_detector/src/non_local_detector/core.py:181\u001b[0m, in \u001b[0;36mget_trans_mat\u001b[0;34m(transition_matrix, transition_fn, t)\u001b[0m\n\u001b[1;32m    179\u001b[0m \u001b[39mdef\u001b[39;00m \u001b[39mget_trans_mat\u001b[39m(transition_matrix, transition_fn, t):\n\u001b[1;32m    180\u001b[0m     \u001b[39mif\u001b[39;00m transition_fn \u001b[39mis\u001b[39;00m \u001b[39mnot\u001b[39;00m \u001b[39mNone\u001b[39;00m:\n\u001b[0;32m--> 181\u001b[0m         \u001b[39mreturn\u001b[39;00m transition_fn(t)\n\u001b[1;32m    182\u001b[0m     \u001b[39melse\u001b[39;00m:\n\u001b[1;32m    183\u001b[0m         \u001b[39mif\u001b[39;00m transition_matrix\u001b[39m.\u001b[39mndim \u001b[39m==\u001b[39m \u001b[39m3\u001b[39m:  \u001b[39m# (T,K,K)\u001b[39;00m\n",
      "File \u001b[0;32m/cumulus/edeno/non_local_detector/src/non_local_detector/core.py:40\u001b[0m, in \u001b[0;36mget_transition_matrix\u001b[0;34m(continuous_state_transitions, discrete_state_transitions, state_ind, t)\u001b[0m\n\u001b[1;32m     33\u001b[0m     \u001b[39mreturn\u001b[39;00m (\n\u001b[1;32m     34\u001b[0m         continuous_state_transitions\n\u001b[1;32m     35\u001b[0m         \u001b[39m*\u001b[39m discrete_state_transitions[np\u001b[39m.\u001b[39mix_(state_ind, state_ind)]\n\u001b[1;32m     36\u001b[0m     )\n\u001b[1;32m     37\u001b[0m \u001b[39melse\u001b[39;00m:\n\u001b[1;32m     38\u001b[0m     \u001b[39mreturn\u001b[39;00m (\n\u001b[1;32m     39\u001b[0m         continuous_state_transitions\n\u001b[0;32m---> 40\u001b[0m         \u001b[39m*\u001b[39m discrete_state_transitions[t][np\u001b[39m.\u001b[39mix_(state_ind, state_ind)]\n\u001b[1;32m     41\u001b[0m     )\n",
      "File \u001b[0;32m~/miniconda3/envs/non_local_detector_gpu/lib/python3.10/site-packages/jax/_src/core.py:598\u001b[0m, in \u001b[0;36mTracer.__array__\u001b[0;34m(self, *args, **kw)\u001b[0m\n\u001b[1;32m    597\u001b[0m \u001b[39mdef\u001b[39;00m \u001b[39m__array__\u001b[39m(\u001b[39mself\u001b[39m, \u001b[39m*\u001b[39margs, \u001b[39m*\u001b[39m\u001b[39m*\u001b[39mkw):\n\u001b[0;32m--> 598\u001b[0m   \u001b[39mraise\u001b[39;00m TracerArrayConversionError(\u001b[39mself\u001b[39m)\n",
      "\u001b[0;31mTracerArrayConversionError\u001b[0m: The numpy.ndarray conversion method __array__() was called on the JAX Tracer object Traced<ShapedArray(int32[])>with<DynamicJaxprTrace(level=3/0)>\nThe error occurred while tracing the function _step at /cumulus/edeno/non_local_detector/src/non_local_detector/core.py:255 for scan. This concrete value was not available in Python because it depends on the value of the argument t.\nSee https://jax.readthedocs.io/en/latest/errors.html#jax.errors.TracerArrayConversionError"
     ]
    }
   ],
   "source": [
    "classifier3 = ContFragSortedSpikesClassifier(\n",
    "    environments=environment,\n",
    "    discrete_transition_type=discrete_transition_type,\n",
    "    continuous_transition_types=continuous_transition_types,\n",
    "    sorted_spikes_algorithm=\"sorted_spikes_kde\",\n",
    "    sorted_spikes_algorithm_params={\"position_std\": 5.0},\n",
    ").fit(linear_distance, spikes, discrete_transition_covariate_data=discrete_transition_covariate_data)\n",
    "results3 = classifier3.predict(test_spikes, time=replay_time)"
   ]
  },
  {
   "cell_type": "code",
   "execution_count": null,
   "metadata": {},
   "outputs": [],
   "source": []
  }
 ],
 "metadata": {
  "kernelspec": {
   "display_name": "non_local_detector_gpu",
   "language": "python",
   "name": "python3"
  },
  "language_info": {
   "codemirror_mode": {
    "name": "ipython",
    "version": 3
   },
   "file_extension": ".py",
   "mimetype": "text/x-python",
   "name": "python",
   "nbconvert_exporter": "python",
   "pygments_lexer": "ipython3",
   "version": "3.10.11"
  },
  "orig_nbformat": 4
 },
 "nbformat": 4,
 "nbformat_minor": 2
}
