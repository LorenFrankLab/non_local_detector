{
 "cells": [
  {
   "cell_type": "code",
   "execution_count": 1,
   "metadata": {},
   "outputs": [],
   "source": [
    "import logging\n",
    "\n",
    "import numpy as np\n",
    "import matplotlib.pyplot as plt\n",
    "\n",
    "# Make analysis reproducible\n",
    "np.random.seed(0)\n",
    "\n",
    "# Enable logging\n",
    "logging.basicConfig(level=logging.INFO)"
   ]
  },
  {
   "cell_type": "code",
   "execution_count": 2,
   "metadata": {},
   "outputs": [
    {
     "name": "stderr",
     "output_type": "stream",
     "text": [
      "2023-06-26 17:34:42.014675: W external/xla/xla/pjrt/gpu/gpu_helpers.cc:63] Unable to enable peer access between GPUs 0 and 9; status: INTERNAL: failed to enable peer access from 0x7f58887d5bf0 to 0x7f5898624a80: CUDA_ERROR_TOO_MANY_PEERS: peer mapping resources exhausted\n",
      "2023-06-26 17:34:42.029491: W external/xla/xla/pjrt/gpu/gpu_helpers.cc:63] Unable to enable peer access between GPUs 1 and 9; status: INTERNAL: failed to enable peer access from 0x7f5890625440 to 0x7f5898624a80: CUDA_ERROR_TOO_MANY_PEERS: peer mapping resources exhausted\n",
      "2023-06-26 17:34:42.043813: W external/xla/xla/pjrt/gpu/gpu_helpers.cc:63] Unable to enable peer access between GPUs 2 and 9; status: INTERNAL: failed to enable peer access from 0x7f58a0624f60 to 0x7f5898624a80: CUDA_ERROR_TOO_MANY_PEERS: peer mapping resources exhausted\n",
      "2023-06-26 17:34:42.055050: W external/xla/xla/pjrt/gpu/gpu_helpers.cc:63] Unable to enable peer access between GPUs 3 and 9; status: INTERNAL: failed to enable peer access from 0x7f588c624b50 to 0x7f5898624a80: CUDA_ERROR_TOO_MANY_PEERS: peer mapping resources exhausted\n",
      "2023-06-26 17:34:42.063812: W external/xla/xla/pjrt/gpu/gpu_helpers.cc:63] Unable to enable peer access between GPUs 4 and 9; status: INTERNAL: failed to enable peer access from 0x7f58a4624ae0 to 0x7f5898624a80: CUDA_ERROR_TOO_MANY_PEERS: peer mapping resources exhausted\n",
      "2023-06-26 17:34:42.070001: W external/xla/xla/pjrt/gpu/gpu_helpers.cc:63] Unable to enable peer access between GPUs 5 and 9; status: INTERNAL: failed to enable peer access from 0x7f58a8627020 to 0x7f5898624a80: CUDA_ERROR_TOO_MANY_PEERS: peer mapping resources exhausted\n",
      "2023-06-26 17:34:42.074106: W external/xla/xla/pjrt/gpu/gpu_helpers.cc:63] Unable to enable peer access between GPUs 6 and 9; status: INTERNAL: failed to enable peer access from 0x7f589c624890 to 0x7f5898624a80: CUDA_ERROR_TOO_MANY_PEERS: peer mapping resources exhausted\n",
      "2023-06-26 17:34:42.076385: W external/xla/xla/pjrt/gpu/gpu_helpers.cc:63] Unable to enable peer access between GPUs 7 and 9; status: INTERNAL: failed to enable peer access from 0x7f58946397f0 to 0x7f5898624a80: CUDA_ERROR_TOO_MANY_PEERS: peer mapping resources exhausted\n",
      "2023-06-26 17:34:42.076544: W external/xla/xla/pjrt/gpu/gpu_helpers.cc:63] Unable to enable peer access between GPUs 8 and 9; status: INTERNAL: failed to enable peer access from 0x7f58ac624b90 to 0x7f5898624a80: CUDA_ERROR_TOO_MANY_PEERS: peer mapping resources exhausted\n",
      "2023-06-26 17:34:42.076662: W external/xla/xla/pjrt/gpu/gpu_helpers.cc:63] Unable to enable peer access between GPUs 9 and 0; status: INTERNAL: failed to enable peer access from 0x7f5898624a80 to 0x7f58887d5bf0: CUDA_ERROR_TOO_MANY_PEERS: peer mapping resources exhausted\n",
      "2023-06-26 17:34:42.076856: W external/xla/xla/pjrt/gpu/gpu_helpers.cc:63] Unable to enable peer access between GPUs 9 and 1; status: INTERNAL: failed to enable peer access from 0x7f5898624a80 to 0x7f5890625440: CUDA_ERROR_TOO_MANY_PEERS: peer mapping resources exhausted\n",
      "2023-06-26 17:34:42.077050: W external/xla/xla/pjrt/gpu/gpu_helpers.cc:63] Unable to enable peer access between GPUs 9 and 2; status: INTERNAL: failed to enable peer access from 0x7f5898624a80 to 0x7f58a0624f60: CUDA_ERROR_TOO_MANY_PEERS: peer mapping resources exhausted\n",
      "2023-06-26 17:34:42.077245: W external/xla/xla/pjrt/gpu/gpu_helpers.cc:63] Unable to enable peer access between GPUs 9 and 3; status: INTERNAL: failed to enable peer access from 0x7f5898624a80 to 0x7f588c624b50: CUDA_ERROR_TOO_MANY_PEERS: peer mapping resources exhausted\n",
      "2023-06-26 17:34:42.077438: W external/xla/xla/pjrt/gpu/gpu_helpers.cc:63] Unable to enable peer access between GPUs 9 and 4; status: INTERNAL: failed to enable peer access from 0x7f5898624a80 to 0x7f58a4624ae0: CUDA_ERROR_TOO_MANY_PEERS: peer mapping resources exhausted\n",
      "2023-06-26 17:34:42.077627: W external/xla/xla/pjrt/gpu/gpu_helpers.cc:63] Unable to enable peer access between GPUs 9 and 5; status: INTERNAL: failed to enable peer access from 0x7f5898624a80 to 0x7f58a8627020: CUDA_ERROR_TOO_MANY_PEERS: peer mapping resources exhausted\n",
      "2023-06-26 17:34:42.077817: W external/xla/xla/pjrt/gpu/gpu_helpers.cc:63] Unable to enable peer access between GPUs 9 and 6; status: INTERNAL: failed to enable peer access from 0x7f5898624a80 to 0x7f589c624890: CUDA_ERROR_TOO_MANY_PEERS: peer mapping resources exhausted\n",
      "2023-06-26 17:34:42.078011: W external/xla/xla/pjrt/gpu/gpu_helpers.cc:63] Unable to enable peer access between GPUs 9 and 7; status: INTERNAL: failed to enable peer access from 0x7f5898624a80 to 0x7f58946397f0: CUDA_ERROR_TOO_MANY_PEERS: peer mapping resources exhausted\n",
      "2023-06-26 17:34:42.078114: W external/xla/xla/pjrt/gpu/gpu_helpers.cc:63] Unable to enable peer access between GPUs 9 and 8; status: INTERNAL: failed to enable peer access from 0x7f5898624a80 to 0x7f58ac624b90: CUDA_ERROR_TOO_MANY_PEERS: peer mapping resources exhausted\n",
      "INFO:jax._src.xla_bridge:Unable to initialize backend 'rocm': NOT_FOUND: Could not find registered platform with name: \"rocm\". Available platform names are: Interpreter Host CUDA\n",
      "INFO:jax._src.xla_bridge:Unable to initialize backend 'tpu': module 'jaxlib.xla_extension' has no attribute 'get_tpu_client'\n",
      "INFO:jax._src.xla_bridge:Unable to initialize backend 'plugin': xla_extension has no attributes named get_plugin_device_client. Compile TensorFlow with //tensorflow/compiler/xla/python:enable_plugin_device set to true (defaults to false) to enable this.\n"
     ]
    },
    {
     "name": "stdout",
     "output_type": "stream",
     "text": [
      "[StreamExecutorGpuDevice(id=0, process_index=0, slice_index=0),\n",
      " StreamExecutorGpuDevice(id=1, process_index=0, slice_index=0),\n",
      " StreamExecutorGpuDevice(id=2, process_index=0, slice_index=0),\n",
      " StreamExecutorGpuDevice(id=3, process_index=0, slice_index=0),\n",
      " StreamExecutorGpuDevice(id=4, process_index=0, slice_index=0),\n",
      " StreamExecutorGpuDevice(id=5, process_index=0, slice_index=0),\n",
      " StreamExecutorGpuDevice(id=6, process_index=0, slice_index=0),\n",
      " StreamExecutorGpuDevice(id=7, process_index=0, slice_index=0),\n",
      " StreamExecutorGpuDevice(id=8, process_index=0, slice_index=0),\n",
      " StreamExecutorGpuDevice(id=9, process_index=0, slice_index=0)]\n"
     ]
    }
   ],
   "source": [
    "import jax\n",
    "import pprint\n",
    "\n",
    "pprint.pprint(jax.devices())"
   ]
  },
  {
   "cell_type": "code",
   "execution_count": 3,
   "metadata": {},
   "outputs": [
    {
     "data": {
      "text/plain": [
       "StreamExecutorGpuDevice(id=0, process_index=0, slice_index=0)"
      ]
     },
     "execution_count": 3,
     "metadata": {},
     "output_type": "execute_result"
    }
   ],
   "source": [
    "device_id = 0\n",
    "device = jax.devices()[device_id]\n",
    "device"
   ]
  },
  {
   "cell_type": "code",
   "execution_count": 4,
   "metadata": {},
   "outputs": [],
   "source": [
    "jax.config.update(\"jax_default_device\", device)"
   ]
  },
  {
   "cell_type": "code",
   "execution_count": 5,
   "metadata": {},
   "outputs": [
    {
     "name": "stderr",
     "output_type": "stream",
     "text": [
      "INFO:numexpr.utils:Note: detected 96 virtual cores but NumExpr set to maximum of 64, check \"NUMEXPR_MAX_THREADS\" environment variable.\n",
      "INFO:numexpr.utils:Note: NumExpr detected 96 cores but \"NUMEXPR_MAX_THREADS\" not set, so enforcing safe limit of 8.\n",
      "INFO:numexpr.utils:NumExpr defaulting to 8 threads.\n",
      "WARNING:replay_trajectory_classification.core:Cupy is not installed or GPU is not detected. Ignore this message if not using GPU\n",
      "/home/edeno/miniconda3/envs/non_local_detector_gpu/lib/python3.10/site-packages/replay_trajectory_classification/likelihoods/multiunit_likelihood.py:8: TqdmExperimentalWarning: Using `tqdm.autonotebook.tqdm` in notebook mode. Use `tqdm.tqdm` instead to force console mode (e.g. in jupyter console)\n",
      "  from tqdm.autonotebook import tqdm\n"
     ]
    }
   ],
   "source": [
    "from replay_trajectory_classification.sorted_spikes_simulation import (\n",
    "    make_simulated_run_data,\n",
    ")\n",
    "\n",
    "MM_TO_INCHES = 1.0 / 25.4\n",
    "TWO_COLUMN = 178.0 * MM_TO_INCHES\n",
    "GOLDEN_RATIO = (np.sqrt(5) - 1.0) / 2.0\n",
    "\n",
    "(\n",
    "    time,\n",
    "    linear_distance,\n",
    "    sampling_frequency,\n",
    "    spikes,\n",
    "    place_fields,\n",
    ") = make_simulated_run_data()"
   ]
  },
  {
   "cell_type": "code",
   "execution_count": 6,
   "metadata": {},
   "outputs": [],
   "source": [
    "from replay_trajectory_classification.sorted_spikes_simulation import (\n",
    "    make_fragmented_continuous_fragmented_replay,\n",
    ")\n",
    "\n",
    "replay_time, test_spikes = make_fragmented_continuous_fragmented_replay()\n",
    "\n",
    "state_names = [\"Continuous\", \"Fragmented\"]"
   ]
  },
  {
   "cell_type": "code",
   "execution_count": 7,
   "metadata": {},
   "outputs": [],
   "source": [
    "from replay_trajectory_classification import (\n",
    "    Environment,\n",
    "    RandomWalk,\n",
    "    Uniform,\n",
    "    estimate_movement_var,\n",
    ")\n",
    "\n",
    "\n",
    "movement_var = estimate_movement_var(linear_distance, sampling_frequency)\n",
    "\n",
    "environment = Environment(place_bin_size=np.sqrt(movement_var))\n",
    "continuous_transition_types = [\n",
    "    [RandomWalk(movement_var=movement_var * 120), Uniform()],\n",
    "    [Uniform(), Uniform()],\n",
    "]"
   ]
  },
  {
   "cell_type": "code",
   "execution_count": 8,
   "metadata": {},
   "outputs": [],
   "source": [
    "from non_local_detector import ContFragSortedSpikesClassifier\n",
    "from non_local_detector.discrete_state_transitions import DiscreteNonStationaryDiagonal\n",
    "\n",
    "discrete_transition_type = DiscreteNonStationaryDiagonal(\n",
    "    diagonal_values=np.array([0.98, 0.98])\n",
    ")\n",
    "\n",
    "\n",
    "discrete_transition_covariate_data = {\"speed\": linear_distance}"
   ]
  },
  {
   "cell_type": "code",
   "execution_count": 9,
   "metadata": {},
   "outputs": [
    {
     "name": "stderr",
     "output_type": "stream",
     "text": [
      "INFO:non_local_detector.models.base:Fitting initial conditions...\n",
      "INFO:non_local_detector.models.base:Fitting discrete state transition\n",
      "INFO:non_local_detector.models.base:Fitting continuous state transition...\n",
      "INFO:non_local_detector.models.base:Fitting place fields...\n"
     ]
    },
    {
     "data": {
      "application/vnd.jupyter.widget-view+json": {
       "model_id": "9ea52ef1197f499980b8ae96c1409171",
       "version_major": 2,
       "version_minor": 0
      },
      "text/plain": [
       "Encoding models:   0%|          | 0/19 [00:00<?, ?cell/s]"
      ]
     },
     "metadata": {},
     "output_type": "display_data"
    },
    {
     "name": "stderr",
     "output_type": "stream",
     "text": [
      "INFO:non_local_detector.models.base:Computing log likelihood...\n"
     ]
    },
    {
     "data": {
      "application/vnd.jupyter.widget-view+json": {
       "model_id": "4808d8e803b84ff59f165a6b7dfab8f5",
       "version_major": 2,
       "version_minor": 0
      },
      "text/plain": [
       "Non-Local Likelihood:   0%|          | 0/19 [00:00<?, ?cell/s]"
      ]
     },
     "metadata": {},
     "output_type": "display_data"
    },
    {
     "name": "stderr",
     "output_type": "stream",
     "text": [
      "INFO:non_local_detector.models.base:Computing posterior...\n",
      "INFO:non_local_detector.models.base:Finished computing posterior...\n"
     ]
    }
   ],
   "source": [
    "classifier3 = ContFragSortedSpikesClassifier(\n",
    "    environments=environment,\n",
    "    discrete_transition_type=discrete_transition_type,\n",
    "    continuous_transition_types=continuous_transition_types,\n",
    "    sorted_spikes_algorithm=\"sorted_spikes_kde\",\n",
    "    sorted_spikes_algorithm_params={\"position_std\": 5.0},\n",
    ").fit(\n",
    "    linear_distance,\n",
    "    spikes,\n",
    "    discrete_transition_covariate_data=discrete_transition_covariate_data,\n",
    ")\n",
    "results3 = classifier3.predict(test_spikes, time=replay_time)"
   ]
  },
  {
   "cell_type": "code",
   "execution_count": 10,
   "metadata": {},
   "outputs": [
    {
     "data": {
      "text/plain": [
       "array([[[ 3.8918203],\n",
       "        [-3.8918203]],\n",
       "\n",
       "       [[ 0.       ],\n",
       "        [ 0.       ]],\n",
       "\n",
       "       [[ 0.       ],\n",
       "        [ 0.       ]],\n",
       "\n",
       "       [[ 0.       ],\n",
       "        [ 0.       ]],\n",
       "\n",
       "       [[ 0.       ],\n",
       "        [ 0.       ]],\n",
       "\n",
       "       [[ 0.       ],\n",
       "        [ 0.       ]],\n",
       "\n",
       "       [[ 0.       ],\n",
       "        [ 0.       ]],\n",
       "\n",
       "       [[ 0.       ],\n",
       "        [ 0.       ]],\n",
       "\n",
       "       [[ 0.       ],\n",
       "        [ 0.       ]]])"
      ]
     },
     "execution_count": 10,
     "metadata": {},
     "output_type": "execute_result"
    }
   ],
   "source": [
    "classifier3.discrete_transition_coefficients_"
   ]
  },
  {
   "cell_type": "code",
   "execution_count": 11,
   "metadata": {},
   "outputs": [
    {
     "name": "stderr",
     "output_type": "stream",
     "text": [
      "INFO:non_local_detector.models.base:Fitting initial conditions...\n",
      "INFO:non_local_detector.models.base:Fitting discrete state transition\n",
      "INFO:non_local_detector.models.base:Fitting continuous state transition...\n",
      "INFO:non_local_detector.models.base:Fitting place fields...\n"
     ]
    },
    {
     "data": {
      "application/vnd.jupyter.widget-view+json": {
       "model_id": "e4f5384c9bf5417ea8c4d02e739a2e80",
       "version_major": 2,
       "version_minor": 0
      },
      "text/plain": [
       "Encoding models:   0%|          | 0/19 [00:00<?, ?cell/s]"
      ]
     },
     "metadata": {},
     "output_type": "display_data"
    },
    {
     "name": "stderr",
     "output_type": "stream",
     "text": [
      "INFO:non_local_detector.models.base:Computing log likelihood...\n"
     ]
    },
    {
     "data": {
      "application/vnd.jupyter.widget-view+json": {
       "model_id": "397e9ddb9eb74e14be588dce2f89beb4",
       "version_major": 2,
       "version_minor": 0
      },
      "text/plain": [
       "Non-Local Likelihood:   0%|          | 0/19 [00:00<?, ?cell/s]"
      ]
     },
     "metadata": {},
     "output_type": "display_data"
    },
    {
     "name": "stderr",
     "output_type": "stream",
     "text": [
      "INFO:non_local_detector.models.base:Expectation step...\n",
      "INFO:non_local_detector.models.base:Computing posterior...\n",
      "INFO:non_local_detector.models.base:Finished computing posterior...\n",
      "INFO:non_local_detector.models.base:Maximization step..\n",
      "INFO:non_local_detector.models.base:Computing stats..\n",
      "INFO:non_local_detector.models.base:iteration 1, likelihood: -58030.05859375\n",
      "INFO:non_local_detector.models.base:Expectation step...\n",
      "INFO:non_local_detector.models.base:Computing posterior...\n",
      "INFO:non_local_detector.models.base:Finished computing posterior...\n",
      "INFO:non_local_detector.models.base:Maximization step..\n",
      "INFO:non_local_detector.models.base:Computing stats..\n",
      "INFO:non_local_detector.models.base:iteration 2, likelihood: -56397.63671875, change: 1632.421875\n",
      "INFO:non_local_detector.models.base:Expectation step...\n",
      "INFO:non_local_detector.models.base:Computing posterior...\n",
      "INFO:non_local_detector.models.base:Finished computing posterior...\n",
      "INFO:non_local_detector.models.base:Maximization step..\n",
      "INFO:non_local_detector.models.base:Computing stats..\n",
      "INFO:non_local_detector.models.base:iteration 3, likelihood: -55459.59375, change: 938.04296875\n",
      "INFO:non_local_detector.models.base:Expectation step...\n",
      "INFO:non_local_detector.models.base:Computing posterior...\n",
      "INFO:non_local_detector.models.base:Finished computing posterior...\n",
      "INFO:non_local_detector.models.base:Maximization step..\n",
      "INFO:non_local_detector.models.base:Computing stats..\n",
      "INFO:non_local_detector.models.base:iteration 4, likelihood: -54973.37890625, change: 486.21484375\n",
      "INFO:non_local_detector.models.base:Expectation step...\n",
      "INFO:non_local_detector.models.base:Computing posterior...\n",
      "INFO:non_local_detector.models.base:Finished computing posterior...\n",
      "INFO:non_local_detector.models.base:Maximization step..\n",
      "INFO:non_local_detector.models.base:Computing stats..\n",
      "INFO:non_local_detector.models.base:iteration 5, likelihood: -54728.14453125, change: 245.234375\n",
      "INFO:non_local_detector.models.base:Expectation step...\n",
      "INFO:non_local_detector.models.base:Computing posterior...\n",
      "INFO:non_local_detector.models.base:Finished computing posterior...\n",
      "INFO:non_local_detector.models.base:Maximization step..\n",
      "INFO:non_local_detector.models.base:Computing stats..\n",
      "INFO:non_local_detector.models.base:iteration 6, likelihood: -54603.91015625, change: 124.234375\n",
      "INFO:non_local_detector.models.base:Expectation step...\n",
      "INFO:non_local_detector.models.base:Computing posterior...\n",
      "INFO:non_local_detector.models.base:Finished computing posterior...\n",
      "INFO:non_local_detector.models.base:Maximization step..\n",
      "INFO:non_local_detector.models.base:Computing stats..\n",
      "INFO:non_local_detector.models.base:iteration 7, likelihood: -54539.28515625, change: 64.625\n",
      "INFO:non_local_detector.models.base:Expectation step...\n",
      "INFO:non_local_detector.models.base:Computing posterior...\n",
      "INFO:non_local_detector.models.base:Finished computing posterior...\n",
      "INFO:non_local_detector.models.base:Maximization step..\n",
      "INFO:non_local_detector.models.base:Computing stats..\n",
      "INFO:non_local_detector.models.base:iteration 8, likelihood: -54504.234375, change: 35.05078125\n",
      "INFO:non_local_detector.models.base:Expectation step...\n",
      "INFO:non_local_detector.models.base:Computing posterior...\n"
     ]
    },
    {
     "ename": "ValueError",
     "evalue": "static arguments should be comparable using __eq__.The following error was raised during a call to 'get_transition_matrix' when comparing two objects of types <class 'jax._src.interpreters.partial_eval.DynamicJaxprTracer'> and <class 'jax._src.interpreters.partial_eval.DynamicJaxprTracer'>. The error was:\nUnexpectedTracerError: Encountered an unexpected tracer. A function transformed by JAX had a side effect, allowing for a reference to an intermediate value with type int32[] wrapped in a DynamicJaxprTracer to escape the scope of the transformation.\nJAX transformations require that functions explicitly return their outputs, and disallow saving intermediate values to global state.\nThe function being traced when the value leaked was _step at /cumulus/edeno/non_local_detector/src/non_local_detector/core.py:314 traced for scan.\n------------------------------\nThe leaked intermediate value was created on line /cumulus/edeno/non_local_detector/src/non_local_detector/core.py:340 (hmm_smoother). \n------------------------------\nWhen the value was created, the final 5 stack frames (most recent last) excluding JAX-internal frames were:\n------------------------------\n/tmp/ipykernel_653891/3007681538.py:12 (<module>)\n/cumulus/edeno/non_local_detector/src/non_local_detector/models/base.py:1123 (predict)\n/cumulus/edeno/non_local_detector/src/non_local_detector/models/base.py:470 (_predict)\n/cumulus/edeno/non_local_detector/src/non_local_detector/core.py:340 (hmm_smoother)\n------------------------------\n\nTo catch the leak earlier, try setting the environment variable JAX_CHECK_TRACER_LEAKS or using the `jax.checking_leaks` context manager.\nSee https://jax.readthedocs.io/en/latest/errors.html#jax.errors.UnexpectedTracerError\n\nAt:\n  /home/edeno/miniconda3/envs/non_local_detector_gpu/lib/python3.10/site-packages/jax/_src/interpreters/partial_eval.py(1579): _assert_live\n  /home/edeno/miniconda3/envs/non_local_detector_gpu/lib/python3.10/site-packages/jax/_src/core.py(476): full_raise\n  /home/edeno/miniconda3/envs/non_local_detector_gpu/lib/python3.10/site-packages/jax/_src/core.py(383): bind_with_trace\n  /home/edeno/miniconda3/envs/non_local_detector_gpu/lib/python3.10/site-packages/jax/_src/core.py(2647): bind\n  /home/edeno/miniconda3/envs/non_local_detector_gpu/lib/python3.10/site-packages/jax/_src/pjit.py(161): _python_pjit_helper\n  /home/edeno/miniconda3/envs/non_local_detector_gpu/lib/python3.10/site-packages/jax/_src/pjit.py(249): cache_miss\n  /home/edeno/miniconda3/envs/non_local_detector_gpu/lib/python3.10/site-packages/jax/_src/traceback_util.py(170): reraise_with_filtered_traceback\n  /home/edeno/miniconda3/envs/non_local_detector_gpu/lib/python3.10/site-packages/jax/_src/numpy/array_methods.py(258): deferring_binary_op\n  /home/edeno/miniconda3/envs/non_local_detector_gpu/lib/python3.10/site-packages/jax/_src/numpy/array_methods.py(791): op\n  /cumulus/edeno/non_local_detector/src/non_local_detector/core.py(181): get_trans_mat\n  /cumulus/edeno/non_local_detector/src/non_local_detector/core.py(258): _step\n  /home/edeno/miniconda3/envs/non_local_detector_gpu/lib/python3.10/site-packages/jax/_src/linear_util.py(188): call_wrapped\n  /home/edeno/miniconda3/envs/non_local_detector_gpu/lib/python3.10/site-packages/jax/_src/interpreters/partial_eval.py(2172): trace_to_subjaxpr_dynamic\n  /home/edeno/miniconda3/envs/non_local_detector_gpu/lib/python3.10/site-packages/jax/_src/interpreters/partial_eval.py(2150): trace_to_jaxpr_dynamic\n  /home/edeno/miniconda3/envs/non_local_detector_gpu/lib/python3.10/site-packages/jax/_src/profiler.py(314): wrapper\n  /home/edeno/miniconda3/envs/non_local_detector_gpu/lib/python3.10/site-packages/jax/_src/lax/control_flow/common.py(54): _initial_style_open_jaxpr\n  /home/edeno/miniconda3/envs/non_local_detector_gpu/lib/python3.10/site-packages/jax/_src/lax/control_flow/common.py(60): _initial_style_jaxpr\n  /home/edeno/miniconda3/envs/non_local_detector_gpu/lib/python3.10/site-packages/jax/_src/lax/control_flow/loops.py(236): _create_jaxpr\n  /home/edeno/miniconda3/envs/non_local_detector_gpu/lib/python3.10/site-packages/jax/_src/lax/control_flow/loops.py(250): scan\n  /home/edeno/miniconda3/envs/non_local_detector_gpu/lib/python3.10/site-packages/jax/_src/traceback_util.py(166): reraise_with_filtered_traceback\n  /cumulus/edeno/non_local_detector/src/non_local_detector/core.py(268): hmm_filter\n  /home/edeno/miniconda3/envs/non_local_detector_gpu/lib/python3.10/site-packages/jax/_src/linear_util.py(188): call_wrapped\n  /home/edeno/miniconda3/envs/non_local_detector_gpu/lib/python3.10/site-packages/jax/_src/interpreters/partial_eval.py(2172): trace_to_subjaxpr_dynamic\n  /home/edeno/miniconda3/envs/non_local_detector_gpu/lib/python3.10/site-packages/jax/_src/interpreters/partial_eval.py(2150): trace_to_jaxpr_dynamic\n  /home/edeno/miniconda3/envs/non_local_detector_gpu/lib/python3.10/site-packages/jax/_src/profiler.py(314): wrapper\n  /home/edeno/miniconda3/envs/non_local_detector_gpu/lib/python3.10/site-packages/jax/_src/pjit.py(913): _create_pjit_jaxpr\n  /home/edeno/miniconda3/envs/non_local_detector_gpu/lib/python3.10/site-packages/jax/_src/linear_util.py(345): memoized_fun\n  /home/edeno/miniconda3/envs/non_local_detector_gpu/lib/python3.10/site-packages/jax/_src/pjit.py(960): _pjit_jaxpr\n  /home/edeno/miniconda3/envs/non_local_detector_gpu/lib/python3.10/site-packages/jax/_src/pjit.py(498): common_infer_params\n  /home/edeno/miniconda3/envs/non_local_detector_gpu/lib/python3.10/site-packages/jax/_src/api.py(301): infer_params\n  /home/edeno/miniconda3/envs/non_local_detector_gpu/lib/python3.10/site-packages/jax/_src/pjit.py(155): _python_pjit_helper\n  /home/edeno/miniconda3/envs/non_local_detector_gpu/lib/python3.10/site-packages/jax/_src/pjit.py(249): cache_miss\n  /home/edeno/miniconda3/envs/non_local_detector_gpu/lib/python3.10/site-packages/jax/_src/traceback_util.py(166): reraise_with_filtered_traceback\n  /cumulus/edeno/non_local_detector/src/non_local_detector/core.py(309): hmm_smoother\n  /home/edeno/miniconda3/envs/non_local_detector_gpu/lib/python3.10/site-packages/jax/_src/linear_util.py(188): call_wrapped\n  /home/edeno/miniconda3/envs/non_local_detector_gpu/lib/python3.10/site-packages/jax/_src/interpreters/partial_eval.py(2172): trace_to_subjaxpr_dynamic\n  /home/edeno/miniconda3/envs/non_local_detector_gpu/lib/python3.10/site-packages/jax/_src/interpreters/partial_eval.py(2150): trace_to_jaxpr_dynamic\n  /home/edeno/miniconda3/envs/non_local_detector_gpu/lib/python3.10/site-packages/jax/_src/profiler.py(314): wrapper\n  /home/edeno/miniconda3/envs/non_local_detector_gpu/lib/python3.10/site-packages/jax/_src/pjit.py(913): _create_pjit_jaxpr\n  /home/edeno/miniconda3/envs/non_local_detector_gpu/lib/python3.10/site-packages/jax/_src/linear_util.py(345): memoized_fun\n  /home/edeno/miniconda3/envs/non_local_detector_gpu/lib/python3.10/site-packages/jax/_src/pjit.py(960): _pjit_jaxpr\n  /home/edeno/miniconda3/envs/non_local_detector_gpu/lib/python3.10/site-packages/jax/_src/pjit.py(498): common_infer_params\n  /home/edeno/miniconda3/envs/non_local_detector_gpu/lib/python3.10/site-packages/jax/_src/api.py(301): infer_params\n  /home/edeno/miniconda3/envs/non_local_detector_gpu/lib/python3.10/site-packages/jax/_src/pjit.py(155): _python_pjit_helper\n  /home/edeno/miniconda3/envs/non_local_detector_gpu/lib/python3.10/site-packages/jax/_src/pjit.py(249): cache_miss\n  /home/edeno/miniconda3/envs/non_local_detector_gpu/lib/python3.10/site-packages/jax/_src/traceback_util.py(166): reraise_with_filtered_traceback\n  /cumulus/edeno/non_local_detector/src/non_local_detector/models/base.py(470): _predict\n  /cumulus/edeno/non_local_detector/src/non_local_detector/models/base.py(525): estimate_parameters\n  /cumulus/edeno/non_local_detector/src/non_local_detector/models/base.py(1156): estimate_parameters\n  /tmp/ipykernel_653891/2097719467.py(1): <module>\n  /home/edeno/miniconda3/envs/non_local_detector_gpu/lib/python3.10/site-packages/IPython/core/interactiveshell.py(3505): run_code\n  /home/edeno/miniconda3/envs/non_local_detector_gpu/lib/python3.10/site-packages/IPython/core/interactiveshell.py(3445): run_ast_nodes\n  /home/edeno/miniconda3/envs/non_local_detector_gpu/lib/python3.10/site-packages/IPython/core/interactiveshell.py(3266): run_cell_async\n  /home/edeno/miniconda3/envs/non_local_detector_gpu/lib/python3.10/site-packages/IPython/core/async_helpers.py(129): _pseudo_sync_runner\n  /home/edeno/miniconda3/envs/non_local_detector_gpu/lib/python3.10/site-packages/IPython/core/interactiveshell.py(3061): _run_cell\n  /home/edeno/miniconda3/envs/non_local_detector_gpu/lib/python3.10/site-packages/IPython/core/interactiveshell.py(3006): run_cell\n  /home/edeno/miniconda3/envs/non_local_detector_gpu/lib/python3.10/site-packages/ipykernel/zmqshell.py(531): run_cell\n  /home/edeno/miniconda3/envs/non_local_detector_gpu/lib/python3.10/site-packages/ipykernel/ipkernel.py(411): do_execute\n  /home/edeno/miniconda3/envs/non_local_detector_gpu/lib/python3.10/site-packages/ipykernel/kernelbase.py(729): execute_request\n  /home/edeno/miniconda3/envs/non_local_detector_gpu/lib/python3.10/site-packages/ipykernel/kernelbase.py(406): dispatch_shell\n  /home/edeno/miniconda3/envs/non_local_detector_gpu/lib/python3.10/site-packages/ipykernel/kernelbase.py(499): process_one\n  /home/edeno/miniconda3/envs/non_local_detector_gpu/lib/python3.10/site-packages/ipykernel/kernelbase.py(510): dispatch_queue\n  /home/edeno/miniconda3/envs/non_local_detector_gpu/lib/python3.10/asyncio/events.py(80): _run\n  /home/edeno/miniconda3/envs/non_local_detector_gpu/lib/python3.10/asyncio/base_events.py(1909): _run_once\n  /home/edeno/miniconda3/envs/non_local_detector_gpu/lib/python3.10/asyncio/base_events.py(603): run_forever\n  /home/edeno/miniconda3/envs/non_local_detector_gpu/lib/python3.10/site-packages/tornado/platform/asyncio.py(215): start\n  /home/edeno/miniconda3/envs/non_local_detector_gpu/lib/python3.10/site-packages/ipykernel/kernelapp.py(711): start\n  /home/edeno/miniconda3/envs/non_local_detector_gpu/lib/python3.10/site-packages/traitlets/config/application.py(992): launch_instance\n  /home/edeno/miniconda3/envs/non_local_detector_gpu/lib/python3.10/site-packages/ipykernel_launcher.py(17): <module>\n  /home/edeno/miniconda3/envs/non_local_detector_gpu/lib/python3.10/runpy.py(86): _run_code\n  /home/edeno/miniconda3/envs/non_local_detector_gpu/lib/python3.10/runpy.py(196): _run_module_as_main\n",
     "output_type": "error",
     "traceback": [
      "\u001b[0;31m---------------------------------------------------------------------------\u001b[0m",
      "\u001b[0;31mValueError\u001b[0m                                Traceback (most recent call last)",
      "Cell \u001b[0;32mIn[11], line 1\u001b[0m\n\u001b[0;32m----> 1\u001b[0m classifier3\u001b[39m.\u001b[39;49mestimate_parameters(spikes, linear_distance, time\u001b[39m=\u001b[39;49mreplay_time, discrete_transition_covariate_data\u001b[39m=\u001b[39;49mdiscrete_transition_covariate_data)\n",
      "File \u001b[0;32m/cumulus/edeno/non_local_detector/src/non_local_detector/models/base.py:1156\u001b[0m, in \u001b[0;36mSortedSpikesDetector.estimate_parameters\u001b[0;34m(self, spikes, position, time, is_training, encoding_group_labels, environment_labels, discrete_transition_covariate_data, estimate_inital_conditions, estimate_discrete_transition, max_iter, tolerance)\u001b[0m\n\u001b[1;32m   1147\u001b[0m \u001b[39mself\u001b[39m\u001b[39m.\u001b[39mfit(\n\u001b[1;32m   1148\u001b[0m     position,\n\u001b[1;32m   1149\u001b[0m     spikes,\n\u001b[0;32m   (...)\u001b[0m\n\u001b[1;32m   1153\u001b[0m     discrete_transition_covariate_data\u001b[39m=\u001b[39mdiscrete_transition_covariate_data,\n\u001b[1;32m   1154\u001b[0m )\n\u001b[1;32m   1155\u001b[0m \u001b[39mself\u001b[39m\u001b[39m.\u001b[39mlog_likelihood_ \u001b[39m=\u001b[39m \u001b[39mself\u001b[39m\u001b[39m.\u001b[39mcompute_log_likelihood(position, spikes)\n\u001b[0;32m-> 1156\u001b[0m \u001b[39mreturn\u001b[39;00m \u001b[39msuper\u001b[39;49m()\u001b[39m.\u001b[39;49mestimate_parameters(\n\u001b[1;32m   1157\u001b[0m     time,\n\u001b[1;32m   1158\u001b[0m     estimate_inital_conditions,\n\u001b[1;32m   1159\u001b[0m     estimate_discrete_transition,\n\u001b[1;32m   1160\u001b[0m     max_iter,\n\u001b[1;32m   1161\u001b[0m     tolerance,\n\u001b[1;32m   1162\u001b[0m )\n",
      "File \u001b[0;32m/cumulus/edeno/non_local_detector/src/non_local_detector/models/base.py:525\u001b[0m, in \u001b[0;36m_DetectorBase.estimate_parameters\u001b[0;34m(self, time, estimate_inital_conditions, estimate_discrete_transition, max_iter, tolerance)\u001b[0m\n\u001b[1;32m    514\u001b[0m \u001b[39mwhile\u001b[39;00m \u001b[39mnot\u001b[39;00m converged \u001b[39mand\u001b[39;00m (n_iter \u001b[39m<\u001b[39m max_iter):\n\u001b[1;32m    515\u001b[0m     \u001b[39m# Expectation step\u001b[39;00m\n\u001b[1;32m    516\u001b[0m     logger\u001b[39m.\u001b[39minfo(\u001b[39m\"\u001b[39m\u001b[39mExpectation step...\u001b[39m\u001b[39m\"\u001b[39m)\n\u001b[1;32m    517\u001b[0m     (\n\u001b[1;32m    518\u001b[0m         causal_posterior,\n\u001b[1;32m    519\u001b[0m         acausal_posterior,\n\u001b[1;32m    520\u001b[0m         _,\n\u001b[1;32m    521\u001b[0m         causal_state_probabilities,\n\u001b[1;32m    522\u001b[0m         acausal_state_probabilities,\n\u001b[1;32m    523\u001b[0m         predictive_state_probabilities,\n\u001b[1;32m    524\u001b[0m         marginal_log_likelihood,\n\u001b[0;32m--> 525\u001b[0m     ) \u001b[39m=\u001b[39m \u001b[39mself\u001b[39;49m\u001b[39m.\u001b[39;49m_predict()\n\u001b[1;32m    526\u001b[0m     \u001b[39m# Maximization step\u001b[39;00m\n\u001b[1;32m    527\u001b[0m     logger\u001b[39m.\u001b[39minfo(\u001b[39m\"\u001b[39m\u001b[39mMaximization step..\u001b[39m\u001b[39m\"\u001b[39m)\n",
      "File \u001b[0;32m/cumulus/edeno/non_local_detector/src/non_local_detector/models/base.py:470\u001b[0m, in \u001b[0;36m_DetectorBase._predict\u001b[0;34m(self)\u001b[0m\n\u001b[1;32m    456\u001b[0m cross_is_track_interior \u001b[39m=\u001b[39m np\u001b[39m.\u001b[39mix_(is_track_interior, is_track_interior)\n\u001b[1;32m    458\u001b[0m transition_fn \u001b[39m=\u001b[39m partial(\n\u001b[1;32m    459\u001b[0m     get_transition_matrix,\n\u001b[1;32m    460\u001b[0m     \u001b[39mself\u001b[39m\u001b[39m.\u001b[39mcontinuous_state_transitions_[cross_is_track_interior],\n\u001b[1;32m    461\u001b[0m     \u001b[39mself\u001b[39m\u001b[39m.\u001b[39mdiscrete_state_transitions_,\n\u001b[1;32m    462\u001b[0m     \u001b[39mself\u001b[39m\u001b[39m.\u001b[39mstate_ind_[is_track_interior],\n\u001b[1;32m    463\u001b[0m )\n\u001b[1;32m    465\u001b[0m (\n\u001b[1;32m    466\u001b[0m     marginal_log_likelihood,\n\u001b[1;32m    467\u001b[0m     causal_posterior,\n\u001b[1;32m    468\u001b[0m     predictive_distribution,\n\u001b[1;32m    469\u001b[0m     acausal_posterior,\n\u001b[0;32m--> 470\u001b[0m ) \u001b[39m=\u001b[39m hmm_smoother(\n\u001b[1;32m    471\u001b[0m     \u001b[39mself\u001b[39;49m\u001b[39m.\u001b[39;49minitial_conditions_[is_track_interior],\n\u001b[1;32m    472\u001b[0m     \u001b[39mNone\u001b[39;49;00m,\n\u001b[1;32m    473\u001b[0m     \u001b[39mself\u001b[39;49m\u001b[39m.\u001b[39;49mlog_likelihood_[:, is_track_interior],\n\u001b[1;32m    474\u001b[0m     transition_fn\u001b[39m=\u001b[39;49mtransition_fn,\n\u001b[1;32m    475\u001b[0m )\n\u001b[1;32m    477\u001b[0m (\n\u001b[1;32m    478\u001b[0m     causal_state_probabilities,\n\u001b[1;32m    479\u001b[0m     acausal_state_probabilities,\n\u001b[0;32m   (...)\u001b[0m\n\u001b[1;32m    485\u001b[0m     \u001b[39mself\u001b[39m\u001b[39m.\u001b[39mstate_ind_[is_track_interior],\n\u001b[1;32m    486\u001b[0m )\n\u001b[1;32m    487\u001b[0m logger\u001b[39m.\u001b[39minfo(\u001b[39m\"\u001b[39m\u001b[39mFinished computing posterior...\u001b[39m\u001b[39m\"\u001b[39m)\n",
      "    \u001b[0;31m[... skipping hidden 12 frame]\u001b[0m\n",
      "File \u001b[0;32m/cumulus/edeno/non_local_detector/src/non_local_detector/core.py:309\u001b[0m, in \u001b[0;36mhmm_smoother\u001b[0;34m(initial_distribution, transition_matrix, log_likelihoods, transition_fn)\u001b[0m\n\u001b[1;32m    306\u001b[0m num_timesteps \u001b[39m=\u001b[39m log_likelihoods\u001b[39m.\u001b[39mshape[\u001b[39m0\u001b[39m]\n\u001b[1;32m    308\u001b[0m \u001b[39m# Run the HMM filter\u001b[39;00m\n\u001b[0;32m--> 309\u001b[0m (marginal_loglik, filtered_probs, predicted_probs) \u001b[39m=\u001b[39m hmm_filter(\n\u001b[1;32m    310\u001b[0m     initial_distribution, transition_matrix, log_likelihoods, transition_fn\n\u001b[1;32m    311\u001b[0m )\n\u001b[1;32m    313\u001b[0m \u001b[39m# Run the smoother backward in time\u001b[39;00m\n\u001b[1;32m    314\u001b[0m \u001b[39mdef\u001b[39;00m \u001b[39m_step\u001b[39m(carry, args):\n\u001b[1;32m    315\u001b[0m     \u001b[39m# Unpack the inputs\u001b[39;00m\n",
      "    \u001b[0;31m[... skipping hidden 12 frame]\u001b[0m\n",
      "File \u001b[0;32m/cumulus/edeno/non_local_detector/src/non_local_detector/core.py:268\u001b[0m, in \u001b[0;36mhmm_filter\u001b[0;34m(initial_distribution, transition_matrix, log_likelihoods, transition_fn)\u001b[0m\n\u001b[1;32m    265\u001b[0m     \u001b[39mreturn\u001b[39;00m (log_normalizer, predicted_probs_next), (filtered_probs, predicted_probs)\n\u001b[1;32m    267\u001b[0m carry \u001b[39m=\u001b[39m (\u001b[39m0.0\u001b[39m, initial_distribution)\n\u001b[0;32m--> 268\u001b[0m (log_normalizer, _), (filtered_probs, predicted_probs) \u001b[39m=\u001b[39m jax\u001b[39m.\u001b[39;49mlax\u001b[39m.\u001b[39;49mscan(\n\u001b[1;32m    269\u001b[0m     _step, carry, jnp\u001b[39m.\u001b[39;49marange(num_timesteps)\n\u001b[1;32m    270\u001b[0m )\n\u001b[1;32m    272\u001b[0m \u001b[39mreturn\u001b[39;00m (\n\u001b[1;32m    273\u001b[0m     log_normalizer,\n\u001b[1;32m    274\u001b[0m     filtered_probs,\n\u001b[1;32m    275\u001b[0m     predicted_probs,\n\u001b[1;32m    276\u001b[0m )\n",
      "    \u001b[0;31m[... skipping hidden 9 frame]\u001b[0m\n",
      "File \u001b[0;32m/cumulus/edeno/non_local_detector/src/non_local_detector/core.py:258\u001b[0m, in \u001b[0;36mhmm_filter.<locals>._step\u001b[0;34m(carry, t)\u001b[0m\n\u001b[1;32m    255\u001b[0m \u001b[39mdef\u001b[39;00m \u001b[39m_step\u001b[39m(carry, t):\n\u001b[1;32m    256\u001b[0m     log_normalizer, predicted_probs \u001b[39m=\u001b[39m carry\n\u001b[0;32m--> 258\u001b[0m     A \u001b[39m=\u001b[39m get_trans_mat(transition_matrix, transition_fn, t)\n\u001b[1;32m    259\u001b[0m     ll \u001b[39m=\u001b[39m log_likelihoods[t]\n\u001b[1;32m    261\u001b[0m     filtered_probs, log_norm \u001b[39m=\u001b[39m _condition_on(predicted_probs, ll)\n",
      "File \u001b[0;32m/cumulus/edeno/non_local_detector/src/non_local_detector/core.py:181\u001b[0m, in \u001b[0;36mget_trans_mat\u001b[0;34m(transition_matrix, transition_fn, t)\u001b[0m\n\u001b[1;32m    179\u001b[0m \u001b[39mdef\u001b[39;00m \u001b[39mget_trans_mat\u001b[39m(transition_matrix, transition_fn, t):\n\u001b[1;32m    180\u001b[0m     \u001b[39mif\u001b[39;00m transition_fn \u001b[39mis\u001b[39;00m \u001b[39mnot\u001b[39;00m \u001b[39mNone\u001b[39;00m:\n\u001b[0;32m--> 181\u001b[0m         \u001b[39mreturn\u001b[39;00m transition_fn(t)\n\u001b[1;32m    182\u001b[0m     \u001b[39melse\u001b[39;00m:\n\u001b[1;32m    183\u001b[0m         \u001b[39mif\u001b[39;00m transition_matrix\u001b[39m.\u001b[39mndim \u001b[39m==\u001b[39m \u001b[39m3\u001b[39m:  \u001b[39m# (T,K,K)\u001b[39;00m\n",
      "\u001b[0;31mValueError\u001b[0m: static arguments should be comparable using __eq__.The following error was raised during a call to 'get_transition_matrix' when comparing two objects of types <class 'jax._src.interpreters.partial_eval.DynamicJaxprTracer'> and <class 'jax._src.interpreters.partial_eval.DynamicJaxprTracer'>. The error was:\nUnexpectedTracerError: Encountered an unexpected tracer. A function transformed by JAX had a side effect, allowing for a reference to an intermediate value with type int32[] wrapped in a DynamicJaxprTracer to escape the scope of the transformation.\nJAX transformations require that functions explicitly return their outputs, and disallow saving intermediate values to global state.\nThe function being traced when the value leaked was _step at /cumulus/edeno/non_local_detector/src/non_local_detector/core.py:314 traced for scan.\n------------------------------\nThe leaked intermediate value was created on line /cumulus/edeno/non_local_detector/src/non_local_detector/core.py:340 (hmm_smoother). \n------------------------------\nWhen the value was created, the final 5 stack frames (most recent last) excluding JAX-internal frames were:\n------------------------------\n/tmp/ipykernel_653891/3007681538.py:12 (<module>)\n/cumulus/edeno/non_local_detector/src/non_local_detector/models/base.py:1123 (predict)\n/cumulus/edeno/non_local_detector/src/non_local_detector/models/base.py:470 (_predict)\n/cumulus/edeno/non_local_detector/src/non_local_detector/core.py:340 (hmm_smoother)\n------------------------------\n\nTo catch the leak earlier, try setting the environment variable JAX_CHECK_TRACER_LEAKS or using the `jax.checking_leaks` context manager.\nSee https://jax.readthedocs.io/en/latest/errors.html#jax.errors.UnexpectedTracerError\n\nAt:\n  /home/edeno/miniconda3/envs/non_local_detector_gpu/lib/python3.10/site-packages/jax/_src/interpreters/partial_eval.py(1579): _assert_live\n  /home/edeno/miniconda3/envs/non_local_detector_gpu/lib/python3.10/site-packages/jax/_src/core.py(476): full_raise\n  /home/edeno/miniconda3/envs/non_local_detector_gpu/lib/python3.10/site-packages/jax/_src/core.py(383): bind_with_trace\n  /home/edeno/miniconda3/envs/non_local_detector_gpu/lib/python3.10/site-packages/jax/_src/core.py(2647): bind\n  /home/edeno/miniconda3/envs/non_local_detector_gpu/lib/python3.10/site-packages/jax/_src/pjit.py(161): _python_pjit_helper\n  /home/edeno/miniconda3/envs/non_local_detector_gpu/lib/python3.10/site-packages/jax/_src/pjit.py(249): cache_miss\n  /home/edeno/miniconda3/envs/non_local_detector_gpu/lib/python3.10/site-packages/jax/_src/traceback_util.py(170): reraise_with_filtered_traceback\n  /home/edeno/miniconda3/envs/non_local_detector_gpu/lib/python3.10/site-packages/jax/_src/numpy/array_methods.py(258): deferring_binary_op\n  /home/edeno/miniconda3/envs/non_local_detector_gpu/lib/python3.10/site-packages/jax/_src/numpy/array_methods.py(791): op\n  /cumulus/edeno/non_local_detector/src/non_local_detector/core.py(181): get_trans_mat\n  /cumulus/edeno/non_local_detector/src/non_local_detector/core.py(258): _step\n  /home/edeno/miniconda3/envs/non_local_detector_gpu/lib/python3.10/site-packages/jax/_src/linear_util.py(188): call_wrapped\n  /home/edeno/miniconda3/envs/non_local_detector_gpu/lib/python3.10/site-packages/jax/_src/interpreters/partial_eval.py(2172): trace_to_subjaxpr_dynamic\n  /home/edeno/miniconda3/envs/non_local_detector_gpu/lib/python3.10/site-packages/jax/_src/interpreters/partial_eval.py(2150): trace_to_jaxpr_dynamic\n  /home/edeno/miniconda3/envs/non_local_detector_gpu/lib/python3.10/site-packages/jax/_src/profiler.py(314): wrapper\n  /home/edeno/miniconda3/envs/non_local_detector_gpu/lib/python3.10/site-packages/jax/_src/lax/control_flow/common.py(54): _initial_style_open_jaxpr\n  /home/edeno/miniconda3/envs/non_local_detector_gpu/lib/python3.10/site-packages/jax/_src/lax/control_flow/common.py(60): _initial_style_jaxpr\n  /home/edeno/miniconda3/envs/non_local_detector_gpu/lib/python3.10/site-packages/jax/_src/lax/control_flow/loops.py(236): _create_jaxpr\n  /home/edeno/miniconda3/envs/non_local_detector_gpu/lib/python3.10/site-packages/jax/_src/lax/control_flow/loops.py(250): scan\n  /home/edeno/miniconda3/envs/non_local_detector_gpu/lib/python3.10/site-packages/jax/_src/traceback_util.py(166): reraise_with_filtered_traceback\n  /cumulus/edeno/non_local_detector/src/non_local_detector/core.py(268): hmm_filter\n  /home/edeno/miniconda3/envs/non_local_detector_gpu/lib/python3.10/site-packages/jax/_src/linear_util.py(188): call_wrapped\n  /home/edeno/miniconda3/envs/non_local_detector_gpu/lib/python3.10/site-packages/jax/_src/interpreters/partial_eval.py(2172): trace_to_subjaxpr_dynamic\n  /home/edeno/miniconda3/envs/non_local_detector_gpu/lib/python3.10/site-packages/jax/_src/interpreters/partial_eval.py(2150): trace_to_jaxpr_dynamic\n  /home/edeno/miniconda3/envs/non_local_detector_gpu/lib/python3.10/site-packages/jax/_src/profiler.py(314): wrapper\n  /home/edeno/miniconda3/envs/non_local_detector_gpu/lib/python3.10/site-packages/jax/_src/pjit.py(913): _create_pjit_jaxpr\n  /home/edeno/miniconda3/envs/non_local_detector_gpu/lib/python3.10/site-packages/jax/_src/linear_util.py(345): memoized_fun\n  /home/edeno/miniconda3/envs/non_local_detector_gpu/lib/python3.10/site-packages/jax/_src/pjit.py(960): _pjit_jaxpr\n  /home/edeno/miniconda3/envs/non_local_detector_gpu/lib/python3.10/site-packages/jax/_src/pjit.py(498): common_infer_params\n  /home/edeno/miniconda3/envs/non_local_detector_gpu/lib/python3.10/site-packages/jax/_src/api.py(301): infer_params\n  /home/edeno/miniconda3/envs/non_local_detector_gpu/lib/python3.10/site-packages/jax/_src/pjit.py(155): _python_pjit_helper\n  /home/edeno/miniconda3/envs/non_local_detector_gpu/lib/python3.10/site-packages/jax/_src/pjit.py(249): cache_miss\n  /home/edeno/miniconda3/envs/non_local_detector_gpu/lib/python3.10/site-packages/jax/_src/traceback_util.py(166): reraise_with_filtered_traceback\n  /cumulus/edeno/non_local_detector/src/non_local_detector/core.py(309): hmm_smoother\n  /home/edeno/miniconda3/envs/non_local_detector_gpu/lib/python3.10/site-packages/jax/_src/linear_util.py(188): call_wrapped\n  /home/edeno/miniconda3/envs/non_local_detector_gpu/lib/python3.10/site-packages/jax/_src/interpreters/partial_eval.py(2172): trace_to_subjaxpr_dynamic\n  /home/edeno/miniconda3/envs/non_local_detector_gpu/lib/python3.10/site-packages/jax/_src/interpreters/partial_eval.py(2150): trace_to_jaxpr_dynamic\n  /home/edeno/miniconda3/envs/non_local_detector_gpu/lib/python3.10/site-packages/jax/_src/profiler.py(314): wrapper\n  /home/edeno/miniconda3/envs/non_local_detector_gpu/lib/python3.10/site-packages/jax/_src/pjit.py(913): _create_pjit_jaxpr\n  /home/edeno/miniconda3/envs/non_local_detector_gpu/lib/python3.10/site-packages/jax/_src/linear_util.py(345): memoized_fun\n  /home/edeno/miniconda3/envs/non_local_detector_gpu/lib/python3.10/site-packages/jax/_src/pjit.py(960): _pjit_jaxpr\n  /home/edeno/miniconda3/envs/non_local_detector_gpu/lib/python3.10/site-packages/jax/_src/pjit.py(498): common_infer_params\n  /home/edeno/miniconda3/envs/non_local_detector_gpu/lib/python3.10/site-packages/jax/_src/api.py(301): infer_params\n  /home/edeno/miniconda3/envs/non_local_detector_gpu/lib/python3.10/site-packages/jax/_src/pjit.py(155): _python_pjit_helper\n  /home/edeno/miniconda3/envs/non_local_detector_gpu/lib/python3.10/site-packages/jax/_src/pjit.py(249): cache_miss\n  /home/edeno/miniconda3/envs/non_local_detector_gpu/lib/python3.10/site-packages/jax/_src/traceback_util.py(166): reraise_with_filtered_traceback\n  /cumulus/edeno/non_local_detector/src/non_local_detector/models/base.py(470): _predict\n  /cumulus/edeno/non_local_detector/src/non_local_detector/models/base.py(525): estimate_parameters\n  /cumulus/edeno/non_local_detector/src/non_local_detector/models/base.py(1156): estimate_parameters\n  /tmp/ipykernel_653891/2097719467.py(1): <module>\n  /home/edeno/miniconda3/envs/non_local_detector_gpu/lib/python3.10/site-packages/IPython/core/interactiveshell.py(3505): run_code\n  /home/edeno/miniconda3/envs/non_local_detector_gpu/lib/python3.10/site-packages/IPython/core/interactiveshell.py(3445): run_ast_nodes\n  /home/edeno/miniconda3/envs/non_local_detector_gpu/lib/python3.10/site-packages/IPython/core/interactiveshell.py(3266): run_cell_async\n  /home/edeno/miniconda3/envs/non_local_detector_gpu/lib/python3.10/site-packages/IPython/core/async_helpers.py(129): _pseudo_sync_runner\n  /home/edeno/miniconda3/envs/non_local_detector_gpu/lib/python3.10/site-packages/IPython/core/interactiveshell.py(3061): _run_cell\n  /home/edeno/miniconda3/envs/non_local_detector_gpu/lib/python3.10/site-packages/IPython/core/interactiveshell.py(3006): run_cell\n  /home/edeno/miniconda3/envs/non_local_detector_gpu/lib/python3.10/site-packages/ipykernel/zmqshell.py(531): run_cell\n  /home/edeno/miniconda3/envs/non_local_detector_gpu/lib/python3.10/site-packages/ipykernel/ipkernel.py(411): do_execute\n  /home/edeno/miniconda3/envs/non_local_detector_gpu/lib/python3.10/site-packages/ipykernel/kernelbase.py(729): execute_request\n  /home/edeno/miniconda3/envs/non_local_detector_gpu/lib/python3.10/site-packages/ipykernel/kernelbase.py(406): dispatch_shell\n  /home/edeno/miniconda3/envs/non_local_detector_gpu/lib/python3.10/site-packages/ipykernel/kernelbase.py(499): process_one\n  /home/edeno/miniconda3/envs/non_local_detector_gpu/lib/python3.10/site-packages/ipykernel/kernelbase.py(510): dispatch_queue\n  /home/edeno/miniconda3/envs/non_local_detector_gpu/lib/python3.10/asyncio/events.py(80): _run\n  /home/edeno/miniconda3/envs/non_local_detector_gpu/lib/python3.10/asyncio/base_events.py(1909): _run_once\n  /home/edeno/miniconda3/envs/non_local_detector_gpu/lib/python3.10/asyncio/base_events.py(603): run_forever\n  /home/edeno/miniconda3/envs/non_local_detector_gpu/lib/python3.10/site-packages/tornado/platform/asyncio.py(215): start\n  /home/edeno/miniconda3/envs/non_local_detector_gpu/lib/python3.10/site-packages/ipykernel/kernelapp.py(711): start\n  /home/edeno/miniconda3/envs/non_local_detector_gpu/lib/python3.10/site-packages/traitlets/config/application.py(992): launch_instance\n  /home/edeno/miniconda3/envs/non_local_detector_gpu/lib/python3.10/site-packages/ipykernel_launcher.py(17): <module>\n  /home/edeno/miniconda3/envs/non_local_detector_gpu/lib/python3.10/runpy.py(86): _run_code\n  /home/edeno/miniconda3/envs/non_local_detector_gpu/lib/python3.10/runpy.py(196): _run_module_as_main\n"
     ]
    }
   ],
   "source": [
    "classifier3.estimate_parameters(spikes, linear_distance, time=replay_time, discrete_transition_covariate_data=discrete_transition_covariate_data)"
   ]
  },
  {
   "cell_type": "code",
   "execution_count": null,
   "metadata": {},
   "outputs": [],
   "source": [
    "classifier3.discrete_transition_coefficients_"
   ]
  },
  {
   "cell_type": "code",
   "execution_count": null,
   "metadata": {},
   "outputs": [],
   "source": [
    "%debug"
   ]
  },
  {
   "cell_type": "code",
   "execution_count": null,
   "metadata": {},
   "outputs": [],
   "source": []
  }
 ],
 "metadata": {
  "kernelspec": {
   "display_name": "non_local_detector_gpu",
   "language": "python",
   "name": "python3"
  },
  "language_info": {
   "codemirror_mode": {
    "name": "ipython",
    "version": 3
   },
   "file_extension": ".py",
   "mimetype": "text/x-python",
   "name": "python",
   "nbconvert_exporter": "python",
   "pygments_lexer": "ipython3",
   "version": "3.10.11"
  },
  "orig_nbformat": 4
 },
 "nbformat": 4,
 "nbformat_minor": 2
}
