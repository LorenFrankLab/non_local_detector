{
 "cells": [
  {
   "cell_type": "code",
   "execution_count": 1,
   "metadata": {},
   "outputs": [
    {
     "name": "stderr",
     "output_type": "stream",
     "text": [
      "/Users/edeno/Documents/GitHub/non_local_detector/src/non_local_detector/likelihoods/clusterless_kde.py:54: TqdmExperimentalWarning: Using `tqdm.autonotebook.tqdm` in notebook mode. Use `tqdm.tqdm` instead to force console mode (e.g. in jupyter console)\n",
      "  from tqdm.autonotebook import tqdm\n"
     ]
    }
   ],
   "source": [
    "from non_local_detector.simulate.sorted_spikes_simulation import make_simulated_data\n",
    "\n",
    "(\n",
    "    speed,\n",
    "    position,\n",
    "    spike_times,\n",
    "    time,\n",
    "    event_times,\n",
    "    sampling_frequency,\n",
    "    is_event,\n",
    "    place_fields,\n",
    ") = make_simulated_data(n_neurons=30)"
   ]
  },
  {
   "cell_type": "code",
   "execution_count": 3,
   "metadata": {},
   "outputs": [
    {
     "data": {
      "application/vnd.jupyter.widget-view+json": {
       "model_id": "cce4ed20a4584010ae97012b3eccccdb",
       "version_major": 2,
       "version_minor": 0
      },
      "text/plain": [
       "Encoding models:   0%|          | 0/30 [00:00<?, ?cell/s]"
      ]
     },
     "metadata": {},
     "output_type": "display_data"
    },
    {
     "data": {
      "application/vnd.jupyter.widget-view+json": {
       "model_id": "2131b66687ba4465a148e5762947e3fb",
       "version_major": 2,
       "version_minor": 0
      },
      "text/plain": [
       "Local Likelihood:   0%|          | 0/30 [00:00<?, ?cell/s]"
      ]
     },
     "metadata": {},
     "output_type": "display_data"
    },
    {
     "data": {
      "application/vnd.jupyter.widget-view+json": {
       "model_id": "7977d6e7b6974c29886722b3165973dc",
       "version_major": 2,
       "version_minor": 0
      },
      "text/plain": [
       "No Spike Likelihood:   0%|          | 0/30 [00:00<?, ?cell/s]"
      ]
     },
     "metadata": {},
     "output_type": "display_data"
    },
    {
     "data": {
      "application/vnd.jupyter.widget-view+json": {
       "model_id": "db16c1398d23428299a526450b104b24",
       "version_major": 2,
       "version_minor": 0
      },
      "text/plain": [
       "Non-Local Likelihood:   0%|          | 0/30 [00:00<?, ?cell/s]"
      ]
     },
     "metadata": {},
     "output_type": "display_data"
    },
    {
     "data": {
      "application/vnd.jupyter.widget-view+json": {
       "model_id": "ae33de1f23f140cc9cf89782e9be8f87",
       "version_major": 2,
       "version_minor": 0
      },
      "text/plain": [
       "Encoding models:   0%|          | 0/30 [00:00<?, ?cell/s]"
      ]
     },
     "metadata": {},
     "output_type": "display_data"
    },
    {
     "data": {
      "application/vnd.jupyter.widget-view+json": {
       "model_id": "97192ca05ed5488aa573010079ad79b5",
       "version_major": 2,
       "version_minor": 0
      },
      "text/plain": [
       "Local Likelihood:   0%|          | 0/30 [00:00<?, ?cell/s]"
      ]
     },
     "metadata": {},
     "output_type": "display_data"
    },
    {
     "data": {
      "application/vnd.jupyter.widget-view+json": {
       "model_id": "9f1021953f1c4f94b45a080a600e5c78",
       "version_major": 2,
       "version_minor": 0
      },
      "text/plain": [
       "No Spike Likelihood:   0%|          | 0/30 [00:00<?, ?cell/s]"
      ]
     },
     "metadata": {},
     "output_type": "display_data"
    },
    {
     "data": {
      "application/vnd.jupyter.widget-view+json": {
       "model_id": "8a0506e97ea947ab97e2958b411ab53c",
       "version_major": 2,
       "version_minor": 0
      },
      "text/plain": [
       "Non-Local Likelihood:   0%|          | 0/30 [00:00<?, ?cell/s]"
      ]
     },
     "metadata": {},
     "output_type": "display_data"
    },
    {
     "data": {
      "application/vnd.jupyter.widget-view+json": {
       "model_id": "8f374a9803714e2187203630a5293541",
       "version_major": 2,
       "version_minor": 0
      },
      "text/plain": [
       "Encoding models:   0%|          | 0/30 [00:00<?, ?cell/s]"
      ]
     },
     "metadata": {},
     "output_type": "display_data"
    },
    {
     "data": {
      "application/vnd.jupyter.widget-view+json": {
       "model_id": "f4d2c74d1e844862ab14a7e09ae56728",
       "version_major": 2,
       "version_minor": 0
      },
      "text/plain": [
       "Local Likelihood:   0%|          | 0/30 [00:00<?, ?cell/s]"
      ]
     },
     "metadata": {},
     "output_type": "display_data"
    },
    {
     "data": {
      "application/vnd.jupyter.widget-view+json": {
       "model_id": "b3bde0a7dd7244b395023e3041b5f762",
       "version_major": 2,
       "version_minor": 0
      },
      "text/plain": [
       "No Spike Likelihood:   0%|          | 0/30 [00:00<?, ?cell/s]"
      ]
     },
     "metadata": {},
     "output_type": "display_data"
    },
    {
     "data": {
      "application/vnd.jupyter.widget-view+json": {
       "model_id": "abae2f267c2b4ef6a0992bb9d88a91f0",
       "version_major": 2,
       "version_minor": 0
      },
      "text/plain": [
       "Non-Local Likelihood:   0%|          | 0/30 [00:00<?, ?cell/s]"
      ]
     },
     "metadata": {},
     "output_type": "display_data"
    },
    {
     "data": {
      "application/vnd.jupyter.widget-view+json": {
       "model_id": "6035c46627e245ab89cb52a15f8b5852",
       "version_major": 2,
       "version_minor": 0
      },
      "text/plain": [
       "Encoding models:   0%|          | 0/30 [00:00<?, ?cell/s]"
      ]
     },
     "metadata": {},
     "output_type": "display_data"
    },
    {
     "data": {
      "application/vnd.jupyter.widget-view+json": {
       "model_id": "274c5d7889324de7853a74d3e5d27ad6",
       "version_major": 2,
       "version_minor": 0
      },
      "text/plain": [
       "Local Likelihood:   0%|          | 0/30 [00:00<?, ?cell/s]"
      ]
     },
     "metadata": {},
     "output_type": "display_data"
    },
    {
     "data": {
      "application/vnd.jupyter.widget-view+json": {
       "model_id": "e3371d8ab4b84e76ba311ce484fbd1c6",
       "version_major": 2,
       "version_minor": 0
      },
      "text/plain": [
       "No Spike Likelihood:   0%|          | 0/30 [00:00<?, ?cell/s]"
      ]
     },
     "metadata": {},
     "output_type": "display_data"
    },
    {
     "data": {
      "application/vnd.jupyter.widget-view+json": {
       "model_id": "57e859a87ce5471aae731d2e8da49a05",
       "version_major": 2,
       "version_minor": 0
      },
      "text/plain": [
       "Non-Local Likelihood:   0%|          | 0/30 [00:00<?, ?cell/s]"
      ]
     },
     "metadata": {},
     "output_type": "display_data"
    },
    {
     "data": {
      "application/vnd.jupyter.widget-view+json": {
       "model_id": "5d041d9d45a242ebb7bbee61c0fee46c",
       "version_major": 2,
       "version_minor": 0
      },
      "text/plain": [
       "Encoding models:   0%|          | 0/30 [00:00<?, ?cell/s]"
      ]
     },
     "metadata": {},
     "output_type": "display_data"
    },
    {
     "data": {
      "application/vnd.jupyter.widget-view+json": {
       "model_id": "e95d6da47b164e7eb531f6bcf664bf93",
       "version_major": 2,
       "version_minor": 0
      },
      "text/plain": [
       "Local Likelihood:   0%|          | 0/30 [00:00<?, ?cell/s]"
      ]
     },
     "metadata": {},
     "output_type": "display_data"
    },
    {
     "data": {
      "application/vnd.jupyter.widget-view+json": {
       "model_id": "fde9be52f6754ad589b7b1390eddaf38",
       "version_major": 2,
       "version_minor": 0
      },
      "text/plain": [
       "No Spike Likelihood:   0%|          | 0/30 [00:00<?, ?cell/s]"
      ]
     },
     "metadata": {},
     "output_type": "display_data"
    },
    {
     "data": {
      "application/vnd.jupyter.widget-view+json": {
       "model_id": "889f35f7127c4b908ea8b621821ce329",
       "version_major": 2,
       "version_minor": 0
      },
      "text/plain": [
       "Non-Local Likelihood:   0%|          | 0/30 [00:00<?, ?cell/s]"
      ]
     },
     "metadata": {},
     "output_type": "display_data"
    },
    {
     "data": {
      "application/vnd.jupyter.widget-view+json": {
       "model_id": "c797430b154143e2893e7d04ea92b694",
       "version_major": 2,
       "version_minor": 0
      },
      "text/plain": [
       "Encoding models:   0%|          | 0/30 [00:00<?, ?cell/s]"
      ]
     },
     "metadata": {},
     "output_type": "display_data"
    },
    {
     "data": {
      "application/vnd.jupyter.widget-view+json": {
       "model_id": "2ae5d0b37071435dbe3f8008938de823",
       "version_major": 2,
       "version_minor": 0
      },
      "text/plain": [
       "Local Likelihood:   0%|          | 0/30 [00:00<?, ?cell/s]"
      ]
     },
     "metadata": {},
     "output_type": "display_data"
    },
    {
     "data": {
      "application/vnd.jupyter.widget-view+json": {
       "model_id": "9f9df6cad07d4b3da0fd1d19293c1dc9",
       "version_major": 2,
       "version_minor": 0
      },
      "text/plain": [
       "No Spike Likelihood:   0%|          | 0/30 [00:00<?, ?cell/s]"
      ]
     },
     "metadata": {},
     "output_type": "display_data"
    },
    {
     "data": {
      "application/vnd.jupyter.widget-view+json": {
       "model_id": "b959c101c3d440ec97b4749baedb3b09",
       "version_major": 2,
       "version_minor": 0
      },
      "text/plain": [
       "Non-Local Likelihood:   0%|          | 0/30 [00:00<?, ?cell/s]"
      ]
     },
     "metadata": {},
     "output_type": "display_data"
    },
    {
     "data": {
      "application/vnd.jupyter.widget-view+json": {
       "model_id": "7942fbb88d994ddf825168898b5d6715",
       "version_major": 2,
       "version_minor": 0
      },
      "text/plain": [
       "Encoding models:   0%|          | 0/30 [00:00<?, ?cell/s]"
      ]
     },
     "metadata": {},
     "output_type": "display_data"
    },
    {
     "data": {
      "application/vnd.jupyter.widget-view+json": {
       "model_id": "c4a02c5b2da8412aaff3a6a60fc3674b",
       "version_major": 2,
       "version_minor": 0
      },
      "text/plain": [
       "Local Likelihood:   0%|          | 0/30 [00:00<?, ?cell/s]"
      ]
     },
     "metadata": {},
     "output_type": "display_data"
    },
    {
     "data": {
      "application/vnd.jupyter.widget-view+json": {
       "model_id": "f64369964bc2426e9b381026ca292339",
       "version_major": 2,
       "version_minor": 0
      },
      "text/plain": [
       "No Spike Likelihood:   0%|          | 0/30 [00:00<?, ?cell/s]"
      ]
     },
     "metadata": {},
     "output_type": "display_data"
    },
    {
     "data": {
      "application/vnd.jupyter.widget-view+json": {
       "model_id": "861f3cc5262548ecbe9f45de57473d1c",
       "version_major": 2,
       "version_minor": 0
      },
      "text/plain": [
       "Non-Local Likelihood:   0%|          | 0/30 [00:00<?, ?cell/s]"
      ]
     },
     "metadata": {},
     "output_type": "display_data"
    },
    {
     "data": {
      "application/vnd.jupyter.widget-view+json": {
       "model_id": "50c39b92dbfb4bb9b7c76c987c8396ff",
       "version_major": 2,
       "version_minor": 0
      },
      "text/plain": [
       "Encoding models:   0%|          | 0/30 [00:00<?, ?cell/s]"
      ]
     },
     "metadata": {},
     "output_type": "display_data"
    },
    {
     "data": {
      "application/vnd.jupyter.widget-view+json": {
       "model_id": "157c645ef4824ade9861a3a8be6ebd84",
       "version_major": 2,
       "version_minor": 0
      },
      "text/plain": [
       "Local Likelihood:   0%|          | 0/30 [00:00<?, ?cell/s]"
      ]
     },
     "metadata": {},
     "output_type": "display_data"
    },
    {
     "data": {
      "application/vnd.jupyter.widget-view+json": {
       "model_id": "55347199b120433da9ace17987070bbc",
       "version_major": 2,
       "version_minor": 0
      },
      "text/plain": [
       "No Spike Likelihood:   0%|          | 0/30 [00:00<?, ?cell/s]"
      ]
     },
     "metadata": {},
     "output_type": "display_data"
    },
    {
     "data": {
      "application/vnd.jupyter.widget-view+json": {
       "model_id": "1de86781c2da4eec841f1daea209f7a8",
       "version_major": 2,
       "version_minor": 0
      },
      "text/plain": [
       "Non-Local Likelihood:   0%|          | 0/30 [00:00<?, ?cell/s]"
      ]
     },
     "metadata": {},
     "output_type": "display_data"
    },
    {
     "data": {
      "application/vnd.jupyter.widget-view+json": {
       "model_id": "8762728b5c374e5497033052e9c2ed7f",
       "version_major": 2,
       "version_minor": 0
      },
      "text/plain": [
       "Encoding models:   0%|          | 0/30 [00:00<?, ?cell/s]"
      ]
     },
     "metadata": {},
     "output_type": "display_data"
    },
    {
     "data": {
      "application/vnd.jupyter.widget-view+json": {
       "model_id": "3ba9f5993449444e8e65d74f24e84e68",
       "version_major": 2,
       "version_minor": 0
      },
      "text/plain": [
       "Local Likelihood:   0%|          | 0/30 [00:00<?, ?cell/s]"
      ]
     },
     "metadata": {},
     "output_type": "display_data"
    },
    {
     "data": {
      "application/vnd.jupyter.widget-view+json": {
       "model_id": "1494fc99d821413081b81f256e5e9092",
       "version_major": 2,
       "version_minor": 0
      },
      "text/plain": [
       "No Spike Likelihood:   0%|          | 0/30 [00:00<?, ?cell/s]"
      ]
     },
     "metadata": {},
     "output_type": "display_data"
    },
    {
     "data": {
      "application/vnd.jupyter.widget-view+json": {
       "model_id": "d424f9c3d36d4ec5b7dc9c9df7bbfa1d",
       "version_major": 2,
       "version_minor": 0
      },
      "text/plain": [
       "Non-Local Likelihood:   0%|          | 0/30 [00:00<?, ?cell/s]"
      ]
     },
     "metadata": {},
     "output_type": "display_data"
    },
    {
     "data": {
      "application/vnd.jupyter.widget-view+json": {
       "model_id": "845b1cf670d94d55918ea74655ca5c99",
       "version_major": 2,
       "version_minor": 0
      },
      "text/plain": [
       "Encoding models:   0%|          | 0/30 [00:00<?, ?cell/s]"
      ]
     },
     "metadata": {},
     "output_type": "display_data"
    },
    {
     "data": {
      "application/vnd.jupyter.widget-view+json": {
       "model_id": "b05347fa5e62488f89eb72b34ef19023",
       "version_major": 2,
       "version_minor": 0
      },
      "text/plain": [
       "Local Likelihood:   0%|          | 0/30 [00:00<?, ?cell/s]"
      ]
     },
     "metadata": {},
     "output_type": "display_data"
    },
    {
     "data": {
      "application/vnd.jupyter.widget-view+json": {
       "model_id": "8dd63b05248b4ddbaba42a395459dfe0",
       "version_major": 2,
       "version_minor": 0
      },
      "text/plain": [
       "No Spike Likelihood:   0%|          | 0/30 [00:00<?, ?cell/s]"
      ]
     },
     "metadata": {},
     "output_type": "display_data"
    },
    {
     "data": {
      "application/vnd.jupyter.widget-view+json": {
       "model_id": "2514ec1a36ed4b38a72bb8d418536bed",
       "version_major": 2,
       "version_minor": 0
      },
      "text/plain": [
       "Non-Local Likelihood:   0%|          | 0/30 [00:00<?, ?cell/s]"
      ]
     },
     "metadata": {},
     "output_type": "display_data"
    },
    {
     "data": {
      "application/vnd.jupyter.widget-view+json": {
       "model_id": "744e2c65d5334e6c93266d9e2bd0882b",
       "version_major": 2,
       "version_minor": 0
      },
      "text/plain": [
       "Encoding models:   0%|          | 0/30 [00:00<?, ?cell/s]"
      ]
     },
     "metadata": {},
     "output_type": "display_data"
    },
    {
     "data": {
      "application/vnd.jupyter.widget-view+json": {
       "model_id": "cf5882c1df4b4ffdb15247794e134abf",
       "version_major": 2,
       "version_minor": 0
      },
      "text/plain": [
       "Local Likelihood:   0%|          | 0/30 [00:00<?, ?cell/s]"
      ]
     },
     "metadata": {},
     "output_type": "display_data"
    },
    {
     "data": {
      "application/vnd.jupyter.widget-view+json": {
       "model_id": "6c7a8b9e2f284eada4b76c72ec4f261a",
       "version_major": 2,
       "version_minor": 0
      },
      "text/plain": [
       "No Spike Likelihood:   0%|          | 0/30 [00:00<?, ?cell/s]"
      ]
     },
     "metadata": {},
     "output_type": "display_data"
    },
    {
     "data": {
      "application/vnd.jupyter.widget-view+json": {
       "model_id": "a903ce84bec44964bd6b6786bc377288",
       "version_major": 2,
       "version_minor": 0
      },
      "text/plain": [
       "Non-Local Likelihood:   0%|          | 0/30 [00:00<?, ?cell/s]"
      ]
     },
     "metadata": {},
     "output_type": "display_data"
    },
    {
     "data": {
      "application/vnd.jupyter.widget-view+json": {
       "model_id": "9bbafe4c7ab84d448c5dc3a02d7c9470",
       "version_major": 2,
       "version_minor": 0
      },
      "text/plain": [
       "Encoding models:   0%|          | 0/30 [00:00<?, ?cell/s]"
      ]
     },
     "metadata": {},
     "output_type": "display_data"
    },
    {
     "data": {
      "application/vnd.jupyter.widget-view+json": {
       "model_id": "3dfe5f48765443c9af902651a6895813",
       "version_major": 2,
       "version_minor": 0
      },
      "text/plain": [
       "Local Likelihood:   0%|          | 0/30 [00:00<?, ?cell/s]"
      ]
     },
     "metadata": {},
     "output_type": "display_data"
    },
    {
     "data": {
      "application/vnd.jupyter.widget-view+json": {
       "model_id": "4873a7f708d8440f8d7f283a0a8a61da",
       "version_major": 2,
       "version_minor": 0
      },
      "text/plain": [
       "No Spike Likelihood:   0%|          | 0/30 [00:00<?, ?cell/s]"
      ]
     },
     "metadata": {},
     "output_type": "display_data"
    },
    {
     "data": {
      "application/vnd.jupyter.widget-view+json": {
       "model_id": "c9bfd20a9c7f40c298127c5126693778",
       "version_major": 2,
       "version_minor": 0
      },
      "text/plain": [
       "Non-Local Likelihood:   0%|          | 0/30 [00:00<?, ?cell/s]"
      ]
     },
     "metadata": {},
     "output_type": "display_data"
    },
    {
     "data": {
      "application/vnd.jupyter.widget-view+json": {
       "model_id": "ef78e8f0d5ce49ac8acabf1da44ac7ca",
       "version_major": 2,
       "version_minor": 0
      },
      "text/plain": [
       "Encoding models:   0%|          | 0/30 [00:00<?, ?cell/s]"
      ]
     },
     "metadata": {},
     "output_type": "display_data"
    },
    {
     "data": {
      "application/vnd.jupyter.widget-view+json": {
       "model_id": "30ee224394ef46af86b450ba609a5719",
       "version_major": 2,
       "version_minor": 0
      },
      "text/plain": [
       "Local Likelihood:   0%|          | 0/30 [00:00<?, ?cell/s]"
      ]
     },
     "metadata": {},
     "output_type": "display_data"
    },
    {
     "data": {
      "application/vnd.jupyter.widget-view+json": {
       "model_id": "8f3dcc407811433fb160418f582cdc82",
       "version_major": 2,
       "version_minor": 0
      },
      "text/plain": [
       "No Spike Likelihood:   0%|          | 0/30 [00:00<?, ?cell/s]"
      ]
     },
     "metadata": {},
     "output_type": "display_data"
    },
    {
     "data": {
      "application/vnd.jupyter.widget-view+json": {
       "model_id": "7e5e8dc8efd8490a8dd09f596f7c6d84",
       "version_major": 2,
       "version_minor": 0
      },
      "text/plain": [
       "Non-Local Likelihood:   0%|          | 0/30 [00:00<?, ?cell/s]"
      ]
     },
     "metadata": {},
     "output_type": "display_data"
    },
    {
     "data": {
      "application/vnd.jupyter.widget-view+json": {
       "model_id": "b13da5bdc2684f97be8d5a599205666b",
       "version_major": 2,
       "version_minor": 0
      },
      "text/plain": [
       "Encoding models:   0%|          | 0/30 [00:00<?, ?cell/s]"
      ]
     },
     "metadata": {},
     "output_type": "display_data"
    },
    {
     "data": {
      "application/vnd.jupyter.widget-view+json": {
       "model_id": "bc0941b9b2c34a369fdb7c1ad5118a9e",
       "version_major": 2,
       "version_minor": 0
      },
      "text/plain": [
       "Local Likelihood:   0%|          | 0/30 [00:00<?, ?cell/s]"
      ]
     },
     "metadata": {},
     "output_type": "display_data"
    },
    {
     "data": {
      "application/vnd.jupyter.widget-view+json": {
       "model_id": "0853ea1baa6544ce9d7f4f5551cdbab7",
       "version_major": 2,
       "version_minor": 0
      },
      "text/plain": [
       "No Spike Likelihood:   0%|          | 0/30 [00:00<?, ?cell/s]"
      ]
     },
     "metadata": {},
     "output_type": "display_data"
    },
    {
     "data": {
      "application/vnd.jupyter.widget-view+json": {
       "model_id": "89fb9aba73ca4745b54c2c0fab5a9df2",
       "version_major": 2,
       "version_minor": 0
      },
      "text/plain": [
       "Non-Local Likelihood:   0%|          | 0/30 [00:00<?, ?cell/s]"
      ]
     },
     "metadata": {},
     "output_type": "display_data"
    },
    {
     "data": {
      "application/vnd.jupyter.widget-view+json": {
       "model_id": "2b5f157914f746808c30f4553db40201",
       "version_major": 2,
       "version_minor": 0
      },
      "text/plain": [
       "Encoding models:   0%|          | 0/30 [00:00<?, ?cell/s]"
      ]
     },
     "metadata": {},
     "output_type": "display_data"
    },
    {
     "data": {
      "application/vnd.jupyter.widget-view+json": {
       "model_id": "ad9e95cadd0847eca3ece0306a8b3253",
       "version_major": 2,
       "version_minor": 0
      },
      "text/plain": [
       "Local Likelihood:   0%|          | 0/30 [00:00<?, ?cell/s]"
      ]
     },
     "metadata": {},
     "output_type": "display_data"
    },
    {
     "data": {
      "application/vnd.jupyter.widget-view+json": {
       "model_id": "bb558c37314a40c483db43b2e10f0084",
       "version_major": 2,
       "version_minor": 0
      },
      "text/plain": [
       "No Spike Likelihood:   0%|          | 0/30 [00:00<?, ?cell/s]"
      ]
     },
     "metadata": {},
     "output_type": "display_data"
    },
    {
     "data": {
      "application/vnd.jupyter.widget-view+json": {
       "model_id": "8250fa5a449544f9bb827314d53ef581",
       "version_major": 2,
       "version_minor": 0
      },
      "text/plain": [
       "Non-Local Likelihood:   0%|          | 0/30 [00:00<?, ?cell/s]"
      ]
     },
     "metadata": {},
     "output_type": "display_data"
    },
    {
     "data": {
      "application/vnd.jupyter.widget-view+json": {
       "model_id": "0cb314f3f892430f9a1eed66503909ea",
       "version_major": 2,
       "version_minor": 0
      },
      "text/plain": [
       "Encoding models:   0%|          | 0/30 [00:00<?, ?cell/s]"
      ]
     },
     "metadata": {},
     "output_type": "display_data"
    },
    {
     "data": {
      "application/vnd.jupyter.widget-view+json": {
       "model_id": "eea7df1d482c4b27a4ed455a8a63370e",
       "version_major": 2,
       "version_minor": 0
      },
      "text/plain": [
       "Local Likelihood:   0%|          | 0/30 [00:00<?, ?cell/s]"
      ]
     },
     "metadata": {},
     "output_type": "display_data"
    },
    {
     "data": {
      "application/vnd.jupyter.widget-view+json": {
       "model_id": "f1154d4ca5f94415acd270991461251d",
       "version_major": 2,
       "version_minor": 0
      },
      "text/plain": [
       "No Spike Likelihood:   0%|          | 0/30 [00:00<?, ?cell/s]"
      ]
     },
     "metadata": {},
     "output_type": "display_data"
    },
    {
     "data": {
      "application/vnd.jupyter.widget-view+json": {
       "model_id": "e6278e3241a945c49b2ae3170718edcd",
       "version_major": 2,
       "version_minor": 0
      },
      "text/plain": [
       "Non-Local Likelihood:   0%|          | 0/30 [00:00<?, ?cell/s]"
      ]
     },
     "metadata": {},
     "output_type": "display_data"
    },
    {
     "data": {
      "application/vnd.jupyter.widget-view+json": {
       "model_id": "8fa90c2c4812417fae3f611526371b71",
       "version_major": 2,
       "version_minor": 0
      },
      "text/plain": [
       "Encoding models:   0%|          | 0/30 [00:00<?, ?cell/s]"
      ]
     },
     "metadata": {},
     "output_type": "display_data"
    },
    {
     "data": {
      "application/vnd.jupyter.widget-view+json": {
       "model_id": "f15fd84ecc424a76b7c1ffa5bee9b1c5",
       "version_major": 2,
       "version_minor": 0
      },
      "text/plain": [
       "Local Likelihood:   0%|          | 0/30 [00:00<?, ?cell/s]"
      ]
     },
     "metadata": {},
     "output_type": "display_data"
    },
    {
     "data": {
      "application/vnd.jupyter.widget-view+json": {
       "model_id": "e6111e30a6a84dedaf9759016d2889bb",
       "version_major": 2,
       "version_minor": 0
      },
      "text/plain": [
       "No Spike Likelihood:   0%|          | 0/30 [00:00<?, ?cell/s]"
      ]
     },
     "metadata": {},
     "output_type": "display_data"
    },
    {
     "data": {
      "application/vnd.jupyter.widget-view+json": {
       "model_id": "6d2845337d6c4402a634a4fb6ccfbbfa",
       "version_major": 2,
       "version_minor": 0
      },
      "text/plain": [
       "Non-Local Likelihood:   0%|          | 0/30 [00:00<?, ?cell/s]"
      ]
     },
     "metadata": {},
     "output_type": "display_data"
    },
    {
     "data": {
      "application/vnd.jupyter.widget-view+json": {
       "model_id": "d6f2ab54f6a8470cbb6231d83579efb4",
       "version_major": 2,
       "version_minor": 0
      },
      "text/plain": [
       "Encoding models:   0%|          | 0/30 [00:00<?, ?cell/s]"
      ]
     },
     "metadata": {},
     "output_type": "display_data"
    },
    {
     "data": {
      "application/vnd.jupyter.widget-view+json": {
       "model_id": "c20371b3921344d6aebb81827a158ef7",
       "version_major": 2,
       "version_minor": 0
      },
      "text/plain": [
       "Local Likelihood:   0%|          | 0/30 [00:00<?, ?cell/s]"
      ]
     },
     "metadata": {},
     "output_type": "display_data"
    },
    {
     "data": {
      "application/vnd.jupyter.widget-view+json": {
       "model_id": "0de6ed1d01d3439cb123c9b558d6f318",
       "version_major": 2,
       "version_minor": 0
      },
      "text/plain": [
       "No Spike Likelihood:   0%|          | 0/30 [00:00<?, ?cell/s]"
      ]
     },
     "metadata": {},
     "output_type": "display_data"
    },
    {
     "data": {
      "application/vnd.jupyter.widget-view+json": {
       "model_id": "f30ce83b72264010b2920e01fc9710d2",
       "version_major": 2,
       "version_minor": 0
      },
      "text/plain": [
       "Non-Local Likelihood:   0%|          | 0/30 [00:00<?, ?cell/s]"
      ]
     },
     "metadata": {},
     "output_type": "display_data"
    },
    {
     "data": {
      "application/vnd.jupyter.widget-view+json": {
       "model_id": "4097a7f7240547d0a561fb65986e47ba",
       "version_major": 2,
       "version_minor": 0
      },
      "text/plain": [
       "Encoding models:   0%|          | 0/30 [00:00<?, ?cell/s]"
      ]
     },
     "metadata": {},
     "output_type": "display_data"
    },
    {
     "data": {
      "application/vnd.jupyter.widget-view+json": {
       "model_id": "b50b5c2931dd4bb3bc2d46a3db4d3dad",
       "version_major": 2,
       "version_minor": 0
      },
      "text/plain": [
       "Local Likelihood:   0%|          | 0/30 [00:00<?, ?cell/s]"
      ]
     },
     "metadata": {},
     "output_type": "display_data"
    },
    {
     "data": {
      "application/vnd.jupyter.widget-view+json": {
       "model_id": "b78f94ebf51243aa989e0a8f209479c3",
       "version_major": 2,
       "version_minor": 0
      },
      "text/plain": [
       "No Spike Likelihood:   0%|          | 0/30 [00:00<?, ?cell/s]"
      ]
     },
     "metadata": {},
     "output_type": "display_data"
    },
    {
     "data": {
      "application/vnd.jupyter.widget-view+json": {
       "model_id": "c80be8ddff964ab9878767bbb03fa0d2",
       "version_major": 2,
       "version_minor": 0
      },
      "text/plain": [
       "Non-Local Likelihood:   0%|          | 0/30 [00:00<?, ?cell/s]"
      ]
     },
     "metadata": {},
     "output_type": "display_data"
    },
    {
     "data": {
      "application/vnd.jupyter.widget-view+json": {
       "model_id": "2911dbd376ed4ca1b4279ed722fbe4a7",
       "version_major": 2,
       "version_minor": 0
      },
      "text/plain": [
       "Encoding models:   0%|          | 0/30 [00:00<?, ?cell/s]"
      ]
     },
     "metadata": {},
     "output_type": "display_data"
    },
    {
     "data": {
      "application/vnd.jupyter.widget-view+json": {
       "model_id": "87f17c9008c145a0b1909cf6fc055e0d",
       "version_major": 2,
       "version_minor": 0
      },
      "text/plain": [
       "Local Likelihood:   0%|          | 0/30 [00:00<?, ?cell/s]"
      ]
     },
     "metadata": {},
     "output_type": "display_data"
    },
    {
     "data": {
      "application/vnd.jupyter.widget-view+json": {
       "model_id": "4b0af578cef340419b9729ca23ecd97a",
       "version_major": 2,
       "version_minor": 0
      },
      "text/plain": [
       "No Spike Likelihood:   0%|          | 0/30 [00:00<?, ?cell/s]"
      ]
     },
     "metadata": {},
     "output_type": "display_data"
    },
    {
     "data": {
      "application/vnd.jupyter.widget-view+json": {
       "model_id": "55ed074fc40f43da84a37477535b4c67",
       "version_major": 2,
       "version_minor": 0
      },
      "text/plain": [
       "Non-Local Likelihood:   0%|          | 0/30 [00:00<?, ?cell/s]"
      ]
     },
     "metadata": {},
     "output_type": "display_data"
    },
    {
     "data": {
      "application/vnd.jupyter.widget-view+json": {
       "model_id": "1935cb633f18466980ed0cb9c5721621",
       "version_major": 2,
       "version_minor": 0
      },
      "text/plain": [
       "Encoding models:   0%|          | 0/30 [00:00<?, ?cell/s]"
      ]
     },
     "metadata": {},
     "output_type": "display_data"
    },
    {
     "name": "stderr",
     "output_type": "stream",
     "text": [
      "/Users/edeno/Documents/GitHub/non_local_detector/src/non_local_detector/models/base.py:1222: FutureWarning: the `pandas.MultiIndex` object(s) passed as 'state_bins' coordinate(s) or data variable(s) will no longer be implicitly promoted and wrapped into multiple indexed coordinates in the future (i.e., one coordinate for each multi-index level + one dimension coordinate). If you want to keep this behavior, you need to first wrap it explicitly using `mindex_coords = xarray.Coordinates.from_pandas_multiindex(mindex_obj, 'dim')` and pass it as coordinates, e.g., `xarray.Dataset(coords=mindex_coords)`, `dataset.assign_coords(mindex_coords)` or `dataarray.assign_coords(mindex_coords)`.\n",
      "  results = xr.Dataset(\n"
     ]
    },
    {
     "data": {
      "text/html": [
       "<div><svg style=\"position: absolute; width: 0; height: 0; overflow: hidden\">\n",
       "<defs>\n",
       "<symbol id=\"icon-database\" viewBox=\"0 0 32 32\">\n",
       "<path d=\"M16 0c-8.837 0-16 2.239-16 5v4c0 2.761 7.163 5 16 5s16-2.239 16-5v-4c0-2.761-7.163-5-16-5z\"></path>\n",
       "<path d=\"M16 17c-8.837 0-16-2.239-16-5v6c0 2.761 7.163 5 16 5s16-2.239 16-5v-6c0 2.761-7.163 5-16 5z\"></path>\n",
       "<path d=\"M16 26c-8.837 0-16-2.239-16-5v6c0 2.761 7.163 5 16 5s16-2.239 16-5v-6c0 2.761-7.163 5-16 5z\"></path>\n",
       "</symbol>\n",
       "<symbol id=\"icon-file-text2\" viewBox=\"0 0 32 32\">\n",
       "<path d=\"M28.681 7.159c-0.694-0.947-1.662-2.053-2.724-3.116s-2.169-2.030-3.116-2.724c-1.612-1.182-2.393-1.319-2.841-1.319h-15.5c-1.378 0-2.5 1.121-2.5 2.5v27c0 1.378 1.122 2.5 2.5 2.5h23c1.378 0 2.5-1.122 2.5-2.5v-19.5c0-0.448-0.137-1.23-1.319-2.841zM24.543 5.457c0.959 0.959 1.712 1.825 2.268 2.543h-4.811v-4.811c0.718 0.556 1.584 1.309 2.543 2.268zM28 29.5c0 0.271-0.229 0.5-0.5 0.5h-23c-0.271 0-0.5-0.229-0.5-0.5v-27c0-0.271 0.229-0.5 0.5-0.5 0 0 15.499-0 15.5 0v7c0 0.552 0.448 1 1 1h7v19.5z\"></path>\n",
       "<path d=\"M23 26h-14c-0.552 0-1-0.448-1-1s0.448-1 1-1h14c0.552 0 1 0.448 1 1s-0.448 1-1 1z\"></path>\n",
       "<path d=\"M23 22h-14c-0.552 0-1-0.448-1-1s0.448-1 1-1h14c0.552 0 1 0.448 1 1s-0.448 1-1 1z\"></path>\n",
       "<path d=\"M23 18h-14c-0.552 0-1-0.448-1-1s0.448-1 1-1h14c0.552 0 1 0.448 1 1s-0.448 1-1 1z\"></path>\n",
       "</symbol>\n",
       "</defs>\n",
       "</svg>\n",
       "<style>/* CSS stylesheet for displaying xarray objects in jupyterlab.\n",
       " *\n",
       " */\n",
       "\n",
       ":root {\n",
       "  --xr-font-color0: var(--jp-content-font-color0, rgba(0, 0, 0, 1));\n",
       "  --xr-font-color2: var(--jp-content-font-color2, rgba(0, 0, 0, 0.54));\n",
       "  --xr-font-color3: var(--jp-content-font-color3, rgba(0, 0, 0, 0.38));\n",
       "  --xr-border-color: var(--jp-border-color2, #e0e0e0);\n",
       "  --xr-disabled-color: var(--jp-layout-color3, #bdbdbd);\n",
       "  --xr-background-color: var(--jp-layout-color0, white);\n",
       "  --xr-background-color-row-even: var(--jp-layout-color1, white);\n",
       "  --xr-background-color-row-odd: var(--jp-layout-color2, #eeeeee);\n",
       "}\n",
       "\n",
       "html[theme=\"dark\"],\n",
       "html[data-theme=\"dark\"],\n",
       "body[data-theme=\"dark\"],\n",
       "body.vscode-dark {\n",
       "  --xr-font-color0: rgba(255, 255, 255, 1);\n",
       "  --xr-font-color2: rgba(255, 255, 255, 0.54);\n",
       "  --xr-font-color3: rgba(255, 255, 255, 0.38);\n",
       "  --xr-border-color: #1f1f1f;\n",
       "  --xr-disabled-color: #515151;\n",
       "  --xr-background-color: #111111;\n",
       "  --xr-background-color-row-even: #111111;\n",
       "  --xr-background-color-row-odd: #313131;\n",
       "}\n",
       "\n",
       ".xr-wrap {\n",
       "  display: block !important;\n",
       "  min-width: 300px;\n",
       "  max-width: 700px;\n",
       "}\n",
       "\n",
       ".xr-text-repr-fallback {\n",
       "  /* fallback to plain text repr when CSS is not injected (untrusted notebook) */\n",
       "  display: none;\n",
       "}\n",
       "\n",
       ".xr-header {\n",
       "  padding-top: 6px;\n",
       "  padding-bottom: 6px;\n",
       "  margin-bottom: 4px;\n",
       "  border-bottom: solid 1px var(--xr-border-color);\n",
       "}\n",
       "\n",
       ".xr-header > div,\n",
       ".xr-header > ul {\n",
       "  display: inline;\n",
       "  margin-top: 0;\n",
       "  margin-bottom: 0;\n",
       "}\n",
       "\n",
       ".xr-obj-type,\n",
       ".xr-array-name {\n",
       "  margin-left: 2px;\n",
       "  margin-right: 10px;\n",
       "}\n",
       "\n",
       ".xr-obj-type {\n",
       "  color: var(--xr-font-color2);\n",
       "}\n",
       "\n",
       ".xr-sections {\n",
       "  padding-left: 0 !important;\n",
       "  display: grid;\n",
       "  grid-template-columns: 150px auto auto 1fr 0 20px 0 20px;\n",
       "}\n",
       "\n",
       ".xr-section-item {\n",
       "  display: contents;\n",
       "}\n",
       "\n",
       ".xr-section-item input {\n",
       "  display: inline-block;\n",
       "  opacity: 0;\n",
       "  height: 0;\n",
       "}\n",
       "\n",
       ".xr-section-item input + label {\n",
       "  color: var(--xr-disabled-color);\n",
       "}\n",
       "\n",
       ".xr-section-item input:enabled + label {\n",
       "  cursor: pointer;\n",
       "  color: var(--xr-font-color2);\n",
       "}\n",
       "\n",
       ".xr-section-item input:focus + label {\n",
       "  border: 2px solid var(--xr-font-color0);\n",
       "}\n",
       "\n",
       ".xr-section-item input:enabled + label:hover {\n",
       "  color: var(--xr-font-color0);\n",
       "}\n",
       "\n",
       ".xr-section-summary {\n",
       "  grid-column: 1;\n",
       "  color: var(--xr-font-color2);\n",
       "  font-weight: 500;\n",
       "}\n",
       "\n",
       ".xr-section-summary > span {\n",
       "  display: inline-block;\n",
       "  padding-left: 0.5em;\n",
       "}\n",
       "\n",
       ".xr-section-summary-in:disabled + label {\n",
       "  color: var(--xr-font-color2);\n",
       "}\n",
       "\n",
       ".xr-section-summary-in + label:before {\n",
       "  display: inline-block;\n",
       "  content: \"►\";\n",
       "  font-size: 11px;\n",
       "  width: 15px;\n",
       "  text-align: center;\n",
       "}\n",
       "\n",
       ".xr-section-summary-in:disabled + label:before {\n",
       "  color: var(--xr-disabled-color);\n",
       "}\n",
       "\n",
       ".xr-section-summary-in:checked + label:before {\n",
       "  content: \"▼\";\n",
       "}\n",
       "\n",
       ".xr-section-summary-in:checked + label > span {\n",
       "  display: none;\n",
       "}\n",
       "\n",
       ".xr-section-summary,\n",
       ".xr-section-inline-details {\n",
       "  padding-top: 4px;\n",
       "  padding-bottom: 4px;\n",
       "}\n",
       "\n",
       ".xr-section-inline-details {\n",
       "  grid-column: 2 / -1;\n",
       "}\n",
       "\n",
       ".xr-section-details {\n",
       "  display: none;\n",
       "  grid-column: 1 / -1;\n",
       "  margin-bottom: 5px;\n",
       "}\n",
       "\n",
       ".xr-section-summary-in:checked ~ .xr-section-details {\n",
       "  display: contents;\n",
       "}\n",
       "\n",
       ".xr-array-wrap {\n",
       "  grid-column: 1 / -1;\n",
       "  display: grid;\n",
       "  grid-template-columns: 20px auto;\n",
       "}\n",
       "\n",
       ".xr-array-wrap > label {\n",
       "  grid-column: 1;\n",
       "  vertical-align: top;\n",
       "}\n",
       "\n",
       ".xr-preview {\n",
       "  color: var(--xr-font-color3);\n",
       "}\n",
       "\n",
       ".xr-array-preview,\n",
       ".xr-array-data {\n",
       "  padding: 0 5px !important;\n",
       "  grid-column: 2;\n",
       "}\n",
       "\n",
       ".xr-array-data,\n",
       ".xr-array-in:checked ~ .xr-array-preview {\n",
       "  display: none;\n",
       "}\n",
       "\n",
       ".xr-array-in:checked ~ .xr-array-data,\n",
       ".xr-array-preview {\n",
       "  display: inline-block;\n",
       "}\n",
       "\n",
       ".xr-dim-list {\n",
       "  display: inline-block !important;\n",
       "  list-style: none;\n",
       "  padding: 0 !important;\n",
       "  margin: 0;\n",
       "}\n",
       "\n",
       ".xr-dim-list li {\n",
       "  display: inline-block;\n",
       "  padding: 0;\n",
       "  margin: 0;\n",
       "}\n",
       "\n",
       ".xr-dim-list:before {\n",
       "  content: \"(\";\n",
       "}\n",
       "\n",
       ".xr-dim-list:after {\n",
       "  content: \")\";\n",
       "}\n",
       "\n",
       ".xr-dim-list li:not(:last-child):after {\n",
       "  content: \",\";\n",
       "  padding-right: 5px;\n",
       "}\n",
       "\n",
       ".xr-has-index {\n",
       "  font-weight: bold;\n",
       "}\n",
       "\n",
       ".xr-var-list,\n",
       ".xr-var-item {\n",
       "  display: contents;\n",
       "}\n",
       "\n",
       ".xr-var-item > div,\n",
       ".xr-var-item label,\n",
       ".xr-var-item > .xr-var-name span {\n",
       "  background-color: var(--xr-background-color-row-even);\n",
       "  margin-bottom: 0;\n",
       "}\n",
       "\n",
       ".xr-var-item > .xr-var-name:hover span {\n",
       "  padding-right: 5px;\n",
       "}\n",
       "\n",
       ".xr-var-list > li:nth-child(odd) > div,\n",
       ".xr-var-list > li:nth-child(odd) > label,\n",
       ".xr-var-list > li:nth-child(odd) > .xr-var-name span {\n",
       "  background-color: var(--xr-background-color-row-odd);\n",
       "}\n",
       "\n",
       ".xr-var-name {\n",
       "  grid-column: 1;\n",
       "}\n",
       "\n",
       ".xr-var-dims {\n",
       "  grid-column: 2;\n",
       "}\n",
       "\n",
       ".xr-var-dtype {\n",
       "  grid-column: 3;\n",
       "  text-align: right;\n",
       "  color: var(--xr-font-color2);\n",
       "}\n",
       "\n",
       ".xr-var-preview {\n",
       "  grid-column: 4;\n",
       "}\n",
       "\n",
       ".xr-index-preview {\n",
       "  grid-column: 2 / 5;\n",
       "  color: var(--xr-font-color2);\n",
       "}\n",
       "\n",
       ".xr-var-name,\n",
       ".xr-var-dims,\n",
       ".xr-var-dtype,\n",
       ".xr-preview,\n",
       ".xr-attrs dt {\n",
       "  white-space: nowrap;\n",
       "  overflow: hidden;\n",
       "  text-overflow: ellipsis;\n",
       "  padding-right: 10px;\n",
       "}\n",
       "\n",
       ".xr-var-name:hover,\n",
       ".xr-var-dims:hover,\n",
       ".xr-var-dtype:hover,\n",
       ".xr-attrs dt:hover {\n",
       "  overflow: visible;\n",
       "  width: auto;\n",
       "  z-index: 1;\n",
       "}\n",
       "\n",
       ".xr-var-attrs,\n",
       ".xr-var-data,\n",
       ".xr-index-data {\n",
       "  display: none;\n",
       "  background-color: var(--xr-background-color) !important;\n",
       "  padding-bottom: 5px !important;\n",
       "}\n",
       "\n",
       ".xr-var-attrs-in:checked ~ .xr-var-attrs,\n",
       ".xr-var-data-in:checked ~ .xr-var-data,\n",
       ".xr-index-data-in:checked ~ .xr-index-data {\n",
       "  display: block;\n",
       "}\n",
       "\n",
       ".xr-var-data > table {\n",
       "  float: right;\n",
       "}\n",
       "\n",
       ".xr-var-name span,\n",
       ".xr-var-data,\n",
       ".xr-index-name div,\n",
       ".xr-index-data,\n",
       ".xr-attrs {\n",
       "  padding-left: 25px !important;\n",
       "}\n",
       "\n",
       ".xr-attrs,\n",
       ".xr-var-attrs,\n",
       ".xr-var-data,\n",
       ".xr-index-data {\n",
       "  grid-column: 1 / -1;\n",
       "}\n",
       "\n",
       "dl.xr-attrs {\n",
       "  padding: 0;\n",
       "  margin: 0;\n",
       "  display: grid;\n",
       "  grid-template-columns: 125px auto;\n",
       "}\n",
       "\n",
       ".xr-attrs dt,\n",
       ".xr-attrs dd {\n",
       "  padding: 0;\n",
       "  margin: 0;\n",
       "  float: left;\n",
       "  padding-right: 10px;\n",
       "  width: auto;\n",
       "}\n",
       "\n",
       ".xr-attrs dt {\n",
       "  font-weight: normal;\n",
       "  grid-column: 1;\n",
       "}\n",
       "\n",
       ".xr-attrs dt:hover span {\n",
       "  display: inline-block;\n",
       "  background: var(--xr-background-color);\n",
       "  padding-right: 10px;\n",
       "}\n",
       "\n",
       ".xr-attrs dd {\n",
       "  grid-column: 2;\n",
       "  white-space: pre-wrap;\n",
       "  word-break: break-all;\n",
       "}\n",
       "\n",
       ".xr-icon-database,\n",
       ".xr-icon-file-text2,\n",
       ".xr-no-icon {\n",
       "  display: inline-block;\n",
       "  vertical-align: middle;\n",
       "  width: 1em;\n",
       "  height: 1.5em !important;\n",
       "  stroke-width: 0;\n",
       "  stroke: currentColor;\n",
       "  fill: currentColor;\n",
       "}\n",
       "</style><pre class='xr-text-repr-fallback'>&lt;xarray.Dataset&gt; Size: 70MB\n",
       "Dimensions:                      (time: 97500, state_bins: 174, states: 4,\n",
       "                                  state_ind: 174)\n",
       "Coordinates:\n",
       "  * time                         (time) float64 780kB 0.0 0.0006667 ... 65.0\n",
       "  * state_bins                   (state_bins) object 1kB MultiIndex\n",
       "  * state                        (state_bins) object 1kB &#x27;Local&#x27; ... &#x27;Non-Loc...\n",
       "  * position                     (state_bins) float64 1kB nan nan ... 169.0\n",
       "  * state_ind                    (state_ind) int64 1kB 0 1 2 2 2 2 ... 3 3 3 3 3\n",
       "  * states                       (states) &lt;U20 320B &#x27;Local&#x27; ... &#x27;Non-Local Fr...\n",
       "    environments                 (states) &lt;U1 16B &#x27;&#x27; &#x27;&#x27; &#x27;&#x27; &#x27;&#x27;\n",
       "    encoding_groups              (states) int64 32B 0 0 0 0\n",
       "Data variables:\n",
       "    acausal_posterior            (time, state_bins) float32 68MB 1.0 ... 8.91...\n",
       "    acausal_state_probabilities  (time, states) float32 2MB 1.0 ... 0.0007654\n",
       "Attributes:\n",
       "    marginal_log_likelihoods:  [-13445.572  -13246.85   -12045.117  -11638.82...</pre><div class='xr-wrap' style='display:none'><div class='xr-header'><div class='xr-obj-type'>xarray.Dataset</div></div><ul class='xr-sections'><li class='xr-section-item'><input id='section-bf628a2f-f39e-416a-8dff-8a9e50247b12' class='xr-section-summary-in' type='checkbox' disabled ><label for='section-bf628a2f-f39e-416a-8dff-8a9e50247b12' class='xr-section-summary'  title='Expand/collapse section'>Dimensions:</label><div class='xr-section-inline-details'><ul class='xr-dim-list'><li><span class='xr-has-index'>time</span>: 97500</li><li><span class='xr-has-index'>state_bins</span>: 174</li><li><span class='xr-has-index'>states</span>: 4</li><li><span class='xr-has-index'>state_ind</span>: 174</li></ul></div><div class='xr-section-details'></div></li><li class='xr-section-item'><input id='section-21809698-526b-4bc3-853a-751a87077566' class='xr-section-summary-in' type='checkbox'  checked><label for='section-21809698-526b-4bc3-853a-751a87077566' class='xr-section-summary' >Coordinates: <span>(8)</span></label><div class='xr-section-inline-details'></div><div class='xr-section-details'><ul class='xr-var-list'><li class='xr-var-item'><div class='xr-var-name'><span class='xr-has-index'>time</span></div><div class='xr-var-dims'>(time)</div><div class='xr-var-dtype'>float64</div><div class='xr-var-preview xr-preview'>0.0 0.0006667 ... 65.0 65.0</div><input id='attrs-18a53a23-d109-4f16-a9d8-9b133fdecba7' class='xr-var-attrs-in' type='checkbox' disabled><label for='attrs-18a53a23-d109-4f16-a9d8-9b133fdecba7' title='Show/Hide attributes'><svg class='icon xr-icon-file-text2'><use xlink:href='#icon-file-text2'></use></svg></label><input id='data-6dd51e45-8284-4de5-88b9-617d45070e5f' class='xr-var-data-in' type='checkbox'><label for='data-6dd51e45-8284-4de5-88b9-617d45070e5f' title='Show/Hide data repr'><svg class='icon xr-icon-database'><use xlink:href='#icon-database'></use></svg></label><div class='xr-var-attrs'><dl class='xr-attrs'></dl></div><div class='xr-var-data'><pre>array([0.000000e+00, 6.666667e-04, 1.333333e-03, ..., 6.499800e+01,\n",
       "       6.499867e+01, 6.499933e+01])</pre></div></li><li class='xr-var-item'><div class='xr-var-name'><span class='xr-has-index'>state_bins</span></div><div class='xr-var-dims'>(state_bins)</div><div class='xr-var-dtype'>object</div><div class='xr-var-preview xr-preview'>MultiIndex</div><input id='attrs-ba283d49-baa0-46ba-b168-2e57d18b27f4' class='xr-var-attrs-in' type='checkbox' disabled><label for='attrs-ba283d49-baa0-46ba-b168-2e57d18b27f4' title='Show/Hide attributes'><svg class='icon xr-icon-file-text2'><use xlink:href='#icon-file-text2'></use></svg></label><input id='data-cc1afd71-1789-4590-a2ee-097ea58b9c1b' class='xr-var-data-in' type='checkbox'><label for='data-cc1afd71-1789-4590-a2ee-097ea58b9c1b' title='Show/Hide data repr'><svg class='icon xr-icon-database'><use xlink:href='#icon-database'></use></svg></label><div class='xr-var-attrs'><dl class='xr-attrs'></dl></div><div class='xr-var-data'><pre>array([(&#x27;Local&#x27;, nan), (&#x27;No-Spike&#x27;, nan),\n",
       "       (&#x27;Non-Local Continuous&#x27;, 0.9882505799140617),\n",
       "       (&#x27;Non-Local Continuous&#x27;, 2.965000972225234),\n",
       "       (&#x27;Non-Local Continuous&#x27;, 4.941751364536406),\n",
       "       (&#x27;Non-Local Continuous&#x27;, 6.9185017568475775),\n",
       "       (&#x27;Non-Local Continuous&#x27;, 8.895252149158749),\n",
       "       (&#x27;Non-Local Continuous&#x27;, 10.872002541469922),\n",
       "       (&#x27;Non-Local Continuous&#x27;, 12.848752933781093),\n",
       "       (&#x27;Non-Local Continuous&#x27;, 14.825503326092266),\n",
       "       (&#x27;Non-Local Continuous&#x27;, 16.802253718403435),\n",
       "       (&#x27;Non-Local Continuous&#x27;, 18.77900411071461),\n",
       "       (&#x27;Non-Local Continuous&#x27;, 20.75575450302578),\n",
       "       (&#x27;Non-Local Continuous&#x27;, 22.73250489533695),\n",
       "       (&#x27;Non-Local Continuous&#x27;, 24.709255287648126),\n",
       "       (&#x27;Non-Local Continuous&#x27;, 26.686005679959298),\n",
       "       (&#x27;Non-Local Continuous&#x27;, 28.66275607227047),\n",
       "       (&#x27;Non-Local Continuous&#x27;, 30.639506464581643),\n",
       "       (&#x27;Non-Local Continuous&#x27;, 32.61625685689282),\n",
       "       (&#x27;Non-Local Continuous&#x27;, 34.59300724920399),\n",
       "       (&#x27;Non-Local Continuous&#x27;, 36.56975764151516),\n",
       "       (&#x27;Non-Local Continuous&#x27;, 38.54650803382633),\n",
       "       (&#x27;Non-Local Continuous&#x27;, 40.5232584261375),\n",
       "       (&#x27;Non-Local Continuous&#x27;, 42.50000881844868),\n",
       "       (&#x27;Non-Local Continuous&#x27;, 44.47675921075985),\n",
       "       (&#x27;Non-Local Continuous&#x27;, 46.45350960307102),\n",
       "       (&#x27;Non-Local Continuous&#x27;, 48.430259995382194),\n",
       "       (&#x27;Non-Local Continuous&#x27;, 50.40701038769336),\n",
       "       (&#x27;Non-Local Continuous&#x27;, 52.383760780004536),\n",
       "       (&#x27;Non-Local Continuous&#x27;, 54.36051117231571),\n",
       "       (&#x27;Non-Local Continuous&#x27;, 56.337261564626886),\n",
       "       (&#x27;Non-Local Continuous&#x27;, 58.31401195693805),\n",
       "       (&#x27;Non-Local Continuous&#x27;, 60.29076234924922),\n",
       "       (&#x27;Non-Local Continuous&#x27;, 62.267512741560395),\n",
       "       (&#x27;Non-Local Continuous&#x27;, 64.24426313387157),\n",
       "       (&#x27;Non-Local Continuous&#x27;, 66.22101352618274),\n",
       "       (&#x27;Non-Local Continuous&#x27;, 68.1977639184939),\n",
       "       (&#x27;Non-Local Continuous&#x27;, 70.17451431080508),\n",
       "       (&#x27;Non-Local Continuous&#x27;, 72.15126470311625),\n",
       "       (&#x27;Non-Local Continuous&#x27;, 74.12801509542743),\n",
       "       (&#x27;Non-Local Continuous&#x27;, 76.1047654877386),\n",
       "       (&#x27;Non-Local Continuous&#x27;, 78.08151588004978),\n",
       "       (&#x27;Non-Local Continuous&#x27;, 80.05826627236094),\n",
       "       (&#x27;Non-Local Continuous&#x27;, 82.03501666467211),\n",
       "       (&#x27;Non-Local Continuous&#x27;, 84.01176705698329),\n",
       "       (&#x27;Non-Local Continuous&#x27;, 85.98851744929446),\n",
       "       (&#x27;Non-Local Continuous&#x27;, 87.96526784160564),\n",
       "       (&#x27;Non-Local Continuous&#x27;, 89.9420182339168),\n",
       "       (&#x27;Non-Local Continuous&#x27;, 91.91876862622797),\n",
       "       (&#x27;Non-Local Continuous&#x27;, 93.89551901853915),\n",
       "       (&#x27;Non-Local Continuous&#x27;, 95.87226941085032),\n",
       "       (&#x27;Non-Local Continuous&#x27;, 97.8490198031615),\n",
       "       (&#x27;Non-Local Continuous&#x27;, 99.82577019547267),\n",
       "       (&#x27;Non-Local Continuous&#x27;, 101.80252058778383),\n",
       "       (&#x27;Non-Local Continuous&#x27;, 103.779270980095),\n",
       "       (&#x27;Non-Local Continuous&#x27;, 105.75602137240618),\n",
       "       (&#x27;Non-Local Continuous&#x27;, 107.73277176471736),\n",
       "       (&#x27;Non-Local Continuous&#x27;, 109.70952215702853),\n",
       "       (&#x27;Non-Local Continuous&#x27;, 111.68627254933969),\n",
       "       (&#x27;Non-Local Continuous&#x27;, 113.66302294165087),\n",
       "       (&#x27;Non-Local Continuous&#x27;, 115.63977333396204),\n",
       "       (&#x27;Non-Local Continuous&#x27;, 117.61652372627321),\n",
       "       (&#x27;Non-Local Continuous&#x27;, 119.59327411858439),\n",
       "       (&#x27;Non-Local Continuous&#x27;, 121.57002451089556),\n",
       "       (&#x27;Non-Local Continuous&#x27;, 123.54677490320672),\n",
       "       (&#x27;Non-Local Continuous&#x27;, 125.5235252955179),\n",
       "       (&#x27;Non-Local Continuous&#x27;, 127.50027568782907),\n",
       "       (&#x27;Non-Local Continuous&#x27;, 129.47702608014026),\n",
       "       (&#x27;Non-Local Continuous&#x27;, 131.4537764724514),\n",
       "       (&#x27;Non-Local Continuous&#x27;, 133.4305268647626),\n",
       "       (&#x27;Non-Local Continuous&#x27;, 135.40727725707376),\n",
       "       (&#x27;Non-Local Continuous&#x27;, 137.38402764938493),\n",
       "       (&#x27;Non-Local Continuous&#x27;, 139.3607780416961),\n",
       "       (&#x27;Non-Local Continuous&#x27;, 141.33752843400725),\n",
       "       (&#x27;Non-Local Continuous&#x27;, 143.31427882631846),\n",
       "       (&#x27;Non-Local Continuous&#x27;, 145.2910292186296),\n",
       "       (&#x27;Non-Local Continuous&#x27;, 147.2677796109408),\n",
       "       (&#x27;Non-Local Continuous&#x27;, 149.24453000325195),\n",
       "       (&#x27;Non-Local Continuous&#x27;, 151.22128039556316),\n",
       "       (&#x27;Non-Local Continuous&#x27;, 153.1980307878743),\n",
       "       (&#x27;Non-Local Continuous&#x27;, 155.1747811801855),\n",
       "       (&#x27;Non-Local Continuous&#x27;, 157.15153157249665),\n",
       "       (&#x27;Non-Local Continuous&#x27;, 159.1282819648078),\n",
       "       (&#x27;Non-Local Continuous&#x27;, 161.105032357119),\n",
       "       (&#x27;Non-Local Continuous&#x27;, 163.08178274943015),\n",
       "       (&#x27;Non-Local Continuous&#x27;, 165.05853314174135),\n",
       "       (&#x27;Non-Local Continuous&#x27;, 167.0352835340525),\n",
       "       (&#x27;Non-Local Continuous&#x27;, 169.0120339263637),\n",
       "       (&#x27;Non-Local Fragmented&#x27;, 0.9882505799140617),\n",
       "       (&#x27;Non-Local Fragmented&#x27;, 2.965000972225234),\n",
       "       (&#x27;Non-Local Fragmented&#x27;, 4.941751364536406),\n",
       "       (&#x27;Non-Local Fragmented&#x27;, 6.9185017568475775),\n",
       "       (&#x27;Non-Local Fragmented&#x27;, 8.895252149158749),\n",
       "       (&#x27;Non-Local Fragmented&#x27;, 10.872002541469922),\n",
       "       (&#x27;Non-Local Fragmented&#x27;, 12.848752933781093),\n",
       "       (&#x27;Non-Local Fragmented&#x27;, 14.825503326092266),\n",
       "       (&#x27;Non-Local Fragmented&#x27;, 16.802253718403435),\n",
       "       (&#x27;Non-Local Fragmented&#x27;, 18.77900411071461),\n",
       "       (&#x27;Non-Local Fragmented&#x27;, 20.75575450302578),\n",
       "       (&#x27;Non-Local Fragmented&#x27;, 22.73250489533695),\n",
       "       (&#x27;Non-Local Fragmented&#x27;, 24.709255287648126),\n",
       "       (&#x27;Non-Local Fragmented&#x27;, 26.686005679959298),\n",
       "       (&#x27;Non-Local Fragmented&#x27;, 28.66275607227047),\n",
       "       (&#x27;Non-Local Fragmented&#x27;, 30.639506464581643),\n",
       "       (&#x27;Non-Local Fragmented&#x27;, 32.61625685689282),\n",
       "       (&#x27;Non-Local Fragmented&#x27;, 34.59300724920399),\n",
       "       (&#x27;Non-Local Fragmented&#x27;, 36.56975764151516),\n",
       "       (&#x27;Non-Local Fragmented&#x27;, 38.54650803382633),\n",
       "       (&#x27;Non-Local Fragmented&#x27;, 40.5232584261375),\n",
       "       (&#x27;Non-Local Fragmented&#x27;, 42.50000881844868),\n",
       "       (&#x27;Non-Local Fragmented&#x27;, 44.47675921075985),\n",
       "       (&#x27;Non-Local Fragmented&#x27;, 46.45350960307102),\n",
       "       (&#x27;Non-Local Fragmented&#x27;, 48.430259995382194),\n",
       "       (&#x27;Non-Local Fragmented&#x27;, 50.40701038769336),\n",
       "       (&#x27;Non-Local Fragmented&#x27;, 52.383760780004536),\n",
       "       (&#x27;Non-Local Fragmented&#x27;, 54.36051117231571),\n",
       "       (&#x27;Non-Local Fragmented&#x27;, 56.337261564626886),\n",
       "       (&#x27;Non-Local Fragmented&#x27;, 58.31401195693805),\n",
       "       (&#x27;Non-Local Fragmented&#x27;, 60.29076234924922),\n",
       "       (&#x27;Non-Local Fragmented&#x27;, 62.267512741560395),\n",
       "       (&#x27;Non-Local Fragmented&#x27;, 64.24426313387157),\n",
       "       (&#x27;Non-Local Fragmented&#x27;, 66.22101352618274),\n",
       "       (&#x27;Non-Local Fragmented&#x27;, 68.1977639184939),\n",
       "       (&#x27;Non-Local Fragmented&#x27;, 70.17451431080508),\n",
       "       (&#x27;Non-Local Fragmented&#x27;, 72.15126470311625),\n",
       "       (&#x27;Non-Local Fragmented&#x27;, 74.12801509542743),\n",
       "       (&#x27;Non-Local Fragmented&#x27;, 76.1047654877386),\n",
       "       (&#x27;Non-Local Fragmented&#x27;, 78.08151588004978),\n",
       "       (&#x27;Non-Local Fragmented&#x27;, 80.05826627236094),\n",
       "       (&#x27;Non-Local Fragmented&#x27;, 82.03501666467211),\n",
       "       (&#x27;Non-Local Fragmented&#x27;, 84.01176705698329),\n",
       "       (&#x27;Non-Local Fragmented&#x27;, 85.98851744929446),\n",
       "       (&#x27;Non-Local Fragmented&#x27;, 87.96526784160564),\n",
       "       (&#x27;Non-Local Fragmented&#x27;, 89.9420182339168),\n",
       "       (&#x27;Non-Local Fragmented&#x27;, 91.91876862622797),\n",
       "       (&#x27;Non-Local Fragmented&#x27;, 93.89551901853915),\n",
       "       (&#x27;Non-Local Fragmented&#x27;, 95.87226941085032),\n",
       "       (&#x27;Non-Local Fragmented&#x27;, 97.8490198031615),\n",
       "       (&#x27;Non-Local Fragmented&#x27;, 99.82577019547267),\n",
       "       (&#x27;Non-Local Fragmented&#x27;, 101.80252058778383),\n",
       "       (&#x27;Non-Local Fragmented&#x27;, 103.779270980095),\n",
       "       (&#x27;Non-Local Fragmented&#x27;, 105.75602137240618),\n",
       "       (&#x27;Non-Local Fragmented&#x27;, 107.73277176471736),\n",
       "       (&#x27;Non-Local Fragmented&#x27;, 109.70952215702853),\n",
       "       (&#x27;Non-Local Fragmented&#x27;, 111.68627254933969),\n",
       "       (&#x27;Non-Local Fragmented&#x27;, 113.66302294165087),\n",
       "       (&#x27;Non-Local Fragmented&#x27;, 115.63977333396204),\n",
       "       (&#x27;Non-Local Fragmented&#x27;, 117.61652372627321),\n",
       "       (&#x27;Non-Local Fragmented&#x27;, 119.59327411858439),\n",
       "       (&#x27;Non-Local Fragmented&#x27;, 121.57002451089556),\n",
       "       (&#x27;Non-Local Fragmented&#x27;, 123.54677490320672),\n",
       "       (&#x27;Non-Local Fragmented&#x27;, 125.5235252955179),\n",
       "       (&#x27;Non-Local Fragmented&#x27;, 127.50027568782907),\n",
       "       (&#x27;Non-Local Fragmented&#x27;, 129.47702608014026),\n",
       "       (&#x27;Non-Local Fragmented&#x27;, 131.4537764724514),\n",
       "       (&#x27;Non-Local Fragmented&#x27;, 133.4305268647626),\n",
       "       (&#x27;Non-Local Fragmented&#x27;, 135.40727725707376),\n",
       "       (&#x27;Non-Local Fragmented&#x27;, 137.38402764938493),\n",
       "       (&#x27;Non-Local Fragmented&#x27;, 139.3607780416961),\n",
       "       (&#x27;Non-Local Fragmented&#x27;, 141.33752843400725),\n",
       "       (&#x27;Non-Local Fragmented&#x27;, 143.31427882631846),\n",
       "       (&#x27;Non-Local Fragmented&#x27;, 145.2910292186296),\n",
       "       (&#x27;Non-Local Fragmented&#x27;, 147.2677796109408),\n",
       "       (&#x27;Non-Local Fragmented&#x27;, 149.24453000325195),\n",
       "       (&#x27;Non-Local Fragmented&#x27;, 151.22128039556316),\n",
       "       (&#x27;Non-Local Fragmented&#x27;, 153.1980307878743),\n",
       "       (&#x27;Non-Local Fragmented&#x27;, 155.1747811801855),\n",
       "       (&#x27;Non-Local Fragmented&#x27;, 157.15153157249665),\n",
       "       (&#x27;Non-Local Fragmented&#x27;, 159.1282819648078),\n",
       "       (&#x27;Non-Local Fragmented&#x27;, 161.105032357119),\n",
       "       (&#x27;Non-Local Fragmented&#x27;, 163.08178274943015),\n",
       "       (&#x27;Non-Local Fragmented&#x27;, 165.05853314174135),\n",
       "       (&#x27;Non-Local Fragmented&#x27;, 167.0352835340525),\n",
       "       (&#x27;Non-Local Fragmented&#x27;, 169.0120339263637)], dtype=object)</pre></div></li><li class='xr-var-item'><div class='xr-var-name'><span class='xr-has-index'>state</span></div><div class='xr-var-dims'>(state_bins)</div><div class='xr-var-dtype'>object</div><div class='xr-var-preview xr-preview'>&#x27;Local&#x27; ... &#x27;Non-Local Fragmented&#x27;</div><input id='attrs-6a25bece-22b5-4f51-a40d-3978274c890b' class='xr-var-attrs-in' type='checkbox' disabled><label for='attrs-6a25bece-22b5-4f51-a40d-3978274c890b' title='Show/Hide attributes'><svg class='icon xr-icon-file-text2'><use xlink:href='#icon-file-text2'></use></svg></label><input id='data-bec6c1f8-e3ed-4828-a0d7-729467d93588' class='xr-var-data-in' type='checkbox'><label for='data-bec6c1f8-e3ed-4828-a0d7-729467d93588' title='Show/Hide data repr'><svg class='icon xr-icon-database'><use xlink:href='#icon-database'></use></svg></label><div class='xr-var-attrs'><dl class='xr-attrs'></dl></div><div class='xr-var-data'><pre>array([&#x27;Local&#x27;, &#x27;No-Spike&#x27;, &#x27;Non-Local Continuous&#x27;, &#x27;Non-Local Continuous&#x27;,\n",
       "       &#x27;Non-Local Continuous&#x27;, &#x27;Non-Local Continuous&#x27;, &#x27;Non-Local Continuous&#x27;,\n",
       "       &#x27;Non-Local Continuous&#x27;, &#x27;Non-Local Continuous&#x27;, &#x27;Non-Local Continuous&#x27;,\n",
       "       &#x27;Non-Local Continuous&#x27;, &#x27;Non-Local Continuous&#x27;, &#x27;Non-Local Continuous&#x27;,\n",
       "       &#x27;Non-Local Continuous&#x27;, &#x27;Non-Local Continuous&#x27;, &#x27;Non-Local Continuous&#x27;,\n",
       "       &#x27;Non-Local Continuous&#x27;, &#x27;Non-Local Continuous&#x27;, &#x27;Non-Local Continuous&#x27;,\n",
       "       &#x27;Non-Local Continuous&#x27;, &#x27;Non-Local Continuous&#x27;, &#x27;Non-Local Continuous&#x27;,\n",
       "       &#x27;Non-Local Continuous&#x27;, &#x27;Non-Local Continuous&#x27;, &#x27;Non-Local Continuous&#x27;,\n",
       "       &#x27;Non-Local Continuous&#x27;, &#x27;Non-Local Continuous&#x27;, &#x27;Non-Local Continuous&#x27;,\n",
       "       &#x27;Non-Local Continuous&#x27;, &#x27;Non-Local Continuous&#x27;, &#x27;Non-Local Continuous&#x27;,\n",
       "       &#x27;Non-Local Continuous&#x27;, &#x27;Non-Local Continuous&#x27;, &#x27;Non-Local Continuous&#x27;,\n",
       "       &#x27;Non-Local Continuous&#x27;, &#x27;Non-Local Continuous&#x27;, &#x27;Non-Local Continuous&#x27;,\n",
       "       &#x27;Non-Local Continuous&#x27;, &#x27;Non-Local Continuous&#x27;, &#x27;Non-Local Continuous&#x27;,\n",
       "       &#x27;Non-Local Continuous&#x27;, &#x27;Non-Local Continuous&#x27;, &#x27;Non-Local Continuous&#x27;,\n",
       "       &#x27;Non-Local Continuous&#x27;, &#x27;Non-Local Continuous&#x27;, &#x27;Non-Local Continuous&#x27;,\n",
       "       &#x27;Non-Local Continuous&#x27;, &#x27;Non-Local Continuous&#x27;, &#x27;Non-Local Continuous&#x27;,\n",
       "       &#x27;Non-Local Continuous&#x27;, &#x27;Non-Local Continuous&#x27;, &#x27;Non-Local Continuous&#x27;,\n",
       "       &#x27;Non-Local Continuous&#x27;, &#x27;Non-Local Continuous&#x27;, &#x27;Non-Local Continuous&#x27;,\n",
       "       &#x27;Non-Local Continuous&#x27;, &#x27;Non-Local Continuous&#x27;, &#x27;Non-Local Continuous&#x27;,\n",
       "       &#x27;Non-Local Continuous&#x27;, &#x27;Non-Local Continuous&#x27;, &#x27;Non-Local Continuous&#x27;,\n",
       "       &#x27;Non-Local Continuous&#x27;, &#x27;Non-Local Continuous&#x27;, &#x27;Non-Local Continuous&#x27;,\n",
       "       &#x27;Non-Local Continuous&#x27;, &#x27;Non-Local Continuous&#x27;, &#x27;Non-Local Continuous&#x27;,\n",
       "       &#x27;Non-Local Continuous&#x27;, &#x27;Non-Local Continuous&#x27;, &#x27;Non-Local Continuous&#x27;,\n",
       "       &#x27;Non-Local Continuous&#x27;, &#x27;Non-Local Continuous&#x27;, &#x27;Non-Local Continuous&#x27;,\n",
       "       &#x27;Non-Local Continuous&#x27;, &#x27;Non-Local Continuous&#x27;, &#x27;Non-Local Continuous&#x27;,\n",
       "       &#x27;Non-Local Continuous&#x27;, &#x27;Non-Local Continuous&#x27;, &#x27;Non-Local Continuous&#x27;,\n",
       "       &#x27;Non-Local Continuous&#x27;, &#x27;Non-Local Continuous&#x27;, &#x27;Non-Local Continuous&#x27;,\n",
       "       &#x27;Non-Local Continuous&#x27;, &#x27;Non-Local Continuous&#x27;, &#x27;Non-Local Continuous&#x27;,\n",
       "       &#x27;Non-Local Continuous&#x27;, &#x27;Non-Local Continuous&#x27;, &#x27;Non-Local Continuous&#x27;,\n",
       "       &#x27;Non-Local Fragmented&#x27;, &#x27;Non-Local Fragmented&#x27;, &#x27;Non-Local Fragmented&#x27;,\n",
       "       &#x27;Non-Local Fragmented&#x27;, &#x27;Non-Local Fragmented&#x27;, &#x27;Non-Local Fragmented&#x27;,\n",
       "       &#x27;Non-Local Fragmented&#x27;, &#x27;Non-Local Fragmented&#x27;, &#x27;Non-Local Fragmented&#x27;,\n",
       "       &#x27;Non-Local Fragmented&#x27;, &#x27;Non-Local Fragmented&#x27;, &#x27;Non-Local Fragmented&#x27;,\n",
       "       &#x27;Non-Local Fragmented&#x27;, &#x27;Non-Local Fragmented&#x27;, &#x27;Non-Local Fragmented&#x27;,\n",
       "       &#x27;Non-Local Fragmented&#x27;, &#x27;Non-Local Fragmented&#x27;, &#x27;Non-Local Fragmented&#x27;,\n",
       "       &#x27;Non-Local Fragmented&#x27;, &#x27;Non-Local Fragmented&#x27;, &#x27;Non-Local Fragmented&#x27;,\n",
       "       &#x27;Non-Local Fragmented&#x27;, &#x27;Non-Local Fragmented&#x27;, &#x27;Non-Local Fragmented&#x27;,\n",
       "       &#x27;Non-Local Fragmented&#x27;, &#x27;Non-Local Fragmented&#x27;, &#x27;Non-Local Fragmented&#x27;,\n",
       "       &#x27;Non-Local Fragmented&#x27;, &#x27;Non-Local Fragmented&#x27;, &#x27;Non-Local Fragmented&#x27;,\n",
       "       &#x27;Non-Local Fragmented&#x27;, &#x27;Non-Local Fragmented&#x27;, &#x27;Non-Local Fragmented&#x27;,\n",
       "       &#x27;Non-Local Fragmented&#x27;, &#x27;Non-Local Fragmented&#x27;, &#x27;Non-Local Fragmented&#x27;,\n",
       "       &#x27;Non-Local Fragmented&#x27;, &#x27;Non-Local Fragmented&#x27;, &#x27;Non-Local Fragmented&#x27;,\n",
       "       &#x27;Non-Local Fragmented&#x27;, &#x27;Non-Local Fragmented&#x27;, &#x27;Non-Local Fragmented&#x27;,\n",
       "       &#x27;Non-Local Fragmented&#x27;, &#x27;Non-Local Fragmented&#x27;, &#x27;Non-Local Fragmented&#x27;,\n",
       "       &#x27;Non-Local Fragmented&#x27;, &#x27;Non-Local Fragmented&#x27;, &#x27;Non-Local Fragmented&#x27;,\n",
       "       &#x27;Non-Local Fragmented&#x27;, &#x27;Non-Local Fragmented&#x27;, &#x27;Non-Local Fragmented&#x27;,\n",
       "       &#x27;Non-Local Fragmented&#x27;, &#x27;Non-Local Fragmented&#x27;, &#x27;Non-Local Fragmented&#x27;,\n",
       "       &#x27;Non-Local Fragmented&#x27;, &#x27;Non-Local Fragmented&#x27;, &#x27;Non-Local Fragmented&#x27;,\n",
       "       &#x27;Non-Local Fragmented&#x27;, &#x27;Non-Local Fragmented&#x27;, &#x27;Non-Local Fragmented&#x27;,\n",
       "       &#x27;Non-Local Fragmented&#x27;, &#x27;Non-Local Fragmented&#x27;, &#x27;Non-Local Fragmented&#x27;,\n",
       "       &#x27;Non-Local Fragmented&#x27;, &#x27;Non-Local Fragmented&#x27;, &#x27;Non-Local Fragmented&#x27;,\n",
       "       &#x27;Non-Local Fragmented&#x27;, &#x27;Non-Local Fragmented&#x27;, &#x27;Non-Local Fragmented&#x27;,\n",
       "       &#x27;Non-Local Fragmented&#x27;, &#x27;Non-Local Fragmented&#x27;, &#x27;Non-Local Fragmented&#x27;,\n",
       "       &#x27;Non-Local Fragmented&#x27;, &#x27;Non-Local Fragmented&#x27;, &#x27;Non-Local Fragmented&#x27;,\n",
       "       &#x27;Non-Local Fragmented&#x27;, &#x27;Non-Local Fragmented&#x27;, &#x27;Non-Local Fragmented&#x27;,\n",
       "       &#x27;Non-Local Fragmented&#x27;, &#x27;Non-Local Fragmented&#x27;, &#x27;Non-Local Fragmented&#x27;,\n",
       "       &#x27;Non-Local Fragmented&#x27;, &#x27;Non-Local Fragmented&#x27;, &#x27;Non-Local Fragmented&#x27;,\n",
       "       &#x27;Non-Local Fragmented&#x27;, &#x27;Non-Local Fragmented&#x27;], dtype=object)</pre></div></li><li class='xr-var-item'><div class='xr-var-name'><span class='xr-has-index'>position</span></div><div class='xr-var-dims'>(state_bins)</div><div class='xr-var-dtype'>float64</div><div class='xr-var-preview xr-preview'>nan nan 0.9883 ... 167.0 169.0</div><input id='attrs-b0d54198-3c92-4276-a36e-7151c33a329f' class='xr-var-attrs-in' type='checkbox' disabled><label for='attrs-b0d54198-3c92-4276-a36e-7151c33a329f' title='Show/Hide attributes'><svg class='icon xr-icon-file-text2'><use xlink:href='#icon-file-text2'></use></svg></label><input id='data-a976f98e-30ce-4427-abc9-b9bad6933f6c' class='xr-var-data-in' type='checkbox'><label for='data-a976f98e-30ce-4427-abc9-b9bad6933f6c' title='Show/Hide data repr'><svg class='icon xr-icon-database'><use xlink:href='#icon-database'></use></svg></label><div class='xr-var-attrs'><dl class='xr-attrs'></dl></div><div class='xr-var-data'><pre>array([       nan,        nan,   0.988251,   2.965001,   4.941751,   6.918502,\n",
       "         8.895252,  10.872003,  12.848753,  14.825503,  16.802254,  18.779004,\n",
       "        20.755755,  22.732505,  24.709255,  26.686006,  28.662756,  30.639506,\n",
       "        32.616257,  34.593007,  36.569758,  38.546508,  40.523258,  42.500009,\n",
       "        44.476759,  46.45351 ,  48.43026 ,  50.40701 ,  52.383761,  54.360511,\n",
       "        56.337262,  58.314012,  60.290762,  62.267513,  64.244263,  66.221014,\n",
       "        68.197764,  70.174514,  72.151265,  74.128015,  76.104765,  78.081516,\n",
       "        80.058266,  82.035017,  84.011767,  85.988517,  87.965268,  89.942018,\n",
       "        91.918769,  93.895519,  95.872269,  97.84902 ,  99.82577 , 101.802521,\n",
       "       103.779271, 105.756021, 107.732772, 109.709522, 111.686273, 113.663023,\n",
       "       115.639773, 117.616524, 119.593274, 121.570025, 123.546775, 125.523525,\n",
       "       127.500276, 129.477026, 131.453776, 133.430527, 135.407277, 137.384028,\n",
       "       139.360778, 141.337528, 143.314279, 145.291029, 147.26778 , 149.24453 ,\n",
       "       151.22128 , 153.198031, 155.174781, 157.151532, 159.128282, 161.105032,\n",
       "       163.081783, 165.058533, 167.035284, 169.012034,   0.988251,   2.965001,\n",
       "         4.941751,   6.918502,   8.895252,  10.872003,  12.848753,  14.825503,\n",
       "        16.802254,  18.779004,  20.755755,  22.732505,  24.709255,  26.686006,\n",
       "        28.662756,  30.639506,  32.616257,  34.593007,  36.569758,  38.546508,\n",
       "        40.523258,  42.500009,  44.476759,  46.45351 ,  48.43026 ,  50.40701 ,\n",
       "        52.383761,  54.360511,  56.337262,  58.314012,  60.290762,  62.267513,\n",
       "        64.244263,  66.221014,  68.197764,  70.174514,  72.151265,  74.128015,\n",
       "        76.104765,  78.081516,  80.058266,  82.035017,  84.011767,  85.988517,\n",
       "        87.965268,  89.942018,  91.918769,  93.895519,  95.872269,  97.84902 ,\n",
       "        99.82577 , 101.802521, 103.779271, 105.756021, 107.732772, 109.709522,\n",
       "       111.686273, 113.663023, 115.639773, 117.616524, 119.593274, 121.570025,\n",
       "       123.546775, 125.523525, 127.500276, 129.477026, 131.453776, 133.430527,\n",
       "       135.407277, 137.384028, 139.360778, 141.337528, 143.314279, 145.291029,\n",
       "       147.26778 , 149.24453 , 151.22128 , 153.198031, 155.174781, 157.151532,\n",
       "       159.128282, 161.105032, 163.081783, 165.058533, 167.035284, 169.012034])</pre></div></li><li class='xr-var-item'><div class='xr-var-name'><span class='xr-has-index'>state_ind</span></div><div class='xr-var-dims'>(state_ind)</div><div class='xr-var-dtype'>int64</div><div class='xr-var-preview xr-preview'>0 1 2 2 2 2 2 2 ... 3 3 3 3 3 3 3 3</div><input id='attrs-6b91ea79-c7c9-47a3-b710-3185f1aa36c6' class='xr-var-attrs-in' type='checkbox' disabled><label for='attrs-6b91ea79-c7c9-47a3-b710-3185f1aa36c6' title='Show/Hide attributes'><svg class='icon xr-icon-file-text2'><use xlink:href='#icon-file-text2'></use></svg></label><input id='data-848fb774-eb5e-460d-b610-271123774322' class='xr-var-data-in' type='checkbox'><label for='data-848fb774-eb5e-460d-b610-271123774322' title='Show/Hide data repr'><svg class='icon xr-icon-database'><use xlink:href='#icon-database'></use></svg></label><div class='xr-var-attrs'><dl class='xr-attrs'></dl></div><div class='xr-var-data'><pre>array([0, 1, 2, 2, 2, 2, 2, 2, 2, 2, 2, 2, 2, 2, 2, 2, 2, 2, 2, 2, 2, 2, 2, 2,\n",
       "       2, 2, 2, 2, 2, 2, 2, 2, 2, 2, 2, 2, 2, 2, 2, 2, 2, 2, 2, 2, 2, 2, 2, 2,\n",
       "       2, 2, 2, 2, 2, 2, 2, 2, 2, 2, 2, 2, 2, 2, 2, 2, 2, 2, 2, 2, 2, 2, 2, 2,\n",
       "       2, 2, 2, 2, 2, 2, 2, 2, 2, 2, 2, 2, 2, 2, 2, 2, 3, 3, 3, 3, 3, 3, 3, 3,\n",
       "       3, 3, 3, 3, 3, 3, 3, 3, 3, 3, 3, 3, 3, 3, 3, 3, 3, 3, 3, 3, 3, 3, 3, 3,\n",
       "       3, 3, 3, 3, 3, 3, 3, 3, 3, 3, 3, 3, 3, 3, 3, 3, 3, 3, 3, 3, 3, 3, 3, 3,\n",
       "       3, 3, 3, 3, 3, 3, 3, 3, 3, 3, 3, 3, 3, 3, 3, 3, 3, 3, 3, 3, 3, 3, 3, 3,\n",
       "       3, 3, 3, 3, 3, 3])</pre></div></li><li class='xr-var-item'><div class='xr-var-name'><span class='xr-has-index'>states</span></div><div class='xr-var-dims'>(states)</div><div class='xr-var-dtype'>&lt;U20</div><div class='xr-var-preview xr-preview'>&#x27;Local&#x27; ... &#x27;Non-Local Fragmented&#x27;</div><input id='attrs-a943caaa-350b-4b90-ad73-e0b003905cab' class='xr-var-attrs-in' type='checkbox' disabled><label for='attrs-a943caaa-350b-4b90-ad73-e0b003905cab' title='Show/Hide attributes'><svg class='icon xr-icon-file-text2'><use xlink:href='#icon-file-text2'></use></svg></label><input id='data-8c55fe83-84b3-4348-85cd-b0f03e988236' class='xr-var-data-in' type='checkbox'><label for='data-8c55fe83-84b3-4348-85cd-b0f03e988236' title='Show/Hide data repr'><svg class='icon xr-icon-database'><use xlink:href='#icon-database'></use></svg></label><div class='xr-var-attrs'><dl class='xr-attrs'></dl></div><div class='xr-var-data'><pre>array([&#x27;Local&#x27;, &#x27;No-Spike&#x27;, &#x27;Non-Local Continuous&#x27;, &#x27;Non-Local Fragmented&#x27;],\n",
       "      dtype=&#x27;&lt;U20&#x27;)</pre></div></li><li class='xr-var-item'><div class='xr-var-name'><span>environments</span></div><div class='xr-var-dims'>(states)</div><div class='xr-var-dtype'>&lt;U1</div><div class='xr-var-preview xr-preview'>&#x27;&#x27; &#x27;&#x27; &#x27;&#x27; &#x27;&#x27;</div><input id='attrs-a3e96454-ca2a-488a-a78f-756795e5323f' class='xr-var-attrs-in' type='checkbox' disabled><label for='attrs-a3e96454-ca2a-488a-a78f-756795e5323f' title='Show/Hide attributes'><svg class='icon xr-icon-file-text2'><use xlink:href='#icon-file-text2'></use></svg></label><input id='data-7ca2b546-fa96-469c-a8c5-549cf40c50da' class='xr-var-data-in' type='checkbox'><label for='data-7ca2b546-fa96-469c-a8c5-549cf40c50da' title='Show/Hide data repr'><svg class='icon xr-icon-database'><use xlink:href='#icon-database'></use></svg></label><div class='xr-var-attrs'><dl class='xr-attrs'></dl></div><div class='xr-var-data'><pre>array([&#x27;&#x27;, &#x27;&#x27;, &#x27;&#x27;, &#x27;&#x27;], dtype=&#x27;&lt;U1&#x27;)</pre></div></li><li class='xr-var-item'><div class='xr-var-name'><span>encoding_groups</span></div><div class='xr-var-dims'>(states)</div><div class='xr-var-dtype'>int64</div><div class='xr-var-preview xr-preview'>0 0 0 0</div><input id='attrs-9eeb4e41-a277-484c-84f4-4e957ab97e47' class='xr-var-attrs-in' type='checkbox' disabled><label for='attrs-9eeb4e41-a277-484c-84f4-4e957ab97e47' title='Show/Hide attributes'><svg class='icon xr-icon-file-text2'><use xlink:href='#icon-file-text2'></use></svg></label><input id='data-3e0c323a-a3d7-4382-bb83-4ebb258fa040' class='xr-var-data-in' type='checkbox'><label for='data-3e0c323a-a3d7-4382-bb83-4ebb258fa040' title='Show/Hide data repr'><svg class='icon xr-icon-database'><use xlink:href='#icon-database'></use></svg></label><div class='xr-var-attrs'><dl class='xr-attrs'></dl></div><div class='xr-var-data'><pre>array([0, 0, 0, 0])</pre></div></li></ul></div></li><li class='xr-section-item'><input id='section-0c317cdb-eef0-4a1a-8ec5-78324db21b3c' class='xr-section-summary-in' type='checkbox'  checked><label for='section-0c317cdb-eef0-4a1a-8ec5-78324db21b3c' class='xr-section-summary' >Data variables: <span>(2)</span></label><div class='xr-section-inline-details'></div><div class='xr-section-details'><ul class='xr-var-list'><li class='xr-var-item'><div class='xr-var-name'><span>acausal_posterior</span></div><div class='xr-var-dims'>(time, state_bins)</div><div class='xr-var-dtype'>float32</div><div class='xr-var-preview xr-preview'>1.0 1.76e-17 ... 8.912e-06</div><input id='attrs-d3d69bf9-d0dc-4727-bfde-29bdb5752567' class='xr-var-attrs-in' type='checkbox' disabled><label for='attrs-d3d69bf9-d0dc-4727-bfde-29bdb5752567' title='Show/Hide attributes'><svg class='icon xr-icon-file-text2'><use xlink:href='#icon-file-text2'></use></svg></label><input id='data-5a73395c-7a23-427b-a140-b7ff09ddc2a9' class='xr-var-data-in' type='checkbox'><label for='data-5a73395c-7a23-427b-a140-b7ff09ddc2a9' title='Show/Hide data repr'><svg class='icon xr-icon-database'><use xlink:href='#icon-database'></use></svg></label><div class='xr-var-attrs'><dl class='xr-attrs'></dl></div><div class='xr-var-data'><pre>array([[1.0000000e+00, 1.7597488e-17, 2.0210147e-16, ..., 6.0199849e-17,\n",
       "        6.0199849e-17, 6.0199849e-17],\n",
       "       [9.9999636e-01, 2.2362666e-07, 1.3599933e-07, ..., 9.4631636e-09,\n",
       "        9.4637871e-09, 9.4642241e-09],\n",
       "       [9.9999303e-01, 3.9750398e-07, 2.5488211e-07, ..., 1.7400229e-08,\n",
       "        1.7401371e-08, 1.7402177e-08],\n",
       "       ...,\n",
       "       [9.9473846e-01, 1.4055087e-03, 3.5094334e-05, ..., 8.6488235e-06,\n",
       "        8.6493910e-06, 8.6497921e-06],\n",
       "       [9.9466813e-01, 1.4179801e-03, 3.5331483e-05, ..., 8.7800572e-06,\n",
       "        8.7806338e-06, 8.7810395e-06],\n",
       "       [9.9459821e-01, 1.4301414e-03, 3.5562032e-05, ..., 8.9110172e-06,\n",
       "        8.9116029e-06, 8.9120149e-06]], dtype=float32)</pre></div></li><li class='xr-var-item'><div class='xr-var-name'><span>acausal_state_probabilities</span></div><div class='xr-var-dims'>(time, states)</div><div class='xr-var-dtype'>float32</div><div class='xr-var-preview xr-preview'>1.0 1.76e-17 ... 0.003206 0.0007654</div><input id='attrs-c250e75d-cc44-4ac8-b2a4-8a673e1198b6' class='xr-var-attrs-in' type='checkbox' disabled><label for='attrs-c250e75d-cc44-4ac8-b2a4-8a673e1198b6' title='Show/Hide attributes'><svg class='icon xr-icon-file-text2'><use xlink:href='#icon-file-text2'></use></svg></label><input id='data-ad5bc112-acce-419e-a843-1b585976fbbd' class='xr-var-data-in' type='checkbox'><label for='data-ad5bc112-acce-419e-a843-1b585976fbbd' title='Show/Hide data repr'><svg class='icon xr-icon-database'><use xlink:href='#icon-database'></use></svg></label><div class='xr-var-attrs'><dl class='xr-attrs'></dl></div><div class='xr-var-data'><pre>array([[1.0000000e+00, 1.7597488e-17, 4.2653932e-15, 5.1771907e-15],\n",
       "       [9.9999636e-01, 2.2362666e-07, 2.6434548e-06, 8.1287612e-07],\n",
       "       [9.9999303e-01, 3.9750398e-07, 4.8808492e-06, 1.4946615e-06],\n",
       "       ...,\n",
       "       [9.9473846e-01, 1.4055087e-03, 3.1130894e-03, 7.4292533e-04],\n",
       "       [9.9466813e-01, 1.4179801e-03, 3.1596462e-03, 7.5419783e-04],\n",
       "       [9.9459821e-01, 1.4301414e-03, 3.2061415e-03, 7.6544721e-04]],\n",
       "      dtype=float32)</pre></div></li></ul></div></li><li class='xr-section-item'><input id='section-c23edca3-345c-4d36-8929-bf1fb65f11f3' class='xr-section-summary-in' type='checkbox'  ><label for='section-c23edca3-345c-4d36-8929-bf1fb65f11f3' class='xr-section-summary' >Indexes: <span>(4)</span></label><div class='xr-section-inline-details'></div><div class='xr-section-details'><ul class='xr-var-list'><li class='xr-var-item'><div class='xr-index-name'><div>time</div></div><div class='xr-index-preview'>PandasIndex</div><input type='checkbox' disabled/><label></label><input id='index-faa3ed4d-938a-4430-86a0-67b4b5106c96' class='xr-index-data-in' type='checkbox'/><label for='index-faa3ed4d-938a-4430-86a0-67b4b5106c96' title='Show/Hide index repr'><svg class='icon xr-icon-database'><use xlink:href='#icon-database'></use></svg></label><div class='xr-index-data'><pre>PandasIndex(Index([                  0.0, 0.0006666666666666666, 0.0013333333333333333,\n",
       "                       0.002, 0.0026666666666666666, 0.0033333333333333335,\n",
       "                       0.004,  0.004666666666666667,  0.005333333333333333,\n",
       "                       0.006,\n",
       "       ...\n",
       "           64.99333333333334,                64.994,     64.99466666666666,\n",
       "           64.99533333333333,                64.996,     64.99666666666667,\n",
       "           64.99733333333333,                64.998,     64.99866666666667,\n",
       "           64.99933333333334],\n",
       "      dtype=&#x27;float64&#x27;, name=&#x27;time&#x27;, length=97500))</pre></div></li><li class='xr-var-item'><div class='xr-index-name'><div>state_bins<br>state<br>position</div></div><div class='xr-index-preview'>PandasMultiIndex</div><input type='checkbox' disabled/><label></label><input id='index-151fc681-8a62-4b5d-a890-e0747caf2d1a' class='xr-index-data-in' type='checkbox'/><label for='index-151fc681-8a62-4b5d-a890-e0747caf2d1a' title='Show/Hide index repr'><svg class='icon xr-icon-database'><use xlink:href='#icon-database'></use></svg></label><div class='xr-index-data'><pre>PandasIndex(MultiIndex([(               &#x27;Local&#x27;,                nan),\n",
       "            (            &#x27;No-Spike&#x27;,                nan),\n",
       "            (&#x27;Non-Local Continuous&#x27;, 0.9882505799140617),\n",
       "            (&#x27;Non-Local Continuous&#x27;,  2.965000972225234),\n",
       "            (&#x27;Non-Local Continuous&#x27;,  4.941751364536406),\n",
       "            (&#x27;Non-Local Continuous&#x27;, 6.9185017568475775),\n",
       "            (&#x27;Non-Local Continuous&#x27;,  8.895252149158749),\n",
       "            (&#x27;Non-Local Continuous&#x27;, 10.872002541469922),\n",
       "            (&#x27;Non-Local Continuous&#x27;, 12.848752933781093),\n",
       "            (&#x27;Non-Local Continuous&#x27;, 14.825503326092266),\n",
       "            ...\n",
       "            (&#x27;Non-Local Fragmented&#x27;, 151.22128039556316),\n",
       "            (&#x27;Non-Local Fragmented&#x27;,  153.1980307878743),\n",
       "            (&#x27;Non-Local Fragmented&#x27;,  155.1747811801855),\n",
       "            (&#x27;Non-Local Fragmented&#x27;, 157.15153157249665),\n",
       "            (&#x27;Non-Local Fragmented&#x27;,  159.1282819648078),\n",
       "            (&#x27;Non-Local Fragmented&#x27;,   161.105032357119),\n",
       "            (&#x27;Non-Local Fragmented&#x27;, 163.08178274943015),\n",
       "            (&#x27;Non-Local Fragmented&#x27;, 165.05853314174135),\n",
       "            (&#x27;Non-Local Fragmented&#x27;,  167.0352835340525),\n",
       "            (&#x27;Non-Local Fragmented&#x27;,  169.0120339263637)],\n",
       "           name=&#x27;state_bins&#x27;, length=174))</pre></div></li><li class='xr-var-item'><div class='xr-index-name'><div>state_ind</div></div><div class='xr-index-preview'>PandasIndex</div><input type='checkbox' disabled/><label></label><input id='index-137e9154-38c4-424c-88ea-8b7ebfd9a19f' class='xr-index-data-in' type='checkbox'/><label for='index-137e9154-38c4-424c-88ea-8b7ebfd9a19f' title='Show/Hide index repr'><svg class='icon xr-icon-database'><use xlink:href='#icon-database'></use></svg></label><div class='xr-index-data'><pre>PandasIndex(Index([0, 1, 2, 2, 2, 2, 2, 2, 2, 2,\n",
       "       ...\n",
       "       3, 3, 3, 3, 3, 3, 3, 3, 3, 3],\n",
       "      dtype=&#x27;int64&#x27;, name=&#x27;state_ind&#x27;, length=174))</pre></div></li><li class='xr-var-item'><div class='xr-index-name'><div>states</div></div><div class='xr-index-preview'>PandasIndex</div><input type='checkbox' disabled/><label></label><input id='index-2c86b6ef-de0d-49e8-a3c7-5856fa9a9725' class='xr-index-data-in' type='checkbox'/><label for='index-2c86b6ef-de0d-49e8-a3c7-5856fa9a9725' title='Show/Hide index repr'><svg class='icon xr-icon-database'><use xlink:href='#icon-database'></use></svg></label><div class='xr-index-data'><pre>PandasIndex(Index([&#x27;Local&#x27;, &#x27;No-Spike&#x27;, &#x27;Non-Local Continuous&#x27;, &#x27;Non-Local Fragmented&#x27;], dtype=&#x27;object&#x27;, name=&#x27;states&#x27;))</pre></div></li></ul></div></li><li class='xr-section-item'><input id='section-5a01d46a-6d6d-4940-886d-663937fad09a' class='xr-section-summary-in' type='checkbox'  checked><label for='section-5a01d46a-6d6d-4940-886d-663937fad09a' class='xr-section-summary' >Attributes: <span>(1)</span></label><div class='xr-section-inline-details'></div><div class='xr-section-details'><dl class='xr-attrs'><dt><span>marginal_log_likelihoods :</span></dt><dd>[-13445.572  -13246.85   -12045.117  -11638.828  -11472.776  -11392.145\n",
       " -11345.523  -11310.273  -11284.724  -11264.587  -11242.932  -11224.121\n",
       " -11204.624  -11189.128  -11175.1455 -11161.09   -11151.741  -11144.306\n",
       " -11140.227  -11138.85  ]</dd></dl></div></li></ul></div></div>"
      ],
      "text/plain": [
       "<xarray.Dataset> Size: 70MB\n",
       "Dimensions:                      (time: 97500, state_bins: 174, states: 4,\n",
       "                                  state_ind: 174)\n",
       "Coordinates:\n",
       "  * time                         (time) float64 780kB 0.0 0.0006667 ... 65.0\n",
       "  * state_bins                   (state_bins) object 1kB MultiIndex\n",
       "  * state                        (state_bins) object 1kB 'Local' ... 'Non-Loc...\n",
       "  * position                     (state_bins) float64 1kB nan nan ... 169.0\n",
       "  * state_ind                    (state_ind) int64 1kB 0 1 2 2 2 2 ... 3 3 3 3 3\n",
       "  * states                       (states) <U20 320B 'Local' ... 'Non-Local Fr...\n",
       "    environments                 (states) <U1 16B '' '' '' ''\n",
       "    encoding_groups              (states) int64 32B 0 0 0 0\n",
       "Data variables:\n",
       "    acausal_posterior            (time, state_bins) float32 68MB 1.0 ... 8.91...\n",
       "    acausal_state_probabilities  (time, states) float32 2MB 1.0 ... 0.0007654\n",
       "Attributes:\n",
       "    marginal_log_likelihoods:  [-13445.572  -13246.85   -12045.117  -11638.82..."
      ]
     },
     "execution_count": 3,
     "metadata": {},
     "output_type": "execute_result"
    }
   ],
   "source": [
    "from non_local_detector import NonLocalSortedSpikesDetector\n",
    "\n",
    "\n",
    "detector = NonLocalSortedSpikesDetector(\n",
    "    sorted_spikes_algorithm=\"sorted_spikes_kde\"\n",
    ")\n",
    "\n",
    "is_training = ~is_event\n",
    "\n",
    "results = detector.estimate_parameters(\n",
    "    position_time=time,\n",
    "    position=position,\n",
    "    spike_times=spike_times,\n",
    "    is_training=is_training,\n",
    "    time=time,\n",
    "    store_log_likelihood=True,\n",
    ")\n",
    "results"
   ]
  },
  {
   "cell_type": "code",
   "execution_count": 4,
   "metadata": {},
   "outputs": [
    {
     "data": {
      "text/html": [
       "<div>\n",
       "<style scoped>\n",
       "    .dataframe tbody tr th:only-of-type {\n",
       "        vertical-align: middle;\n",
       "    }\n",
       "\n",
       "    .dataframe tbody tr th {\n",
       "        vertical-align: top;\n",
       "    }\n",
       "\n",
       "    .dataframe thead th {\n",
       "        text-align: right;\n",
       "    }\n",
       "</style>\n",
       "<table border=\"1\" class=\"dataframe\">\n",
       "  <thead>\n",
       "    <tr style=\"text-align: right;\">\n",
       "      <th></th>\n",
       "      <th>state</th>\n",
       "      <th>position</th>\n",
       "      <th>environment</th>\n",
       "      <th>encoding_group_names</th>\n",
       "    </tr>\n",
       "    <tr>\n",
       "      <th>time</th>\n",
       "      <th></th>\n",
       "      <th></th>\n",
       "      <th></th>\n",
       "      <th></th>\n",
       "    </tr>\n",
       "  </thead>\n",
       "  <tbody>\n",
       "    <tr>\n",
       "      <th>0.000000</th>\n",
       "      <td>Local</td>\n",
       "      <td>NaN</td>\n",
       "      <td>None</td>\n",
       "      <td>None</td>\n",
       "    </tr>\n",
       "    <tr>\n",
       "      <th>0.000667</th>\n",
       "      <td>Local</td>\n",
       "      <td>NaN</td>\n",
       "      <td>None</td>\n",
       "      <td>None</td>\n",
       "    </tr>\n",
       "    <tr>\n",
       "      <th>0.001333</th>\n",
       "      <td>Local</td>\n",
       "      <td>NaN</td>\n",
       "      <td>None</td>\n",
       "      <td>None</td>\n",
       "    </tr>\n",
       "    <tr>\n",
       "      <th>0.002000</th>\n",
       "      <td>Local</td>\n",
       "      <td>NaN</td>\n",
       "      <td>None</td>\n",
       "      <td>None</td>\n",
       "    </tr>\n",
       "    <tr>\n",
       "      <th>0.002667</th>\n",
       "      <td>Local</td>\n",
       "      <td>NaN</td>\n",
       "      <td>None</td>\n",
       "      <td>None</td>\n",
       "    </tr>\n",
       "    <tr>\n",
       "      <th>...</th>\n",
       "      <td>...</td>\n",
       "      <td>...</td>\n",
       "      <td>...</td>\n",
       "      <td>...</td>\n",
       "    </tr>\n",
       "    <tr>\n",
       "      <th>64.996667</th>\n",
       "      <td>Local</td>\n",
       "      <td>NaN</td>\n",
       "      <td>None</td>\n",
       "      <td>None</td>\n",
       "    </tr>\n",
       "    <tr>\n",
       "      <th>64.997333</th>\n",
       "      <td>Local</td>\n",
       "      <td>NaN</td>\n",
       "      <td>None</td>\n",
       "      <td>None</td>\n",
       "    </tr>\n",
       "    <tr>\n",
       "      <th>64.998000</th>\n",
       "      <td>Local</td>\n",
       "      <td>NaN</td>\n",
       "      <td>None</td>\n",
       "      <td>None</td>\n",
       "    </tr>\n",
       "    <tr>\n",
       "      <th>64.998667</th>\n",
       "      <td>Local</td>\n",
       "      <td>NaN</td>\n",
       "      <td>None</td>\n",
       "      <td>None</td>\n",
       "    </tr>\n",
       "    <tr>\n",
       "      <th>64.999333</th>\n",
       "      <td>Local</td>\n",
       "      <td>NaN</td>\n",
       "      <td>None</td>\n",
       "      <td>None</td>\n",
       "    </tr>\n",
       "  </tbody>\n",
       "</table>\n",
       "<p>97500 rows × 4 columns</p>\n",
       "</div>"
      ],
      "text/plain": [
       "           state  position environment encoding_group_names\n",
       "time                                                       \n",
       "0.000000   Local       NaN        None                 None\n",
       "0.000667   Local       NaN        None                 None\n",
       "0.001333   Local       NaN        None                 None\n",
       "0.002000   Local       NaN        None                 None\n",
       "0.002667   Local       NaN        None                 None\n",
       "...          ...       ...         ...                  ...\n",
       "64.996667  Local       NaN        None                 None\n",
       "64.997333  Local       NaN        None                 None\n",
       "64.998000  Local       NaN        None                 None\n",
       "64.998667  Local       NaN        None                 None\n",
       "64.999333  Local       NaN        None                 None\n",
       "\n",
       "[97500 rows x 4 columns]"
      ]
     },
     "execution_count": 4,
     "metadata": {},
     "output_type": "execute_result"
    }
   ],
   "source": [
    "most_likely_sequence = detector.most_likely_sequence(\n",
    "    position_time=time,\n",
    "    position=position,\n",
    "    spike_times=spike_times,\n",
    "    time=time,\n",
    ")\n",
    "most_likely_sequence"
   ]
  },
  {
   "cell_type": "code",
   "execution_count": 5,
   "metadata": {},
   "outputs": [
    {
     "data": {
      "text/plain": [
       "(6.300333333333334, 6.971666666666668)"
      ]
     },
     "execution_count": 5,
     "metadata": {},
     "output_type": "execute_result"
    },
    {
     "data": {
      "image/png": "[encoded data removed]",
      "text/plain": [
       "<Figure size 640x480 with 1 Axes>"
      ]
     },
     "metadata": {},
     "output_type": "display_data"
    }
   ],
   "source": [
    "import matplotlib.pyplot as plt\n",
    "\n",
    "plt.scatter(time, most_likely_sequence.position)\n",
    "plt.xlim(event_times[0] + [-0.200, 0.200])"
   ]
  },
  {
   "cell_type": "code",
   "execution_count": 6,
   "metadata": {},
   "outputs": [
    {
     "data": {
      "image/png": "[encoded data removed]",
      "text/plain": [
       "<Figure size 2000x1000 with 4 Axes>"
      ]
     },
     "metadata": {},
     "output_type": "display_data"
    }
   ],
   "source": [
    "from non_local_detector.visualization import plot_non_local_model\n",
    "\n",
    "plot_non_local_model(\n",
    "    time,\n",
    "    position,\n",
    "    spike_times,\n",
    "    speed,\n",
    "    detector,\n",
    "    results,\n",
    "    figsize=(20, 10),\n",
    ")"
   ]
  },
  {
   "cell_type": "code",
   "execution_count": 8,
   "metadata": {},
   "outputs": [
    {
     "data": {
      "text/plain": [
       "2.0"
      ]
     },
     "execution_count": 8,
     "metadata": {},
     "output_type": "execute_result"
    }
   ],
   "source": [
    "detector.environments[0].place_bin_size"
   ]
  },
  {
   "cell_type": "code",
   "execution_count": 14,
   "metadata": {},
   "outputs": [
    {
     "data": {
      "text/plain": [
       "(174,)"
      ]
     },
     "execution_count": 14,
     "metadata": {},
     "output_type": "execute_result"
    }
   ],
   "source": [
    "detector.initial_conditions_.shape"
   ]
  },
  {
   "cell_type": "code",
   "execution_count": 17,
   "metadata": {},
   "outputs": [
    {
     "data": {
      "text/plain": [
       "np.float64(1.0000000000000093)"
      ]
     },
     "execution_count": 17,
     "metadata": {},
     "output_type": "execute_result"
    }
   ],
   "source": [
    "detector.initial_conditions_.sum()"
   ]
  },
  {
   "cell_type": "code",
   "execution_count": 18,
   "metadata": {},
   "outputs": [
    {
     "data": {
      "text/plain": [
       "array([4., 4., 4., 4., 4., 4., 4., 4., 4., 4., 4., 4., 4., 4., 4., 4., 4.,\n",
       "       4., 4., 4., 4., 4., 4., 4., 4., 4., 4., 4., 4., 4., 4., 4., 4., 4.,\n",
       "       4., 4., 4., 4., 4., 4., 4., 4., 4., 4., 4., 4., 4., 4., 4., 4., 4.,\n",
       "       4., 4., 4., 4., 4., 4., 4., 4., 4., 4., 4., 4., 4., 4., 4., 4., 4.,\n",
       "       4., 4., 4., 4., 4., 4., 4., 4., 4., 4., 4., 4., 4., 4., 4., 4., 4.,\n",
       "       4., 4., 4., 4., 4., 4., 4., 4., 4., 4., 4., 4., 4., 4., 4., 4., 4.,\n",
       "       4., 4., 4., 4., 4., 4., 4., 4., 4., 4., 4., 4., 4., 4., 4., 4., 4.,\n",
       "       4., 4., 4., 4., 4., 4., 4., 4., 4., 4., 4., 4., 4., 4., 4., 4., 4.,\n",
       "       4., 4., 4., 4., 4., 4., 4., 4., 4., 4., 4., 4., 4., 4., 4., 4., 4.,\n",
       "       4., 4., 4., 4., 4., 4., 4., 4., 4., 4., 4., 4., 4., 4., 4., 4., 4.,\n",
       "       4., 4., 4., 4.])"
      ]
     },
     "execution_count": 18,
     "metadata": {},
     "output_type": "execute_result"
    }
   ],
   "source": [
    "detector.continuous_state_transitions_.sum(axis=1)"
   ]
  },
  {
   "cell_type": "code",
   "execution_count": 19,
   "metadata": {},
   "outputs": [
    {
     "data": {
      "text/plain": [
       "(86, 1)"
      ]
     },
     "execution_count": 19,
     "metadata": {},
     "output_type": "execute_result"
    }
   ],
   "source": [
    "detector.environments[0].place_bin_centers_.shape"
   ]
  },
  {
   "cell_type": "code",
   "execution_count": 22,
   "metadata": {},
   "outputs": [
    {
     "data": {
      "text/plain": [
       "dict_keys(['environment', 'marginal_models', 'occupancy_model', 'occupancy', 'mean_rates', 'place_fields', 'no_spike_part_log_likelihood', 'is_track_interior', 'disable_progress_bar'])"
      ]
     },
     "execution_count": 22,
     "metadata": {},
     "output_type": "execute_result"
    }
   ],
   "source": [
    "detector.encoding_model_[(\"\", 0)].keys()"
   ]
  },
  {
   "cell_type": "code",
   "execution_count": 24,
   "metadata": {},
   "outputs": [
    {
     "data": {
      "text/plain": [
       "[np.float64(0.0009416931644374584),\n",
       " np.float64(0.0009625515581866589),\n",
       " np.float64(0.0007114145794247685),\n",
       " np.float64(0.0006905043581301219),\n",
       " np.float64(0.00043941611516155025),\n",
       " np.float64(0.0003766577234316482),\n",
       " np.float64(0.00035572465735082977),\n",
       " np.float64(0.00038711304676557114),\n",
       " np.float64(0.00033480245699802345),\n",
       " np.float64(0.00031386813974618204),\n",
       " np.float64(0.0002929581186638476),\n",
       " np.float64(0.0004080434258848905),\n",
       " np.float64(0.000230184792093394),\n",
       " np.float64(0.0003871143091634528),\n",
       " np.float64(0.00032432952870233776),\n",
       " np.float64(0.0003034261189923085),\n",
       " np.float64(0.00031387950319826006),\n",
       " np.float64(0.0004289771531029394),\n",
       " np.float64(0.000449891339349826),\n",
       " np.float64(0.0003661994967073409),\n",
       " np.float64(0.0003661899626095048),\n",
       " np.float64(0.0003766574889150457),\n",
       " np.float64(0.00034526732752778475),\n",
       " np.float64(0.0003871183177757645),\n",
       " np.float64(0.0004394229043198124),\n",
       " np.float64(0.000512689589189361),\n",
       " np.float64(0.0005545499686604376),\n",
       " np.float64(0.0006710953636028353),\n",
       " np.float64(0.0017188451382462366),\n",
       " np.float64(0.004077644457324636)]"
      ]
     },
     "execution_count": 24,
     "metadata": {},
     "output_type": "execute_result"
    }
   ],
   "source": [
    "detector.encoding_model_[(\"\", 0)][\"mean_rates\"]"
   ]
  },
  {
   "cell_type": "code",
   "execution_count": 11,
   "metadata": {},
   "outputs": [
    {
     "data": {
      "image/png": "[encoded data removed]",
      "text/plain": [
       "<Figure size 2000x1000 with 4 Axes>"
      ]
     },
     "metadata": {},
     "output_type": "display_data"
    }
   ],
   "source": [
    "from non_local_detector.visualization import plot_non_local_model\n",
    "\n",
    "plot_non_local_model(\n",
    "    time,\n",
    "    position,\n",
    "    spike_times,\n",
    "    speed,\n",
    "    detector,\n",
    "    results,\n",
    "    figsize=(20, 10),\n",
    "    time_slice=slice(event_times[0][0] - 0.2, event_times[0][1] + 0.2),\n",
    ")"
   ]
  },
  {
   "cell_type": "code",
   "execution_count": null,
   "metadata": {},
   "outputs": [],
   "source": [
    "import jax.numpy as jnp\n",
    "import jax\n",
    "\n",
    "\n",
    "@jax.jit\n",
    "def hmm_posterior_mode(\n",
    "    initial_distribution,\n",
    "    transition_matrix,\n",
    "    log_likelihoods,\n",
    "):\n",
    "    r\"\"\"Compute the most likely state sequence. This is called the Viterbi algorithm.\n",
    "\n",
    "    Args:\n",
    "        initial_distribution: $p(z_1 \\mid u_1, \\theta)$\n",
    "        transition_matrix: $p(z_{t+1} \\mid z_t, u_t, \\theta)$\n",
    "        log_likelihoods: $p(y_t \\mid z_t, u_t, \\theta)$ for $t=1,\\ldots, T$.\n",
    "        transition_fn: function that takes in an integer time index and returns a $K \\times K$ transition matrix.\n",
    "\n",
    "    Returns:\n",
    "        most likely state sequence\n",
    "\n",
    "    \"\"\"\n",
    "    # Run the backward pass\n",
    "    def _backward_pass(best_next_score, t):\n",
    "        scores = jnp.log(transition_matrix) + best_next_score + log_likelihoods[t + 1]\n",
    "        best_next_state = jnp.argmax(scores, axis=1)\n",
    "        best_next_score = jnp.max(scores, axis=1)\n",
    "        return best_next_score, best_next_state\n",
    "\n",
    "    num_timesteps, num_states = log_likelihoods.shape\n",
    "    best_second_score, rev_best_next_states = jax.lax.scan(\n",
    "        _backward_pass, jnp.zeros(num_states), jnp.arange(num_timesteps - 2, -1, -1)\n",
    "    )\n",
    "    best_next_states = rev_best_next_states[::-1]\n",
    "\n",
    "    # Run the forward pass\n",
    "    def _forward_pass(state, best_next_state):\n",
    "        next_state = best_next_state[state]\n",
    "        return next_state, next_state\n",
    "\n",
    "    first_state = jnp.argmax(\n",
    "        jnp.log(initial_distribution) + log_likelihoods[0] + best_second_score\n",
    "    )\n",
    "    _, states = jax.lax.scan(_forward_pass, first_state, best_next_states)\n",
    "\n",
    "    return jnp.concatenate([jnp.array([first_state]), states])"
   ]
  },
  {
   "cell_type": "code",
   "execution_count": null,
   "metadata": {},
   "outputs": [],
   "source": [
    "import numpy as np\n",
    "initial_distribution=detector.initial_conditions_\n",
    "transition_matrix=(\n",
    "    detector.discrete_state_transitions_[\n",
    "        np.ix_(detector.state_ind_, detector.state_ind_)\n",
    "    ]\n",
    "    * detector.continuous_state_transitions_\n",
    ")\n",
    "log_likelihoods=detector.log_likelihood_\n",
    "\n",
    "def _backward_pass(best_next_score, t):\n",
    "    scores = jnp.log(transition_matrix) + best_next_score + log_likelihoods[t + 1]\n",
    "    best_next_state = jnp.argmax(scores, axis=1)\n",
    "    best_next_score = jnp.max(scores, axis=1)\n",
    "    return best_next_score, best_next_state\n",
    "\n",
    "num_timesteps, num_states = log_likelihoods.shape\n",
    "best_second_score, rev_best_next_states = jax.lax.scan(\n",
    "    _backward_pass, jnp.zeros(num_states), jnp.arange(num_timesteps - 2, -1, -1)\n",
    ")\n",
    "best_next_states = rev_best_next_states[::-1]"
   ]
  },
  {
   "cell_type": "code",
   "execution_count": null,
   "metadata": {},
   "outputs": [],
   "source": [
    "best_second_score.shape, rev_best_next_states.shape"
   ]
  },
  {
   "cell_type": "code",
   "execution_count": null,
   "metadata": {},
   "outputs": [],
   "source": [
    "best_second_score2, best_next_states2 = jax.lax.scan(\n",
    "    _backward_pass, jnp.zeros(num_states), jnp.arange(num_timesteps - 1), reverse=True\n",
    ")"
   ]
  },
  {
   "cell_type": "code",
   "execution_count": null,
   "metadata": {},
   "outputs": [],
   "source": [
    "np.allclose(best_next_states, best_next_states2)"
   ]
  },
  {
   "cell_type": "code",
   "execution_count": null,
   "metadata": {},
   "outputs": [],
   "source": [
    "import numpy as np\n",
    "\n",
    "most_likely_state_id = hmm_posterior_mode(\n",
    "    initial_distribution=detector.initial_conditions_,\n",
    "    transition_matrix=(\n",
    "        detector.discrete_state_transitions_[\n",
    "            np.ix_(detector.state_ind_, detector.state_ind_)\n",
    "        ]\n",
    "        * detector.continuous_state_transitions_\n",
    "    ),\n",
    "    log_likelihoods=detector.log_likelihood_,\n",
    ")\n",
    "most_likely_state = results.state_bins[most_likely_state_id]"
   ]
  },
  {
   "cell_type": "code",
   "execution_count": null,
   "metadata": {},
   "outputs": [],
   "source": [
    "import matplotlib.pyplot as plt\n",
    "\n",
    "fig, axes = plt.subplots(3, 1, figsize=(10, 5), sharex=True)\n",
    "axes[0].scatter(results.time, most_likely_state.to_dataframe().position.values, s=1)\n",
    "axes[1].plot(time, most_likely_state_id)\n",
    "for state_prob, state_name in zip(\n",
    "    results.acausal_state_probabilities.values.T, results.states.values\n",
    "):\n",
    "    axes[2].plot(time, state_prob, label=state_name)\n",
    "\n",
    "axes[2].legend()\n",
    "plt.xlim((6, 7))"
   ]
  },
  {
   "cell_type": "code",
   "execution_count": null,
   "metadata": {},
   "outputs": [],
   "source": [
    "fig, axes = plt.subplots(3, 1, figsize=(10, 7), sharex=True)\n",
    "axes[0].scatter(results.time, most_likely_state.to_dataframe().position.values, s=1)\n",
    "axes[1].scatter(time, most_likely_state_id, s=10)\n",
    "axes[1].axhline(0, color=\"black\", linestyle=\"--\")\n",
    "for state_prob, state_name in zip(\n",
    "    results.acausal_state_probabilities.values.T, results.states.values\n",
    "):\n",
    "    axes[2].plot(time, state_prob, label=state_name)\n",
    "\n",
    "axes[2].legend()\n",
    "plt.xlim((32.4, 32.8))"
   ]
  },
  {
   "cell_type": "code",
   "execution_count": null,
   "metadata": {},
   "outputs": [],
   "source": [
    "detector.plot_discrete_state_transition()"
   ]
  },
  {
   "cell_type": "code",
   "execution_count": null,
   "metadata": {},
   "outputs": [],
   "source": [
    "@jax.jit\n",
    "def hmm_posterior_mode2(\n",
    "    initial_distribution,\n",
    "    transition_matrix,\n",
    "    log_likelihoods,\n",
    "):\n",
    "    r\"\"\"Compute the most likely state sequence. This is called the Viterbi algorithm.\n",
    "\n",
    "    Args:\n",
    "        initial_distribution: $p(z_1 \\mid u_1, \\theta)$\n",
    "        transition_matrix: $p(z_{t+1} \\mid z_t, u_t, \\theta)$\n",
    "        log_likelihoods: $p(y_t \\mid z_t, u_t, \\theta)$ for $t=1,\\ldots, T$.\n",
    "        transition_fn: function that takes in an integer time index and returns a $K \\times K$ transition matrix.\n",
    "\n",
    "    Returns:\n",
    "        most likely state sequence\n",
    "\n",
    "    \"\"\"\n",
    "    # Run the backward pass\n",
    "    def _backward_pass(best_next_score, t):\n",
    "        scores = jnp.log(transition_matrix) + best_next_score + log_likelihoods[t + 1]\n",
    "        best_next_state = jnp.argmax(scores, axis=1)\n",
    "        best_next_score = jnp.max(scores, axis=1)\n",
    "        return best_next_score, best_next_state\n",
    "\n",
    "    num_timesteps, num_states = log_likelihoods.shape\n",
    "    best_second_score, best_next_states = jax.lax.scan(\n",
    "        _backward_pass,\n",
    "        jnp.zeros(num_states),\n",
    "        jnp.arange(num_timesteps-1),\n",
    "        reverse=True,\n",
    "    )\n",
    "\n",
    "    # Run the forward pass\n",
    "    def _forward_pass(state, best_next_state):\n",
    "        next_state = best_next_state[state]\n",
    "        return next_state, next_state\n",
    "\n",
    "    first_state = jnp.argmax(\n",
    "        jnp.log(initial_distribution) + log_likelihoods[0] + best_second_score\n",
    "    )\n",
    "    _, states = jax.lax.scan(_forward_pass, first_state, best_next_states)\n",
    "\n",
    "    return jnp.concatenate([jnp.array([first_state]), states])\n",
    "\n",
    "most_likely_state_id2 = hmm_posterior_mode2(\n",
    "    initial_distribution=detector.initial_conditions_,\n",
    "    transition_matrix=(\n",
    "        detector.discrete_state_transitions_[\n",
    "            np.ix_(detector.state_ind_, detector.state_ind_)\n",
    "        ]\n",
    "        * detector.continuous_state_transitions_\n",
    "    ),\n",
    "    log_likelihoods=detector.log_likelihood_,\n",
    ")\n",
    "\n",
    "np.all(np.asarray(most_likely_state_id) == np.asarray(most_likely_state_id2))"
   ]
  },
  {
   "cell_type": "code",
   "execution_count": null,
   "metadata": {},
   "outputs": [],
   "source": [
    "first_state = jnp.argmax(\n",
    "    jnp.log(initial_distribution) + log_likelihoods[0] + best_second_score\n",
    ")\n",
    "best_next_states[0, first_state]"
   ]
  },
  {
   "cell_type": "code",
   "execution_count": null,
   "metadata": {},
   "outputs": [],
   "source": [
    "most_likely_state"
   ]
  },
  {
   "cell_type": "code",
   "execution_count": null,
   "metadata": {},
   "outputs": [],
   "source": [
    "most_likely_state.shape, most_likely_state2.shape"
   ]
  },
  {
   "cell_type": "code",
   "execution_count": null,
   "metadata": {},
   "outputs": [],
   "source": [
    "from non_local_detector import ContFragSortedSpikesClassifier, RandomWalk, Uniform\n",
    "\n",
    "continuous_st = [[RandomWalk(movement_var=1.0), Uniform()], [Uniform(), Uniform()]]\n",
    "\n",
    "decoder = ContFragSortedSpikesClassifier(\n",
    "    continuous_transition_types=continuous_st,\n",
    ")\n",
    "results2 = decoder.estimate_parameters(\n",
    "    position_time=time,\n",
    "    position=position,\n",
    "    spike_times=spike_times,\n",
    "    is_training=is_training,\n",
    "    time=time,\n",
    "    store_log_likelihood=True,\n",
    ")"
   ]
  },
  {
   "cell_type": "code",
   "execution_count": null,
   "metadata": {},
   "outputs": [],
   "source": [
    "from non_local_detector.likelihoods.common import get_spikecount_per_time_bin\n",
    "import numpy as np\n",
    "import scipy.interpolate\n",
    "\n",
    "true_log_likelihood = np.zeros_like(decoder.log_likelihood_)\n",
    "\n",
    "for neuron_spike_times, neuron_place_field in zip(spike_times, place_fields.T):\n",
    "    spike_counts = get_spikecount_per_time_bin(neuron_spike_times, time)\n",
    "    neuron_place_intensity = (\n",
    "        scipy.interpolate.interp1d(position, neuron_place_field)(\n",
    "            decoder.environments[0].place_bin_centers_\n",
    "        )\n",
    "        / sampling_frequency\n",
    "    ).squeeze()\n",
    "    neuron_log_likelihoood = jax.scipy.stats.poisson.logpmf(\n",
    "        spike_counts[:, None], neuron_place_intensity[None, :]\n",
    "    )\n",
    "\n",
    "    true_log_likelihood += np.concatenate(\n",
    "        [neuron_log_likelihoood, neuron_log_likelihoood], axis=1\n",
    "    )\n",
    "\n",
    "true_log_likelihood.shape"
   ]
  },
  {
   "cell_type": "code",
   "execution_count": null,
   "metadata": {},
   "outputs": [],
   "source": [
    "import numpy as np\n",
    "\n",
    "most_likely_state_id2 = hmm_posterior_mode(\n",
    "    initial_distribution=decoder.initial_conditions_,\n",
    "    transition_matrix=(\n",
    "        decoder.discrete_state_transitions_[\n",
    "            np.ix_(decoder.state_ind_, decoder.state_ind_)\n",
    "        ]\n",
    "        * decoder.continuous_state_transitions_\n",
    "    ),\n",
    "    # log_likelihoods=decoder.log_likelihood_,\n",
    "    log_likelihoods=true_log_likelihood,\n",
    ")\n",
    "\n",
    "most_likely_state2 = results2.state_bins[most_likely_state_id2]"
   ]
  },
  {
   "cell_type": "code",
   "execution_count": null,
   "metadata": {},
   "outputs": [],
   "source": [
    "import matplotlib.pyplot as plt\n",
    "\n",
    "fig, axes = plt.subplots(3, 1, figsize=(10, 5), sharex=True)\n",
    "axes[0].plot(time, position, color=\"magenta\")\n",
    "axes[0].scatter(results2.time, most_likely_state2.to_dataframe().position.values, s=1)\n",
    "axes[1].plot(time, most_likely_state_id2)\n",
    "for state_prob, state_name in zip(\n",
    "    results2.acausal_state_probabilities.values.T, results2.states.values\n",
    "):\n",
    "    axes[2].plot(time, state_prob, label=state_name)\n",
    "\n",
    "axes[2].legend()\n",
    "plt.xlim((6, 7))"
   ]
  },
  {
   "cell_type": "code",
   "execution_count": null,
   "metadata": {},
   "outputs": [],
   "source": [
    "import matplotlib.pyplot as plt\n",
    "\n",
    "fig, axes = plt.subplots(3, 1, figsize=(10, 5), sharex=True)\n",
    "axes[0].plot(time, position, color=\"magenta\")\n",
    "axes[0].scatter(results2.time, most_likely_state2.to_dataframe().position.values, s=1)\n",
    "axes[1].plot(time, most_likely_state_id2)\n",
    "for state_prob, state_name in zip(\n",
    "    results2.acausal_state_probabilities.values.T, results2.states.values\n",
    "):\n",
    "    axes[2].plot(time, state_prob, label=state_name)\n",
    "\n",
    "axes[2].legend()\n",
    "plt.xlim((32.4, 32.8))"
   ]
  },
  {
   "cell_type": "code",
   "execution_count": null,
   "metadata": {},
   "outputs": [],
   "source": [
    "import matplotlib.pyplot as plt\n",
    "\n",
    "fig, axes = plt.subplots(3, 1, figsize=(10, 5), sharex=True)\n",
    "axes[0].plot(time, position, color=\"magenta\")\n",
    "axes[0].scatter(results2.time, most_likely_state2.to_dataframe().position.values, s=1)\n",
    "axes[1].plot(time, most_likely_state_id2)\n",
    "for state_prob, state_name in zip(\n",
    "    results2.acausal_state_probabilities.values.T, results2.states.values\n",
    "):\n",
    "    axes[2].plot(time, state_prob, label=state_name)\n",
    "\n",
    "axes[2].legend()\n",
    "plt.xlim((19, 20))"
   ]
  },
  {
   "cell_type": "code",
   "execution_count": null,
   "metadata": {},
   "outputs": [],
   "source": [
    "import matplotlib.pyplot as plt\n",
    "\n",
    "fig, axes = plt.subplots(3, 1, figsize=(10, 5), sharex=True)\n",
    "axes[0].plot(time, position, color=\"magenta\")\n",
    "axes[0].scatter(results2.time, most_likely_state2.to_dataframe().position.values, s=1)\n",
    "axes[1].plot(time, most_likely_state_id2)\n",
    "for state_prob, state_name in zip(\n",
    "    results2.acausal_state_probabilities.values.T, results2.states.values\n",
    "):\n",
    "    axes[2].plot(time, state_prob, label=state_name)\n",
    "\n",
    "axes[2].legend()"
   ]
  },
  {
   "cell_type": "code",
   "execution_count": null,
   "metadata": {},
   "outputs": [],
   "source": [
    "import matplotlib.pyplot as plt\n",
    "\n",
    "fig, axes = plt.subplots(3, 1, figsize=(10, 5), sharex=True)\n",
    "axes[0].plot(time, position, color=\"magenta\")\n",
    "axes[0].scatter(results2.time, most_likely_state2.to_dataframe().position.values, s=1)\n",
    "axes[1].plot(time, most_likely_state_id2)\n",
    "for state_prob, state_name in zip(\n",
    "    results2.acausal_state_probabilities.values.T, results2.states.values\n",
    "):\n",
    "    axes[2].plot(time, state_prob, label=state_name)\n",
    "\n",
    "axes[2].legend()\n",
    "\n",
    "plt.xlim((0, 5))"
   ]
  },
  {
   "cell_type": "code",
   "execution_count": null,
   "metadata": {},
   "outputs": [],
   "source": [
    "import pandas as pd\n",
    "\n",
    "self = decoder\n",
    "\n",
    "position = []\n",
    "n_position_dims = self.environments[0].place_bin_centers_.shape[1]\n",
    "environment_names = []\n",
    "encoding_group_names = []\n",
    "for obs in self.observation_models:\n",
    "    if obs.is_local or obs.is_no_spike:\n",
    "        position.append(np.full((1, n_position_dims), np.nan))\n",
    "        environment_names.append([None])\n",
    "        encoding_group_names.append([None])\n",
    "    else:\n",
    "        environment = self.environments[\n",
    "            self.environments.index(obs.environment_name)\n",
    "        ]\n",
    "        position.append(environment.place_bin_centers_)\n",
    "        environment_names.append([obs.environment_name] * environment.place_bin_centers_.shape[0])\n",
    "        encoding_group_names.append([obs.encoding_group] * environment.place_bin_centers_.shape[0])\n",
    "\n",
    "position = np.concatenate(position, axis=0)\n",
    "environment_names = np.concatenate(environment_names, axis=0)\n",
    "encoding_group_names = np.concatenate(encoding_group_names, axis=0)\n",
    "\n",
    "states = np.asarray(self.state_names)\n",
    "if n_position_dims == 1:\n",
    "    position_names = [\"position\"]\n",
    "else:\n",
    "    position_names = [\n",
    "        f\"{name}_position\" for name, _ in zip([\"x\", \"y\", \"z\", \"w\"], position.T)\n",
    "    ]\n",
    "state_bins = pd.DataFrame(\n",
    "    {\n",
    "        \"state\": states[self.state_ind_],\n",
    "        **{name: pos for name, pos in zip(position_names, position.T)},\n",
    "        \"environment\": environment_names,\n",
    "        \"encoding_group_names\": encoding_group_names,\n",
    "    }\n",
    ")\n",
    "\n",
    "state_bins.iloc[most_likely_state_id2].set_index(pd.Index(time, name=\"time\"))"
   ]
  },
  {
   "cell_type": "code",
   "execution_count": null,
   "metadata": {},
   "outputs": [],
   "source": [
    "obs"
   ]
  },
  {
   "cell_type": "code",
   "execution_count": null,
   "metadata": {},
   "outputs": [],
   "source": []
  },
  {
   "cell_type": "code",
   "execution_count": null,
   "metadata": {},
   "outputs": [],
   "source": [
    "environment_names = [obs.environment_name for obs in self.observation_models]\n",
    "encoding_group_names = [obs.encoding_group for obs in self.observation_models]\n",
    "\n",
    "environment_names"
   ]
  },
  {
   "cell_type": "code",
   "execution_count": null,
   "metadata": {},
   "outputs": [],
   "source": []
  },
  {
   "cell_type": "code",
   "execution_count": null,
   "metadata": {},
   "outputs": [],
   "source": [
    "# make this a dataframe instead of an index\n",
    "pd.DataFrame(\n",
    "    {\n",
    "        \"state\": states[self.state_ind_],\n",
    "        **{name: pos for name, pos in zip(position_names, position.T)},\n",
    "    }\n",
    ")"
   ]
  },
  {
   "cell_type": "code",
   "execution_count": null,
   "metadata": {},
   "outputs": [],
   "source": [
    "states[self.state_ind_].shape, position.T.shape"
   ]
  },
  {
   "cell_type": "code",
   "execution_count": null,
   "metadata": {},
   "outputs": [],
   "source": []
  }
 ],
 "metadata": {
  "kernelspec": {
   "display_name": "non_local_detector2",
   "language": "python",
   "name": "python3"
  },
  "language_info": {
   "codemirror_mode": {
    "name": "ipython",
    "version": 3
   },
   "file_extension": ".py",
   "mimetype": "text/x-python",
   "name": "python",
   "nbconvert_exporter": "python",
   "pygments_lexer": "ipython3",
   "version": "3.12.7"
  }
 },
 "nbformat": 4,
 "nbformat_minor": 2
}
