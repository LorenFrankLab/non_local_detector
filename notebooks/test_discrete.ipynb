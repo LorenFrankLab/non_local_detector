{
 "cells": [
  {
   "cell_type": "code",
   "execution_count": 1,
   "id": "b9e89a97",
   "metadata": {},
   "outputs": [
    {
     "data": {
      "text/plain": [
       "CategoricalGLM(n_states=3, n_features=5, formula='1 + bs(speed, df=4)'), concentration=2.0, stickiness=1000.0, l2_penalty=1e-05)"
      ]
     },
     "execution_count": 1,
     "metadata": {},
     "output_type": "execute_result"
    }
   ],
   "source": [
    "from non_local_detector.transitions.discrete import (\n",
    "    Stationary,\n",
    "    CategoricalGLM,\n",
    "    diag_stickiness,\n",
    ")\n",
    "\n",
    "import numpy as np\n",
    "\n",
    "speed = np.array([0.1, 0.2, 0.3, 0.4, 0.5])  # Example speed data\n",
    "# Stationary “sticky diagonal” example\n",
    "transition = diag_stickiness([0.95, 0.90, 0.98]) #\n",
    "\n",
    "# Covariate-dependent GLM example\n",
    "glm_transition = CategoricalGLM(\n",
    "    n_states=3,\n",
    "    formula=\"1 + bs(speed, df=4)\",\n",
    "    concentration=2.0,\n",
    "    stickiness=1e3,\n",
    ").initialize_parameters(\n",
    "    covariate_data={\"speed\": speed}\n",
    ")\n",
    "glm_transition"
   ]
  },
  {
   "cell_type": "code",
   "execution_count": 2,
   "id": "04c5b61c",
   "metadata": {},
   "outputs": [
    {
     "data": {
      "text/plain": [
       "Array([[[0.3333333, 0.3333333, 0.3333333],\n",
       "        [0.3333333, 0.3333333, 0.3333333],\n",
       "        [0.3333333, 0.3333333, 0.3333333]],\n",
       "\n",
       "       [[0.3333333, 0.3333333, 0.3333333],\n",
       "        [0.3333333, 0.3333333, 0.3333333],\n",
       "        [0.3333333, 0.3333333, 0.3333333]],\n",
       "\n",
       "       [[0.3333333, 0.3333333, 0.3333333],\n",
       "        [0.3333333, 0.3333333, 0.3333333],\n",
       "        [0.3333333, 0.3333333, 0.3333333]],\n",
       "\n",
       "       [[0.3333333, 0.3333333, 0.3333333],\n",
       "        [0.3333333, 0.3333333, 0.3333333],\n",
       "        [0.3333333, 0.3333333, 0.3333333]],\n",
       "\n",
       "       [[0.3333333, 0.3333333, 0.3333333],\n",
       "        [0.3333333, 0.3333333, 0.3333333],\n",
       "        [0.3333333, 0.3333333, 0.3333333]]], dtype=float32)"
      ]
     },
     "execution_count": 2,
     "metadata": {},
     "output_type": "execute_result"
    }
   ],
   "source": [
    "glm_transition.matrix(covariate_data={\"speed\": speed})"
   ]
  },
  {
   "cell_type": "code",
   "execution_count": 3,
   "id": "3e812822",
   "metadata": {},
   "outputs": [
    {
     "data": {
      "text/plain": [
       "array([[0.95 , 0.025, 0.025],\n",
       "       [0.05 , 0.9  , 0.05 ],\n",
       "       [0.01 , 0.01 , 0.98 ]])"
      ]
     },
     "execution_count": 3,
     "metadata": {},
     "output_type": "execute_result"
    }
   ],
   "source": [
    "transition.matrix()"
   ]
  },
  {
   "cell_type": "code",
   "execution_count": 4,
   "id": "e2c8137d",
   "metadata": {},
   "outputs": [
    {
     "data": {
      "text/plain": [
       "array([0., 0., 0.])"
      ]
     },
     "execution_count": 4,
     "metadata": {},
     "output_type": "execute_result"
    }
   ],
   "source": [
    "transition.stickiness"
   ]
  },
  {
   "cell_type": "code",
   "execution_count": null,
   "id": "62a4bebc",
   "metadata": {},
   "outputs": [],
   "source": []
  }
 ],
 "metadata": {
  "kernelspec": {
   "display_name": "non_local_detector2",
   "language": "python",
   "name": "python3"
  },
  "language_info": {
   "codemirror_mode": {
    "name": "ipython",
    "version": 3
   },
   "file_extension": ".py",
   "mimetype": "text/x-python",
   "name": "python",
   "nbconvert_exporter": "python",
   "pygments_lexer": "ipython3",
   "version": "3.12.7"
  }
 },
 "nbformat": 4,
 "nbformat_minor": 5
}
