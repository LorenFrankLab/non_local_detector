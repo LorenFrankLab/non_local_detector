{
 "cells": [
  {
   "cell_type": "code",
   "execution_count": 1,
   "id": "03519f10",
   "metadata": {},
   "outputs": [
    {
     "name": "stdout",
     "output_type": "stream",
     "text": [
      "Environment A bins: 4\n",
      "Environment B bins: 4\n",
      "Total bins: 8\n",
      "\n",
      "Transition matrix (rows sum to 1):\n",
      " [[0.28494832 0.09250917 0.09250917 0.03003333 0.125      0.125\n",
      "  0.125      0.125     ]\n",
      " [0.09250917 0.28494832 0.03003333 0.09250917 0.125      0.125\n",
      "  0.125      0.125     ]\n",
      " [0.09250917 0.03003333 0.28494832 0.09250917 0.125      0.125\n",
      "  0.125      0.125     ]\n",
      " [0.03003333 0.09250917 0.09250917 0.28494832 0.125      0.125\n",
      "  0.125      0.125     ]\n",
      " [0.125      0.125      0.125      0.125      0.28494832 0.09250917\n",
      "  0.09250917 0.03003333]\n",
      " [0.125      0.125      0.125      0.125      0.09250917 0.28494832\n",
      "  0.03003333 0.09250917]\n",
      " [0.125      0.125      0.125      0.125      0.09250917 0.03003333\n",
      "  0.28494832 0.09250917]\n",
      " [0.125      0.125      0.125      0.125      0.03003333 0.09250917\n",
      "  0.09250917 0.28494832]]\n"
     ]
    },
    {
     "data": {
      "text/plain": [
       "<matplotlib.collections.QuadMesh at 0x1822498b0>"
      ]
     },
     "execution_count": 1,
     "metadata": {},
     "output_type": "execute_result"
    },
    {
     "data": {
      "image/png": "[encoded data removed]",
      "text/plain": [
       "<Figure size 800x600 with 1 Axes>"
      ]
     },
     "metadata": {},
     "output_type": "display_data"
    }
   ],
   "source": [
    "import numpy as np\n",
    "import matplotlib.pyplot as plt\n",
    "from non_local_detector.environment import Environment\n",
    "from non_local_detector.model.state_spec import StateSpec\n",
    "from non_local_detector.transitions.continuous.kernels import (\n",
    "    EuclideanRandomWalkKernel,\n",
    "    UniformKernel,\n",
    ")\n",
    "from non_local_detector.transitions.continuous.orchestrators.block import BlockTransition\n",
    "from non_local_detector.observations.base import ObservationModel\n",
    "\n",
    "# 1. Create two simple 2D environments using sample clusters\n",
    "#    - State A: points around (0, 0)\n",
    "#    - State B: points around (5, 5)\n",
    "cluster_A = np.array([[0, 0], [0, 1], [1, 0], [1, 1]], dtype=float)\n",
    "cluster_B = np.array([[5, 5], [5, 6], [6, 5], [6, 6]], dtype=float)\n",
    "\n",
    "# Build environments with bin_size = 2.0 (so each cluster becomes a small grid)\n",
    "env_A = Environment.from_samples(\n",
    "    cluster_A, name=\"StateA\", layout_kind=\"RegularGrid\", bin_size=2.0\n",
    ")\n",
    "env_B = Environment.from_samples(\n",
    "    cluster_B, name=\"StateB\", layout_kind=\"RegularGrid\", bin_size=2.0\n",
    ")\n",
    "\n",
    "# 2. Define StateSpec for each state. We use `obs_model=None` since we focus on transitions here.\n",
    "spec_A = StateSpec(name=\"A\", env=env_A, obs_model=ObservationModel)\n",
    "spec_B = StateSpec(name=\"B\", env=env_B, obs_model=ObservationModel)\n",
    "\n",
    "# 3. Choose kernels:\n",
    "#    - Within-state transitions use a small Gaussian random walk (mean=0 in 2D, var=1.0).\n",
    "#    - Cross-state transitions (A->B and B->A) will default to uniform jumps, because we won't supply them explicitly.\n",
    "gaussian_kernel_A = EuclideanRandomWalkKernel(mean=np.zeros(2), var=1.0)\n",
    "gaussian_kernel_B = EuclideanRandomWalkKernel(mean=np.zeros(2), var=1.0)\n",
    "\n",
    "uniform_A = UniformKernel()\n",
    "uniform_B = UniformKernel()\n",
    "\n",
    "# 4. Build a state_map for diag blocks (A->A and B->B). Off-diagonals will be filled uniformly by BlockTransition.\n",
    "state_map = {\n",
    "    (\"A\", \"A\"): gaussian_kernel_A,\n",
    "    (\"B\", \"B\"): gaussian_kernel_B,\n",
    "}\n",
    "# state_map = {\n",
    "#     (\"A\", \"A\"): uniform_A,\n",
    "#     (\"B\", \"B\"): gaussian_kernel_B,\n",
    "#     (\"A\", \"B\"): uniform_A,  # A to B transitions\n",
    "#     (\"B\", \"A\"): uniform_B,  # B to A transitions\n",
    "# }\n",
    "\n",
    "# 5. Construct the BlockTransition\n",
    "block_trans = BlockTransition(state_map=state_map, state_specs=[spec_A, spec_B])\n",
    "\n",
    "# 6. Compute a single (time-invariant) transition matrix. No covariates needed for these kernels.\n",
    "trans_matrix = block_trans.matrix(covariates={})\n",
    "\n",
    "# 7. Print out the shapes and the transition matrix\n",
    "print(\"Environment A bins:\", env_A.n_bins)\n",
    "print(\"Environment B bins:\", env_B.n_bins)\n",
    "print(\"Total bins:\", block_trans.n_bins_total)\n",
    "print(\"\\nTransition matrix (rows sum to 1):\\n\", trans_matrix)\n",
    "\n",
    "plt.figure(figsize=(8, 6))\n",
    "plt.pcolormesh(trans_matrix, cmap=\"Blues\")"
   ]
  },
  {
   "cell_type": "code",
   "execution_count": 2,
   "id": "53a74a7d",
   "metadata": {},
   "outputs": [
    {
     "data": {
      "text/plain": [
       "<matplotlib.collections.QuadMesh at 0x18282e870>"
      ]
     },
     "execution_count": 2,
     "metadata": {},
     "output_type": "execute_result"
    },
    {
     "data": {
      "image/png": "[encoded data removed]",
      "text/plain": [
       "<Figure size 800x600 with 1 Axes>"
      ]
     },
     "metadata": {},
     "output_type": "display_data"
    }
   ],
   "source": [
    "spec_cont = StateSpec(name=\"continuous\", env=env_A, obs_model=ObservationModel)\n",
    "spec_frag = StateSpec(name=\"fragmented\", env=env_A, obs_model=ObservationModel)\n",
    "gaussian_kernel = EuclideanRandomWalkKernel(mean=np.zeros(2), var=1.0)\n",
    "uniform_kernel = UniformKernel()\n",
    "\n",
    "\n",
    "state_map = {\n",
    "    (\"continuous\", \"continuous\"): gaussian_kernel,\n",
    "    (\"fragmented\", \"fragmented\"): uniform_kernel,\n",
    "}\n",
    "\n",
    "block_trans = BlockTransition(state_map=state_map, state_specs=[spec_cont, spec_frag])\n",
    "\n",
    "# 6. Compute a single (time-invariant) transition matrix. No covariates needed for these kernels.\n",
    "trans_matrix = block_trans.matrix(covariates={})\n",
    "\n",
    "plt.figure(figsize=(8, 6))\n",
    "plt.pcolormesh(trans_matrix.T, cmap=\"Blues\")"
   ]
  },
  {
   "cell_type": "code",
   "execution_count": null,
   "id": "2dc0b534",
   "metadata": {},
   "outputs": [],
   "source": []
  }
 ],
 "metadata": {
  "kernelspec": {
   "display_name": "non_local_detector2",
   "language": "python",
   "name": "python3"
  },
  "language_info": {
   "codemirror_mode": {
    "name": "ipython",
    "version": 3
   },
   "file_extension": ".py",
   "mimetype": "text/x-python",
   "name": "python",
   "nbconvert_exporter": "python",
   "pygments_lexer": "ipython3",
   "version": "3.12.7"
  }
 },
 "nbformat": 4,
 "nbformat_minor": 5
}
