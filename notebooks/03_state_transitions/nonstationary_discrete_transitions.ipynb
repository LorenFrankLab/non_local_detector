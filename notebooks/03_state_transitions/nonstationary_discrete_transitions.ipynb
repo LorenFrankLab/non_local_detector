{
 "cells": [
  {
   "cell_type": "code",
   "execution_count": null,
   "metadata": {},
   "outputs": [],
   "source": [
    "import logging\n",
    "\n",
    "import numpy as np\n",
    "\n",
    "# Make analysis reproducible\n",
    "np.random.seed(0)\n",
    "\n",
    "# Enable logging\n",
    "logging.basicConfig(level=logging.INFO)"
   ]
  },
  {
   "cell_type": "code",
   "execution_count": null,
   "metadata": {},
   "outputs": [],
   "source": [
    "import pprint\n",
    "\n",
    "import jax\n",
    "\n",
    "pprint.pprint(jax.devices())"
   ]
  },
  {
   "cell_type": "code",
   "execution_count": null,
   "metadata": {},
   "outputs": [],
   "source": [
    "device_id = 0\n",
    "device = jax.devices()[device_id]\n",
    "device"
   ]
  },
  {
   "cell_type": "code",
   "execution_count": 4,
   "metadata": {},
   "outputs": [],
   "source": [
    "jax.config.update(\"jax_default_device\", device)"
   ]
  },
  {
   "cell_type": "code",
   "execution_count": null,
   "metadata": {},
   "outputs": [],
   "source": [
    "from replay_trajectory_classification.sorted_spikes_simulation import (\n",
    "    make_simulated_run_data,\n",
    ")\n",
    "\n",
    "MM_TO_INCHES = 1.0 / 25.4\n",
    "TWO_COLUMN = 178.0 * MM_TO_INCHES\n",
    "GOLDEN_RATIO = (np.sqrt(5) - 1.0) / 2.0\n",
    "\n",
    "(\n",
    "    time,\n",
    "    linear_distance,\n",
    "    sampling_frequency,\n",
    "    spikes,\n",
    "    place_fields,\n",
    ") = make_simulated_run_data()"
   ]
  },
  {
   "cell_type": "code",
   "execution_count": 6,
   "metadata": {},
   "outputs": [],
   "source": [
    "from replay_trajectory_classification.sorted_spikes_simulation import (\n",
    "    make_fragmented_continuous_fragmented_replay,\n",
    ")\n",
    "\n",
    "replay_time, test_spikes = make_fragmented_continuous_fragmented_replay()\n",
    "\n",
    "state_names = [\"Continuous\", \"Fragmented\"]"
   ]
  },
  {
   "cell_type": "code",
   "execution_count": 7,
   "metadata": {},
   "outputs": [],
   "source": [
    "from replay_trajectory_classification import (\n",
    "    Environment,\n",
    "    RandomWalk,\n",
    "    Uniform,\n",
    "    estimate_movement_var,\n",
    ")\n",
    "\n",
    "movement_var = estimate_movement_var(linear_distance, sampling_frequency)\n",
    "\n",
    "environment = Environment(place_bin_size=np.sqrt(movement_var))\n",
    "continuous_transition_types = [\n",
    "    [RandomWalk(movement_var=movement_var * 120), Uniform()],\n",
    "    [Uniform(), Uniform()],\n",
    "]"
   ]
  },
  {
   "cell_type": "code",
   "execution_count": 8,
   "metadata": {},
   "outputs": [],
   "source": [
    "from non_local_detector import ContFragSortedSpikesClassifier\n",
    "from non_local_detector.discrete_state_transitions import DiscreteNonStationaryDiagonal\n",
    "\n",
    "discrete_transition_type = DiscreteNonStationaryDiagonal(\n",
    "    diagonal_values=np.array([0.98, 0.98])\n",
    ")\n",
    "\n",
    "\n",
    "discrete_transition_covariate_data = {\"speed\": linear_distance}"
   ]
  },
  {
   "cell_type": "code",
   "execution_count": 9,
   "metadata": {},
   "outputs": [],
   "source": [
    "spike_times = [time[spike_train.astype(bool)] for spike_train in spikes.T]"
   ]
  },
  {
   "cell_type": "code",
   "execution_count": 10,
   "metadata": {},
   "outputs": [],
   "source": [
    "test_spike_times = [replay_time[spike_train.astype(bool)] for spike_train in test_spikes.T]"
   ]
  },
  {
   "cell_type": "code",
   "execution_count": null,
   "metadata": {},
   "outputs": [],
   "source": [
    "classifier3 = ContFragSortedSpikesClassifier(\n",
    "    environments=environment,\n",
    "    discrete_transition_type=discrete_transition_type,\n",
    "    continuous_transition_types=continuous_transition_types,\n",
    "    sorted_spikes_algorithm=\"sorted_spikes_kde\",\n",
    "    sorted_spikes_algorithm_params={\"position_std\": 5.0},\n",
    ").fit(time,\n",
    "      linear_distance, spike_times, discrete_transition_covariate_data=discrete_transition_covariate_data)\n",
    "results3 = classifier3.predict(test_spike_times, time=replay_time)"
   ]
  },
  {
   "cell_type": "code",
   "execution_count": null,
   "metadata": {},
   "outputs": [],
   "source": [
    "classifier3.discrete_transition_coefficients_"
   ]
  },
  {
   "cell_type": "code",
   "execution_count": null,
   "metadata": {},
   "outputs": [],
   "source": [
    "classifier3.estimate_parameters(\n",
    "    time,\n",
    "    linear_distance,\n",
    "    spike_times,\n",
    "    time=time,\n",
    "    discrete_transition_covariate_data=discrete_transition_covariate_data,\n",
    ")"
   ]
  },
  {
   "cell_type": "code",
   "execution_count": null,
   "metadata": {},
   "outputs": [],
   "source": [
    "classifier3.discrete_transition_coefficients_"
   ]
  },
  {
   "cell_type": "code",
   "execution_count": null,
   "metadata": {},
   "outputs": [],
   "source": []
  }
 ],
 "metadata": {
  "kernelspec": {
   "display_name": "non_local_detector",
   "language": "python",
   "name": "python3"
  },
  "language_info": {
   "codemirror_mode": {
    "name": "ipython",
    "version": 3
   },
   "file_extension": ".py",
   "mimetype": "text/x-python",
   "name": "python",
   "nbconvert_exporter": "python",
   "pygments_lexer": "ipython3",
   "version": "3.11.4"
  },
  "orig_nbformat": 4
 },
 "nbformat": 4,
 "nbformat_minor": 2
}
