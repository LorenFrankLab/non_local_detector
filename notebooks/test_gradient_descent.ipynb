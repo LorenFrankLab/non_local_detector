{
 "cells": [
  {
   "cell_type": "code",
   "execution_count": 1,
   "metadata": {},
   "outputs": [
    {
     "name": "stdout",
     "output_type": "stream",
     "text": [
      "Intel MKL WARNING: Support of Intel(R) Streaming SIMD Extensions 4.2 (Intel(R) SSE4.2) enabled only processors has been deprecated. Intel oneAPI Math Kernel Library 2025.0 will require Intel(R) Advanced Vector Extensions (Intel(R) AVX) instructions.\n",
      "Intel MKL WARNING: Support of Intel(R) Streaming SIMD Extensions 4.2 (Intel(R) SSE4.2) enabled only processors has been deprecated. Intel oneAPI Math Kernel Library 2025.0 will require Intel(R) Advanced Vector Extensions (Intel(R) AVX) instructions.\n"
     ]
    },
    {
     "name": "stderr",
     "output_type": "stream",
     "text": [
      "/Users/edeno/Documents/GitHub/non_local_detector/src/non_local_detector/likelihoods/clusterless_kde.py:6: TqdmExperimentalWarning: Using `tqdm.autonotebook.tqdm` in notebook mode. Use `tqdm.tqdm` instead to force console mode (e.g. in jupyter console)\n",
      "  from tqdm.autonotebook import tqdm\n"
     ]
    }
   ],
   "source": [
    "from non_local_detector.simulate.sorted_spikes_simulation import make_simulated_data\n",
    "\n",
    "(\n",
    "    speed,\n",
    "    position,\n",
    "    spike_times,\n",
    "    time,\n",
    "    event_times,\n",
    "    sampling_frequency,\n",
    "    is_event,\n",
    "    place_fields,\n",
    ") = make_simulated_data()"
   ]
  },
  {
   "cell_type": "code",
   "execution_count": 2,
   "metadata": {},
   "outputs": [
    {
     "data": {
      "application/vnd.jupyter.widget-view+json": {
       "model_id": "382d3c99ecad472ca0521ea522f18ccf",
       "version_major": 2,
       "version_minor": 0
      },
      "text/plain": [
       "Encoding models:   0%|          | 0/25 [00:00<?, ?cell/s]"
      ]
     },
     "metadata": {},
     "output_type": "display_data"
    },
    {
     "data": {
      "text/html": [
       "<style>#sk-container-id-1 {color: black;background-color: white;}#sk-container-id-1 pre{padding: 0;}#sk-container-id-1 div.sk-toggleable {background-color: white;}#sk-container-id-1 label.sk-toggleable__label {cursor: pointer;display: block;width: 100%;margin-bottom: 0;padding: 0.3em;box-sizing: border-box;text-align: center;}#sk-container-id-1 label.sk-toggleable__label-arrow:before {content: \"▸\";float: left;margin-right: 0.25em;color: #696969;}#sk-container-id-1 label.sk-toggleable__label-arrow:hover:before {color: black;}#sk-container-id-1 div.sk-estimator:hover label.sk-toggleable__label-arrow:before {color: black;}#sk-container-id-1 div.sk-toggleable__content {max-height: 0;max-width: 0;overflow: hidden;text-align: left;background-color: #f0f8ff;}#sk-container-id-1 div.sk-toggleable__content pre {margin: 0.2em;color: black;border-radius: 0.25em;background-color: #f0f8ff;}#sk-container-id-1 input.sk-toggleable__control:checked~div.sk-toggleable__content {max-height: 200px;max-width: 100%;overflow: auto;}#sk-container-id-1 input.sk-toggleable__control:checked~label.sk-toggleable__label-arrow:before {content: \"▾\";}#sk-container-id-1 div.sk-estimator input.sk-toggleable__control:checked~label.sk-toggleable__label {background-color: #d4ebff;}#sk-container-id-1 div.sk-label input.sk-toggleable__control:checked~label.sk-toggleable__label {background-color: #d4ebff;}#sk-container-id-1 input.sk-hidden--visually {border: 0;clip: rect(1px 1px 1px 1px);clip: rect(1px, 1px, 1px, 1px);height: 1px;margin: -1px;overflow: hidden;padding: 0;position: absolute;width: 1px;}#sk-container-id-1 div.sk-estimator {font-family: monospace;background-color: #f0f8ff;border: 1px dotted black;border-radius: 0.25em;box-sizing: border-box;margin-bottom: 0.5em;}#sk-container-id-1 div.sk-estimator:hover {background-color: #d4ebff;}#sk-container-id-1 div.sk-parallel-item::after {content: \"\";width: 100%;border-bottom: 1px solid gray;flex-grow: 1;}#sk-container-id-1 div.sk-label:hover label.sk-toggleable__label {background-color: #d4ebff;}#sk-container-id-1 div.sk-serial::before {content: \"\";position: absolute;border-left: 1px solid gray;box-sizing: border-box;top: 0;bottom: 0;left: 50%;z-index: 0;}#sk-container-id-1 div.sk-serial {display: flex;flex-direction: column;align-items: center;background-color: white;padding-right: 0.2em;padding-left: 0.2em;position: relative;}#sk-container-id-1 div.sk-item {position: relative;z-index: 1;}#sk-container-id-1 div.sk-parallel {display: flex;align-items: stretch;justify-content: center;background-color: white;position: relative;}#sk-container-id-1 div.sk-item::before, #sk-container-id-1 div.sk-parallel-item::before {content: \"\";position: absolute;border-left: 1px solid gray;box-sizing: border-box;top: 0;bottom: 0;left: 50%;z-index: -1;}#sk-container-id-1 div.sk-parallel-item {display: flex;flex-direction: column;z-index: 1;position: relative;background-color: white;}#sk-container-id-1 div.sk-parallel-item:first-child::after {align-self: flex-end;width: 50%;}#sk-container-id-1 div.sk-parallel-item:last-child::after {align-self: flex-start;width: 50%;}#sk-container-id-1 div.sk-parallel-item:only-child::after {width: 0;}#sk-container-id-1 div.sk-dashed-wrapped {border: 1px dashed gray;margin: 0 0.4em 0.5em 0.4em;box-sizing: border-box;padding-bottom: 0.4em;background-color: white;}#sk-container-id-1 div.sk-label label {font-family: monospace;font-weight: bold;display: inline-block;line-height: 1.2em;}#sk-container-id-1 div.sk-label-container {text-align: center;}#sk-container-id-1 div.sk-container {/* jupyter's `normalize.less` sets `[hidden] { display: none; }` but bootstrap.min.css set `[hidden] { display: none !important; }` so we also need the `!important` here to be able to override the default hidden behavior on the sphinx rendered scikit-learn.org. See: https://github.com/scikit-learn/scikit-learn/issues/21755 */display: inline-block !important;position: relative;}#sk-container-id-1 div.sk-text-repr-fallback {display: none;}</style><div id=\"sk-container-id-1\" class=\"sk-top-container\"><div class=\"sk-text-repr-fallback\"><pre>NonLocalSortedSpikesDetector(continuous_initial_conditions_types=[UniformInitialConditions(),\n",
       "                                                                  UniformInitialConditions(),\n",
       "                                                                  UniformInitialConditions(),\n",
       "                                                                  UniformInitialConditions()],\n",
       "                             continuous_transition_types=[[&lt;non_local_detector.continuous_state_transitions.Discrete object at 0x164a5bf90&gt;,\n",
       "                                                           &lt;non_local_detector.continuous_state_transitions.Discrete object at 0x...\n",
       "                                                                  encoding_group=0,\n",
       "                                                                  is_local=False,\n",
       "                                                                  is_no_spike=False),\n",
       "                                                 ObservationModel(environment_name=&#x27;&#x27;,\n",
       "                                                                  encoding_group=0,\n",
       "                                                                  is_local=False,\n",
       "                                                                  is_no_spike=False)],\n",
       "                             sampling_frequency=500.0,\n",
       "                             sorted_spikes_algorithm=&#x27;sorted_spikes_kde&#x27;,\n",
       "                             sorted_spikes_algorithm_params={&#x27;block_size&#x27;: 10000,\n",
       "                                                             &#x27;position_std&#x27;: 6.0},\n",
       "                             state_names=[&#x27;Local&#x27;, &#x27;No-Spike&#x27;,\n",
       "                                          &#x27;Non-Local Continuous&#x27;,\n",
       "                                          &#x27;Non-Local Fragmented&#x27;])</pre><b>In a Jupyter environment, please rerun this cell to show the HTML representation or trust the notebook. <br />On GitHub, the HTML representation is unable to render, please try loading this page with nbviewer.org.</b></div><div class=\"sk-container\" hidden><div class=\"sk-item\"><div class=\"sk-estimator sk-toggleable\"><input class=\"sk-toggleable__control sk-hidden--visually\" id=\"sk-estimator-id-1\" type=\"checkbox\" checked><label for=\"sk-estimator-id-1\" class=\"sk-toggleable__label sk-toggleable__label-arrow\">NonLocalSortedSpikesDetector</label><div class=\"sk-toggleable__content\"><pre>NonLocalSortedSpikesDetector(continuous_initial_conditions_types=[UniformInitialConditions(),\n",
       "                                                                  UniformInitialConditions(),\n",
       "                                                                  UniformInitialConditions(),\n",
       "                                                                  UniformInitialConditions()],\n",
       "                             continuous_transition_types=[[&lt;non_local_detector.continuous_state_transitions.Discrete object at 0x164a5bf90&gt;,\n",
       "                                                           &lt;non_local_detector.continuous_state_transitions.Discrete object at 0x...\n",
       "                                                                  encoding_group=0,\n",
       "                                                                  is_local=False,\n",
       "                                                                  is_no_spike=False),\n",
       "                                                 ObservationModel(environment_name=&#x27;&#x27;,\n",
       "                                                                  encoding_group=0,\n",
       "                                                                  is_local=False,\n",
       "                                                                  is_no_spike=False)],\n",
       "                             sampling_frequency=500.0,\n",
       "                             sorted_spikes_algorithm=&#x27;sorted_spikes_kde&#x27;,\n",
       "                             sorted_spikes_algorithm_params={&#x27;block_size&#x27;: 10000,\n",
       "                                                             &#x27;position_std&#x27;: 6.0},\n",
       "                             state_names=[&#x27;Local&#x27;, &#x27;No-Spike&#x27;,\n",
       "                                          &#x27;Non-Local Continuous&#x27;,\n",
       "                                          &#x27;Non-Local Fragmented&#x27;])</pre></div></div></div></div></div>"
      ],
      "text/plain": [
       "NonLocalSortedSpikesDetector(continuous_initial_conditions_types=[UniformInitialConditions(),\n",
       "                                                                  UniformInitialConditions(),\n",
       "                                                                  UniformInitialConditions(),\n",
       "                                                                  UniformInitialConditions()],\n",
       "                             continuous_transition_types=[[<non_local_detector.continuous_state_transitions.Discrete object at 0x164a5bf90>,\n",
       "                                                           <non_local_detector.continuous_state_transitions.Discrete object at 0x...\n",
       "                                                                  encoding_group=0,\n",
       "                                                                  is_local=False,\n",
       "                                                                  is_no_spike=False),\n",
       "                                                 ObservationModel(environment_name='',\n",
       "                                                                  encoding_group=0,\n",
       "                                                                  is_local=False,\n",
       "                                                                  is_no_spike=False)],\n",
       "                             sampling_frequency=500.0,\n",
       "                             sorted_spikes_algorithm='sorted_spikes_kde',\n",
       "                             sorted_spikes_algorithm_params={'block_size': 10000,\n",
       "                                                             'position_std': 6.0},\n",
       "                             state_names=['Local', 'No-Spike',\n",
       "                                          'Non-Local Continuous',\n",
       "                                          'Non-Local Fragmented'])"
      ]
     },
     "execution_count": 2,
     "metadata": {},
     "output_type": "execute_result"
    }
   ],
   "source": [
    "from non_local_detector import NonLocalSortedSpikesDetector\n",
    "import numpy as np\n",
    "\n",
    "detector = NonLocalSortedSpikesDetector()\n",
    "\n",
    "position = position[:, np.newaxis] if position.ndim == 1 else position\n",
    "detector.fit(time, position, spike_times, is_training=~is_event)"
   ]
  },
  {
   "cell_type": "markdown",
   "metadata": {},
   "source": [
    "## Linear regression"
   ]
  },
  {
   "cell_type": "code",
   "execution_count": 3,
   "metadata": {},
   "outputs": [
    {
     "name": "stdout",
     "output_type": "stream",
     "text": [
      "step 0, loss: 9.985331535339355\n",
      "step 100, loss: 1.0518211126327515\n",
      "step 200, loss: 0.9960808157920837\n",
      "step 300, loss: 0.9960803389549255\n",
      "step 400, loss: 0.996080219745636\n"
     ]
    },
    {
     "data": {
      "text/plain": [
       "<matplotlib.legend.Legend at 0x1659ad710>"
      ]
     },
     "execution_count": 3,
     "metadata": {},
     "output_type": "execute_result"
    },
    {
     "data": {
      "image/png": "[encoded data removed]",
      "text/plain": [
       "<Figure size 640x480 with 1 Axes>"
      ]
     },
     "metadata": {},
     "output_type": "display_data"
    }
   ],
   "source": [
    "import jax\n",
    "import jax.numpy as jnp\n",
    "import optax\n",
    "import numpy as np\n",
    "from typing import Tuple\n",
    "from collections.abc import Callable\n",
    "import matplotlib.pyplot as plt\n",
    "\n",
    "\n",
    "def fit(\n",
    "    params: optax.Params,\n",
    "    optimizer: optax.GradientTransformation,\n",
    "    loss: Callable,\n",
    "    design_matrix: jnp.ndarray,\n",
    "    response: jnp.ndarray,\n",
    "    n_iters: int = 50,\n",
    ") -> optax.Params:\n",
    "\n",
    "    # @jax.jit\n",
    "    def step(\n",
    "        params: optax.Params, opt_state: optax.OptState\n",
    "    ) -> Tuple[optax.Params, optax.OptState, float]:\n",
    "        loss_value, grads = jax.value_and_grad(loss)(params, design_matrix, response)\n",
    "        updates, opt_state = optimizer.update(grads, opt_state, params)\n",
    "        params = optax.apply_updates(params, updates)\n",
    "        return params, opt_state, loss_value\n",
    "\n",
    "    opt_state = optimizer.init(params)\n",
    "    for i in range(n_iters):\n",
    "        params, opt_state, loss_value = step(params, opt_state)\n",
    "        if i % 100 == 0:\n",
    "            print(f\"step {i}, loss: {loss_value}\")\n",
    "\n",
    "    return params\n",
    "\n",
    "\n",
    "def loss(\n",
    "    params: optax.Params, design_matrix: jnp.ndarray, response: jnp.ndarray\n",
    ") -> float:\n",
    "    predictions = design_matrix @ params\n",
    "    return jnp.mean(\n",
    "        optax.losses.squared_error(predictions=predictions, targets=response)\n",
    "    )\n",
    "\n",
    "\n",
    "x = np.linspace(0, 1, 10_000)\n",
    "response = -5 + 10 * x + np.random.randn(len(x))\n",
    "design_matrix = np.c_[np.ones_like(x), x]\n",
    "params = np.random.randn(2)\n",
    "\n",
    "plt.scatter(x, response)\n",
    "plt.plot(x, design_matrix @ params, color=\"red\", linestyle=\"--\", label=\"initial guess\")\n",
    "\n",
    "optimizer = optax.adam(learning_rate=1e-1)\n",
    "params = fit(params, optimizer, loss, design_matrix, response, n_iters=500)\n",
    "plt.plot(x, design_matrix @ params, color=\"orange\", label=\"fitted\")\n",
    "plt.legend()"
   ]
  },
  {
   "cell_type": "markdown",
   "metadata": {},
   "source": [
    "## Poisson Regression"
   ]
  },
  {
   "cell_type": "code",
   "execution_count": 4,
   "metadata": {},
   "outputs": [
    {
     "name": "stdout",
     "output_type": "stream",
     "text": [
      "step 0, loss: 1.020920991897583\n",
      "step 100, loss: 0.0024438672699034214\n"
     ]
    },
    {
     "data": {
      "text/plain": [
       "[<matplotlib.collections.EventCollection at 0x16657b410>]"
      ]
     },
     "execution_count": 4,
     "metadata": {},
     "output_type": "execute_result"
    },
    {
     "data": {
      "image/png": "[encoded data removed]",
      "text/plain": [
       "<Figure size 640x480 with 1 Axes>"
      ]
     },
     "metadata": {},
     "output_type": "display_data"
    }
   ],
   "source": [
    "from non_local_detector.likelihoods.common import get_spikecount_per_time_bin\n",
    "import patsy\n",
    "\n",
    "EPS = 1e-6\n",
    "\n",
    "\n",
    "def loss(\n",
    "    params: optax.Params, design_matrix: jnp.ndarray, response: jnp.ndarray\n",
    ") -> float:\n",
    "    conditional_intensity = jnp.exp(design_matrix @ params)\n",
    "    return -1.0 * jnp.mean(\n",
    "        jax.scipy.stats.poisson.logpmf(response, conditional_intensity + EPS)\n",
    "    )\n",
    "\n",
    "\n",
    "cell_ind = 12\n",
    "optimizer = optax.adam(learning_rate=1)\n",
    "response = get_spikecount_per_time_bin(spike_times[cell_ind], time)\n",
    "design_matrix = patsy.dmatrix(\n",
    "    \"bs(position, df=35, include_intercept=True) - 1\", data={\"position\": position}\n",
    ")\n",
    "params = np.random.randn(design_matrix.shape[1])\n",
    "\n",
    "params = fit(params, optimizer, loss, design_matrix, response, n_iters=200)\n",
    "\n",
    "plt.plot(\n",
    "    position,\n",
    "    jnp.exp(design_matrix @ params) * sampling_frequency,\n",
    "    color=\"orange\",\n",
    "    label=\"fitted\",\n",
    ")\n",
    "plt.eventplot([position[response.astype(bool)].squeeze()], color=\"black\", alpha=0.5)"
   ]
  },
  {
   "cell_type": "code",
   "execution_count": 5,
   "metadata": {},
   "outputs": [],
   "source": [
    "import jax.random as jr\n",
    "\n",
    "\n",
    "def loss_for_single_neuron(params, design_matrix, response):\n",
    "    conditional_intensity = jnp.exp(design_matrix @ params)\n",
    "    return -1.0 * jnp.mean(\n",
    "        jax.scipy.stats.poisson.logpmf(response, conditional_intensity + EPS)\n",
    "    )\n",
    "\n",
    "\n",
    "def step(\n",
    "    params: optax.Params,\n",
    "    opt_state: optax.OptState,\n",
    "    optimizer: optax.GradientTransformation,\n",
    "    design_matrix: jnp.ndarray,\n",
    "    response: jnp.ndarray,\n",
    ") -> Tuple[optax.Params, optax.OptState, float]:\n",
    "    loss_value, grads = jax.value_and_grad(loss_for_single_neuron)(\n",
    "        params, design_matrix, response\n",
    "    )\n",
    "    updates, opt_state = optimizer.update(grads, opt_state, params)\n",
    "    params = optax.apply_updates(params, updates)\n",
    "    return params, opt_state, loss_value\n",
    "\n",
    "seed = 0\n",
    "rng = jr.PRNGKey(seed)\n",
    "n_neurons = len(spike_times)\n",
    "n_coef = design_matrix.shape[1]\n",
    "params = jr.normal(rng, (n_coef, n_neurons))\n",
    "\n",
    "optimizer = optax.adam(learning_rate=1)\n",
    "\n",
    "n_iters = 2\n",
    "\n",
    "responses = jnp.stack([\n",
    "    get_spikecount_per_time_bin(neuron_spike_times, time) for neuron_spike_times in spike_times\n",
    "], axis=1)\n",
    "\n",
    "opt_states = jax.vmap(optimizer.init, in_axes=1)(params)\n",
    "\n",
    "# for i in range(n_iters):\n",
    "#     loss_value, grads = jax.vmap(jax.value_and_grad)(loss_for_single_neuron)(\n",
    "#         params, design_matrix, response\n",
    "#     )\n",
    "#     updates, opt_state = optimizer.update(grads, opt_state, params)\n",
    "#     params = optax.apply_updates(params, updates)"
   ]
  },
  {
   "cell_type": "code",
   "execution_count": 6,
   "metadata": {},
   "outputs": [],
   "source": [
    "single_neuron_value_grad = jax.value_and_grad(loss_for_single_neuron)\n",
    "value_and_grad = jax.vmap(single_neuron_value_grad, in_axes=(1, None, 1))"
   ]
  },
  {
   "cell_type": "code",
   "execution_count": null,
   "metadata": {},
   "outputs": [],
   "source": [
    "value_and_grad(params[:, :2], design_matrix, responses[:, :2])"
   ]
  },
  {
   "cell_type": "code",
   "execution_count": null,
   "metadata": {},
   "outputs": [],
   "source": [
    "opt_states[0].mu.shape"
   ]
  },
  {
   "cell_type": "code",
   "execution_count": null,
   "metadata": {},
   "outputs": [],
   "source": [
    "# import optax.tree_utils\n",
    "\n",
    "# def run_lbfgs(init_params, fun, opt, max_iter=100, tol=1e-3):\n",
    "#     value_and_grad_fun = optax.value_and_grad_from_state(fun)\n",
    "\n",
    "#     def step(carry):\n",
    "#         params, state = carry\n",
    "#         value, grad = value_and_grad_fun(params, state=state)\n",
    "#         updates, state = opt.update(\n",
    "#             grad, state, params, value=value, grad=grad, value_fn=fun\n",
    "#         )\n",
    "#         params = optax.apply_updates(params, updates)\n",
    "#         return params, state\n",
    "\n",
    "#     def continuing_criterion(carry):\n",
    "#         _, state = carry\n",
    "#         iter_num = optax.tree_utils.tree_get(state, \"count\")\n",
    "#         grad = optax.tree_utils.tree_get(state, \"grad\")\n",
    "#         err = optax.tree_utils.tree_l2_norm(grad)\n",
    "#         return (iter_num == 0) | ((iter_num < max_iter) & (err >= tol))\n",
    "\n",
    "#     init_carry = (init_params, opt.init(init_params))\n",
    "#     final_params, final_state = jax.lax.while_loop(\n",
    "#         continuing_criterion, step, init_carry\n",
    "#     )\n",
    "#     return final_params, final_state\n",
    "\n",
    "# cell_ind = 12\n",
    "# optimizer = optax.lbfgs()\n",
    "# response = get_spikecount_per_time_bin(spike_times[cell_ind], time)\n",
    "# design_matrix = patsy.dmatrix(\n",
    "#     \"bs(position, df=35, include_intercept=True) - 1\", data={\"position\": position}\n",
    "# )\n",
    "# params = np.random.randn(design_matrix.shape[1])\n",
    "# final_params, final_state = run_lbfgs(params, loss, optimizer)\n",
    "\n",
    "# plt.plot(\n",
    "#     position,\n",
    "#     jnp.exp(design_matrix @ final_params) * sampling_frequency,\n",
    "#     color=\"orange\",\n",
    "#     label=\"fitted\",\n",
    "# )\n",
    "# plt.eventplot([position[response.astype(bool)].squeeze()], color=\"black\", alpha=0.5)"
   ]
  },
  {
   "cell_type": "markdown",
   "metadata": {},
   "source": [
    "## KDE Regression"
   ]
  },
  {
   "cell_type": "code",
   "execution_count": null,
   "metadata": {},
   "outputs": [],
   "source": [
    "from non_local_detector.likelihoods.common import KDEModel, kde\n",
    "\n",
    "\n",
    "def fit(\n",
    "    params: optax.Params,\n",
    "    optimizer: optax.GradientTransformation,\n",
    "    loss: Callable,\n",
    "    response: jnp.ndarray,\n",
    "    n_iters: int = 50,\n",
    ") -> optax.Params:\n",
    "    opt_state = optimizer.init(params)\n",
    "\n",
    "    @jax.jit\n",
    "    def step(\n",
    "        params: optax.Params, opt_state: optax.OptState\n",
    "    ) -> Tuple[optax.Params, optax.OptState, float]:\n",
    "        loss_value, grads = jax.value_and_grad(loss)(params, response)\n",
    "        updates, opt_state = optimizer.update(grads, opt_state, params)\n",
    "        params = optax.apply_updates(params, updates)\n",
    "        return params, opt_state, loss_value\n",
    "\n",
    "    for i in range(n_iters):\n",
    "        params, opt_state, loss_value = step(params, opt_state)\n",
    "        print(f\"step {i}, loss: {loss_value}\")\n",
    "\n",
    "    return params\n",
    "\n",
    "\n",
    "position_bins = detector.environments[0].place_bin_centers_.squeeze()\n",
    "weights1 = jnp.ones_like(position).squeeze()\n",
    "weights2 = jnp.ones(jnp.sum(response))\n",
    "block_size = 10000\n",
    "\n",
    "\n",
    "def loss(params: optax.Params, response: jnp.ndarray) -> float:\n",
    "    std = params\n",
    "    occupancy = KDEModel(std=std, block_size=block_size).fit(position).predict(position_bins)\n",
    "    marginal = (\n",
    "        KDEModel(std=std, block_size=block_size)\n",
    "        .fit(position[response.astype(bool)])\n",
    "        .predict(position_bins)\n",
    "    )\n",
    "    conditional_intensity = response.mean() * jnp.where(\n",
    "        occupancy > 0, marginal / occupancy, 0.0\n",
    "    )\n",
    "    conditional_intensity = jnp.clip(conditional_intensity, a_min=EPS, a_max=None)\n",
    "    conditional_intensity = jnp.interp(\n",
    "        position,\n",
    "        position_bins,\n",
    "        conditional_intensity,\n",
    "    )\n",
    "\n",
    "    return -1.0 * jnp.mean(\n",
    "        jax.scipy.stats.poisson.logpmf(response, conditional_intensity)\n",
    "    )\n",
    "\n",
    "\n",
    "cell_ind = 12\n",
    "optimizer = optax.adam(learning_rate=1)\n",
    "response = get_spikecount_per_time_bin(spike_times[cell_ind], time)\n",
    "params = np.array([0.1])\n",
    "\n",
    "params = fit(params, optimizer, loss, response, n_iters=10)\n",
    "\n",
    "std = params\n",
    "occupancy = KDEModel(std=std).fit(position).predict(position_bins)\n",
    "marginal = KDEModel(std=std).fit(position[response.astype(bool)]).predict(position_bins)\n",
    "conditional_intensity = response.mean() * jnp.where(\n",
    "    occupancy > 0, marginal / occupancy, 0.0\n",
    ")\n",
    "conditional_intensity = jnp.clip(conditional_intensity, a_min=EPS, a_max=None)\n",
    "\n",
    "plt.plot(\n",
    "    position_bins,\n",
    "    conditional_intensity * sampling_frequency,\n",
    "    color=\"orange\",\n",
    "    label=\"fitted\",\n",
    ")\n",
    "plt.eventplot([position[response.astype(bool)].squeeze()], color=\"black\", alpha=0.5)"
   ]
  },
  {
   "cell_type": "code",
   "execution_count": null,
   "metadata": {},
   "outputs": [],
   "source": [
    "from jax import make_jaxpr\n",
    "\n",
    "n_iters = 10\n",
    "\n",
    "@jax.jit\n",
    "def step(\n",
    "    params: optax.Params, opt_state: optax.OptState\n",
    ") -> Tuple[optax.Params, optax.OptState, float]:\n",
    "    loss_value, grads = jax.value_and_grad(loss)(params, response)\n",
    "    updates, opt_state = optimizer.update(grads, opt_state, params)\n",
    "    params = optax.apply_updates(params, updates)\n",
    "    return params, opt_state, loss_value\n",
    "\n",
    "make_jaxpr(step)(params, optimizer.init(params))"
   ]
  },
  {
   "cell_type": "code",
   "execution_count": null,
   "metadata": {},
   "outputs": [],
   "source": []
  }
 ],
 "metadata": {
  "kernelspec": {
   "display_name": "non_local_detector",
   "language": "python",
   "name": "python3"
  },
  "language_info": {
   "codemirror_mode": {
    "name": "ipython",
    "version": 3
   },
   "file_extension": ".py",
   "mimetype": "text/x-python",
   "name": "python",
   "nbconvert_exporter": "python",
   "pygments_lexer": "ipython3",
   "version": "3.11.4"
  }
 },
 "nbformat": 4,
 "nbformat_minor": 2
}
