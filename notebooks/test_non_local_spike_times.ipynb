{
 "cells": [
  {
   "cell_type": "code",
   "execution_count": null,
   "metadata": {},
   "outputs": [],
   "source": [
    "import joblib\n",
    "import pandas as pd\n",
    "import numpy as np\n",
    "import logging\n",
    "\n",
    "FORMAT = \"%(asctime)s %(message)s\"\n",
    "logging.basicConfig(level=\"INFO\", format=FORMAT, datefmt=\"%d-%b-%y %H:%M:%S\")\n",
    "\n",
    "\n",
    "def load_data():\n",
    "    try:\n",
    "        path = \"/Users/edeno/Downloads/\"\n",
    "        position_info = pd.read_pickle(path + \"Jaq_03_16_position_info.pkl\")\n",
    "        spikes = pd.read_pickle(path + \"Jaq_03_16_spikes.pkl\")\n",
    "        is_ripple = pd.read_pickle(path + \"Jaq_03_16_is_ripple.pkl\")\n",
    "        env = joblib.load(path + \"Jaq_03_16_environment.pkl\")\n",
    "\n",
    "        time = np.asarray(position_info.index / np.timedelta64(1, \"s\"))\n",
    "        spikes = np.asarray(spikes).astype(float)\n",
    "        spikes = (spikes > 0).astype(int)\n",
    "        spike_times = [time[spike.astype(bool)] for spike in spikes.T]\n",
    "        position = np.asarray(position_info.linear_position).astype(float)\n",
    "        position2D = np.asarray(position_info[[\"nose_x\", \"nose_y\"]]).astype(float)\n",
    "        is_ripple = np.asarray(is_ripple).squeeze()\n",
    "        speed = np.asarray(position_info.nose_vel).astype(float)\n",
    "    except FileNotFoundError:\n",
    "        path = \"/cumulus/edeno/non_local_paper/notebooks/\"\n",
    "        position_info = pd.read_pickle(path + \"Jaq_03_16_position_info.pkl\")\n",
    "        spikes = pd.read_pickle(path + \"Jaq_03_16_spikes.pkl\")\n",
    "        spikes = (spikes > 0).astype(int)\n",
    "        spike_times = [time[spike.astype(bool)] for spike in spikes.T]\n",
    "        is_ripple = pd.read_pickle(path + \"Jaq_03_16_is_ripple.pkl\")\n",
    "        env = joblib.load(path + \"Jaq_03_16_environment.pkl\")\n",
    "\n",
    "        time = np.asarray(position_info.index / np.timedelta64(1, \"s\"))\n",
    "        spikes = np.asarray(spikes).astype(float)\n",
    "        position = np.asarray(position_info.linear_position).astype(float)\n",
    "        position2D = np.asarray(position_info[[\"nose_x\", \"nose_y\"]]).astype(float)\n",
    "        is_ripple = np.asarray(is_ripple).squeeze()\n",
    "        speed = np.asarray(position_info.nose_vel).astype(float)\n",
    "\n",
    "    return is_ripple, spikes, position, speed, env, time, position2D"
   ]
  },
  {
   "cell_type": "code",
   "execution_count": null,
   "metadata": {},
   "outputs": [],
   "source": [
    "is_ripple, spikes, position, speed, env, time, position2D = load_data()\n",
    "spikes = (spikes > 0).astype(int)\n",
    "spike_times = [time[spike.astype(bool)] for spike in spikes.T]\n",
    "\n",
    "\n",
    "sampling_frequency = 500\n",
    "time_range = (time[0], time[-1] + (1 / sampling_frequency))\n",
    "\n",
    "n_time_bins = int((time_range[-1] - time_range[0]) * sampling_frequency) + 1\n",
    "t = time_range[0] + np.arange(n_time_bins) / sampling_frequency\n",
    "\n",
    "np.allclose(t, time)"
   ]
  },
  {
   "cell_type": "code",
   "execution_count": null,
   "metadata": {},
   "outputs": [],
   "source": [
    "from non_local_detector import NonLocalSortedSpikesDetector\n",
    "\n",
    "detector = NonLocalSortedSpikesDetector(\n",
    "    environments=env,\n",
    "    sorted_spikes_algorithm=\"sorted_spikes_kde\",\n",
    "    sorted_spikes_algorithm_params={\n",
    "        \"position_std\": np.sqrt(12.5),\n",
    "        \"block_size\": int(2**12),\n",
    "    },\n",
    ").fit(time, position2D, spike_times, is_training=~is_ripple)"
   ]
  },
  {
   "cell_type": "code",
   "execution_count": null,
   "metadata": {},
   "outputs": [],
   "source": [
    "detector.plot_discrete_state_transition()"
   ]
  },
  {
   "cell_type": "code",
   "execution_count": null,
   "metadata": {},
   "outputs": [],
   "source": [
    "results = detector.predict(spike_times, time, position2D, time)\n",
    "results"
   ]
  },
  {
   "cell_type": "code",
   "execution_count": null,
   "metadata": {},
   "outputs": [],
   "source": [
    "from non_local_detector.visualization import plot_non_local_model\n",
    "\n",
    "plot_non_local_model(\n",
    "    time,\n",
    "    position,\n",
    "    spike_times,\n",
    "    speed,\n",
    "    detector,\n",
    "    results,\n",
    "    time_slice=slice(time[90_000], time[100_000]),\n",
    "    figsize=(20, 10),\n",
    ")"
   ]
  },
  {
   "cell_type": "code",
   "execution_count": null,
   "metadata": {},
   "outputs": [],
   "source": [
    "from non_local_detector import NonLocalSortedSpikesDetector\n",
    "\n",
    "\n",
    "detector = NonLocalSortedSpikesDetector(\n",
    "    environments=env,\n",
    "    sorted_spikes_algorithm=\"sorted_spikes_kde\",\n",
    "    sorted_spikes_algorithm_params={\n",
    "        \"position_std\": np.sqrt(12.5),\n",
    "        \"block_size\": int(2**12),\n",
    "    },\n",
    ")\n",
    "detector.estimate_parameters(\n",
    "    time=time[:100],\n",
    "    position_time=time[:100],\n",
    "    position=position2D[:100],\n",
    "    spike_times=spike_times,\n",
    "    is_training=~is_ripple[:100],\n",
    ")"
   ]
  },
  {
   "cell_type": "code",
   "execution_count": null,
   "metadata": {},
   "outputs": [],
   "source": [
    "%debug"
   ]
  },
  {
   "cell_type": "code",
   "execution_count": null,
   "metadata": {},
   "outputs": [],
   "source": []
  }
 ],
 "metadata": {
  "kernelspec": {
   "display_name": "non_local_detector2",
   "language": "python",
   "name": "python3"
  },
  "language_info": {
   "codemirror_mode": {
    "name": "ipython",
    "version": 3
   },
   "file_extension": ".py",
   "mimetype": "text/x-python",
   "name": "python",
   "nbconvert_exporter": "python",
   "pygments_lexer": "ipython3",
   "version": "3.12.7"
  },
  "orig_nbformat": 4
 },
 "nbformat": 4,
 "nbformat_minor": 2
}
