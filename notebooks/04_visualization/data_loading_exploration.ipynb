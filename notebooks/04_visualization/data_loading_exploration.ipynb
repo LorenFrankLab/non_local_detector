{
 "cells": [
  {
   "cell_type": "code",
   "execution_count": null,
   "metadata": {},
   "outputs": [],
   "source": [
    "import logging\n",
    "import pathlib\n",
    "import pickle\n",
    "\n",
    "import numpy as np\n",
    "import pandas as pd\n",
    "\n",
    "FORMAT = \"%(asctime)s %(message)s\"\n",
    "logging.basicConfig(level=\"INFO\", format=FORMAT, datefmt=\"%d-%b-%y %H:%M:%S\")\n",
    "\n",
    "\n",
    "def load_data(folder_path):\n",
    "    folder_path = pathlib.Path(folder_path)\n",
    "    position_info = pd.read_pickle(folder_path / \"Jaq_03_16_position_info.pkl\")\n",
    "\n",
    "    with open(folder_path / \"Jaq_03_16_sorted_spike_times.pkl\", \"rb\") as f:\n",
    "        sorted_spike_times = pickle.load(f)\n",
    "\n",
    "    with open(folder_path / \"Jaq_03_16_clusterless_spike_times.pkl\", \"rb\") as f:\n",
    "        clusterless_spike_times = pickle.load(f)\n",
    "    with open(\n",
    "        folder_path / \"Jaq_03_16_clusterless_spike_waveform_features.pkl\", \"rb\"\n",
    "    ) as f:\n",
    "        clusterless_spike_waveform_features = pickle.load(f)\n",
    "\n",
    "    position_time = np.asarray(position_info.index).astype(float)\n",
    "    position1D = np.asarray(position_info.linear_position).astype(float)\n",
    "    position2D = np.asarray(position_info[[\"nose_x\", \"nose_y\"]]).astype(float)\n",
    "\n",
    "    return (\n",
    "        position_time,\n",
    "        position1D,\n",
    "        position2D,\n",
    "        sorted_spike_times,\n",
    "        clusterless_spike_times,\n",
    "        clusterless_spike_waveform_features,\n",
    "    )\n",
    "\n",
    "\n",
    "(\n",
    "    position_time,\n",
    "    position1D,\n",
    "    position2D,\n",
    "    sorted_spike_times,\n",
    "    clusterless_spike_times,\n",
    "    clusterless_spike_waveform_features,\n",
    ") = load_data(\"/Users/edeno/Downloads/Jaq_03_16_data\")"
   ]
  },
  {
   "cell_type": "code",
   "execution_count": null,
   "metadata": {},
   "outputs": [],
   "source": [
    "import joblib\n",
    "\n",
    "path = \"/Users/edeno/Downloads/\"\n",
    "\n",
    "env = joblib.load(path + \"Jaq_03_16_environment.pkl\")"
   ]
  },
  {
   "cell_type": "code",
   "execution_count": null,
   "metadata": {},
   "outputs": [],
   "source": [
    "from non_local_detector import NonLocalClusterlessDetector\n",
    "\n",
    "detector = NonLocalClusterlessDetector(environments=[env])\n",
    "detector"
   ]
  },
  {
   "cell_type": "code",
   "execution_count": null,
   "metadata": {},
   "outputs": [],
   "source": [
    "detector.fit(\n",
    "    position_time=position_time,\n",
    "    position=position2D,\n",
    "    spike_times=clusterless_spike_times,\n",
    "    spike_waveform_features=clusterless_spike_waveform_features,\n",
    ")"
   ]
  },
  {
   "cell_type": "code",
   "execution_count": null,
   "metadata": {},
   "outputs": [],
   "source": [
    "detector.plot_discrete_state_transition()"
   ]
  },
  {
   "cell_type": "code",
   "execution_count": null,
   "metadata": {},
   "outputs": [],
   "source": [
    "results = detector.predict(\n",
    "    spike_times=clusterless_spike_times,\n",
    "    spike_waveform_features=clusterless_spike_waveform_features,\n",
    "    time=position_time[slice(90_000, 100_000)],\n",
    "    position=position2D[slice(90_000, 100_000)],\n",
    "    position_time=position_time[slice(90_000, 100_000)],\n",
    ")\n",
    "results"
   ]
  },
  {
   "cell_type": "code",
   "execution_count": null,
   "metadata": {},
   "outputs": [],
   "source": []
  }
 ],
 "metadata": {
  "kernelspec": {
   "display_name": "non_local_detector",
   "language": "python",
   "name": "python3"
  },
  "language_info": {
   "codemirror_mode": {
    "name": "ipython",
    "version": 3
   },
   "file_extension": ".py",
   "mimetype": "text/x-python",
   "name": "python",
   "nbconvert_exporter": "python",
   "pygments_lexer": "ipython3",
   "version": "3.11.4"
  }
 },
 "nbformat": 4,
 "nbformat_minor": 2
}
