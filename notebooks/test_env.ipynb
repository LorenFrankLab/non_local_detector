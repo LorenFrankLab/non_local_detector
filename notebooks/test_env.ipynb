{
 "cells": [
  {
   "cell_type": "code",
   "execution_count": 1,
   "id": "97644a41",
   "metadata": {},
   "outputs": [
    {
     "name": "stderr",
     "output_type": "stream",
     "text": [
      "/Users/edeno/Documents/GitHub/non_local_detector/src/non_local_detector/likelihoods/clusterless_kde.py:54: TqdmExperimentalWarning: Using `tqdm.autonotebook.tqdm` in notebook mode. Use `tqdm.tqdm` instead to force console mode (e.g. in jupyter console)\n",
      "  from tqdm.autonotebook import tqdm\n"
     ]
    },
    {
     "ename": "ModuleNotFoundError",
     "evalue": "No module named 'non_local_detector.environment.environment'",
     "output_type": "error",
     "traceback": [
      "\u001b[0;31m---------------------------------------------------------------------------\u001b[0m",
      "\u001b[0;31mModuleNotFoundError\u001b[0m                       Traceback (most recent call last)",
      "Cell \u001b[0;32mIn[1], line 2\u001b[0m\n\u001b[1;32m      1\u001b[0m \u001b[38;5;28;01mfrom\u001b[39;00m \u001b[38;5;21;01mscipy\u001b[39;00m\u001b[38;5;21;01m.\u001b[39;00m\u001b[38;5;21;01mstats\u001b[39;00m \u001b[38;5;28;01mimport\u001b[39;00m multivariate_normal\n\u001b[0;32m----> 2\u001b[0m \u001b[38;5;28;01mfrom\u001b[39;00m \u001b[38;5;21;01mnon_local_detector\u001b[39;00m \u001b[38;5;28;01mimport\u001b[39;00m Environment\n\u001b[1;32m      3\u001b[0m \u001b[38;5;28;01mimport\u001b[39;00m \u001b[38;5;21;01mnumpy\u001b[39;00m \u001b[38;5;28;01mas\u001b[39;00m \u001b[38;5;21;01mnp\u001b[39;00m\n\u001b[1;32m      5\u001b[0m \u001b[38;5;28;01mimport\u001b[39;00m \u001b[38;5;21;01mmatplotlib\u001b[39;00m\u001b[38;5;21;01m.\u001b[39;00m\u001b[38;5;21;01mpyplot\u001b[39;00m \u001b[38;5;28;01mas\u001b[39;00m \u001b[38;5;21;01mplt\u001b[39;00m\n",
      "File \u001b[0;32m~/Documents/GitHub/non_local_detector/src/non_local_detector/__init__.py:18\u001b[0m\n\u001b[1;32m     16\u001b[0m \u001b[38;5;28;01mfrom\u001b[39;00m \u001b[38;5;21;01mnon_local_detector\u001b[39;00m\u001b[38;5;21;01m.\u001b[39;00m\u001b[38;5;21;01menvironment\u001b[39;00m\u001b[38;5;21;01m.\u001b[39;00m\u001b[38;5;21;01menvironment_with_engine\u001b[39;00m \u001b[38;5;28;01mimport\u001b[39;00m Environment  \u001b[38;5;66;03m# noqa\u001b[39;00m\n\u001b[1;32m     17\u001b[0m \u001b[38;5;28;01mfrom\u001b[39;00m \u001b[38;5;21;01mnon_local_detector\u001b[39;00m\u001b[38;5;21;01m.\u001b[39;00m\u001b[38;5;21;01minitial_conditions\u001b[39;00m \u001b[38;5;28;01mimport\u001b[39;00m UniformInitialConditions  \u001b[38;5;66;03m# noqa\u001b[39;00m\n\u001b[0;32m---> 18\u001b[0m \u001b[38;5;28;01mfrom\u001b[39;00m \u001b[38;5;21;01mnon_local_detector\u001b[39;00m\u001b[38;5;21;01m.\u001b[39;00m\u001b[38;5;21;01mmodels\u001b[39;00m \u001b[38;5;28;01mimport\u001b[39;00m (  \u001b[38;5;66;03m# noqa\u001b[39;00m\n\u001b[1;32m     19\u001b[0m     ClusterlessDecoder,\n\u001b[1;32m     20\u001b[0m     ContFragClusterlessClassifier,\n\u001b[1;32m     21\u001b[0m     ContFragSortedSpikesClassifier,\n\u001b[1;32m     22\u001b[0m     MultiEnvironmentClusterlessClassifier,\n\u001b[1;32m     23\u001b[0m     MultiEnvironmentSortedSpikesClassifier,\n\u001b[1;32m     24\u001b[0m     NonLocalClusterlessDetector,\n\u001b[1;32m     25\u001b[0m     NonLocalSortedSpikesDetector,\n\u001b[1;32m     26\u001b[0m     NoSpikeContFragClusterlessClassifier,\n\u001b[1;32m     27\u001b[0m     NoSpikeContFragSortedSpikesClassifier,\n\u001b[1;32m     28\u001b[0m     SortedSpikesDecoder,\n\u001b[1;32m     29\u001b[0m )\n\u001b[1;32m     31\u001b[0m \u001b[38;5;28;01mtry\u001b[39;00m:\n\u001b[1;32m     32\u001b[0m     \u001b[38;5;28;01mfrom\u001b[39;00m \u001b[38;5;21;01m.\u001b[39;00m\u001b[38;5;21;01m_version\u001b[39;00m \u001b[38;5;28;01mimport\u001b[39;00m __version__\n",
      "File \u001b[0;32m~/Documents/GitHub/non_local_detector/src/non_local_detector/models/__init__.py:1\u001b[0m\n\u001b[0;32m----> 1\u001b[0m \u001b[38;5;28;01mfrom\u001b[39;00m \u001b[38;5;21;01mnon_local_detector\u001b[39;00m\u001b[38;5;21;01m.\u001b[39;00m\u001b[38;5;21;01mmodels\u001b[39;00m\u001b[38;5;21;01m.\u001b[39;00m\u001b[38;5;21;01mcont_frag_model\u001b[39;00m \u001b[38;5;28;01mimport\u001b[39;00m (  \u001b[38;5;66;03m# noqa\u001b[39;00m\n\u001b[1;32m      2\u001b[0m     ContFragClusterlessClassifier,\n\u001b[1;32m      3\u001b[0m     ContFragSortedSpikesClassifier,\n\u001b[1;32m      4\u001b[0m )\n\u001b[1;32m      5\u001b[0m \u001b[38;5;28;01mfrom\u001b[39;00m \u001b[38;5;21;01mnon_local_detector\u001b[39;00m\u001b[38;5;21;01m.\u001b[39;00m\u001b[38;5;21;01mmodels\u001b[39;00m\u001b[38;5;21;01m.\u001b[39;00m\u001b[38;5;21;01mdecoder\u001b[39;00m \u001b[38;5;28;01mimport\u001b[39;00m ClusterlessDecoder  \u001b[38;5;66;03m# noqa\u001b[39;00m\n\u001b[1;32m      6\u001b[0m \u001b[38;5;28;01mfrom\u001b[39;00m \u001b[38;5;21;01mnon_local_detector\u001b[39;00m\u001b[38;5;21;01m.\u001b[39;00m\u001b[38;5;21;01mmodels\u001b[39;00m\u001b[38;5;21;01m.\u001b[39;00m\u001b[38;5;21;01mdecoder\u001b[39;00m \u001b[38;5;28;01mimport\u001b[39;00m SortedSpikesDecoder\n",
      "File \u001b[0;32m~/Documents/GitHub/non_local_detector/src/non_local_detector/models/cont_frag_model.py:8\u001b[0m\n\u001b[1;32m      6\u001b[0m \u001b[38;5;28;01mfrom\u001b[39;00m \u001b[38;5;21;01mnon_local_detector\u001b[39;00m\u001b[38;5;21;01m.\u001b[39;00m\u001b[38;5;21;01menvironment\u001b[39;00m\u001b[38;5;21;01m.\u001b[39;00m\u001b[38;5;21;01menvironment_with_engine\u001b[39;00m \u001b[38;5;28;01mimport\u001b[39;00m Environment\n\u001b[1;32m      7\u001b[0m \u001b[38;5;28;01mfrom\u001b[39;00m \u001b[38;5;21;01mnon_local_detector\u001b[39;00m\u001b[38;5;21;01m.\u001b[39;00m\u001b[38;5;21;01minitial_conditions\u001b[39;00m \u001b[38;5;28;01mimport\u001b[39;00m UniformInitialConditions\n\u001b[0;32m----> 8\u001b[0m \u001b[38;5;28;01mfrom\u001b[39;00m \u001b[38;5;21;01mnon_local_detector\u001b[39;00m\u001b[38;5;21;01m.\u001b[39;00m\u001b[38;5;21;01mmodels\u001b[39;00m\u001b[38;5;21;01m.\u001b[39;00m\u001b[38;5;21;01mbase\u001b[39;00m \u001b[38;5;28;01mimport\u001b[39;00m (\n\u001b[1;32m      9\u001b[0m     _DEFAULT_CLUSTERLESS_ALGORITHM_PARAMS,\n\u001b[1;32m     10\u001b[0m     _DEFAULT_SORTED_SPIKES_ALGORITHM_PARAMS,\n\u001b[1;32m     11\u001b[0m     ClusterlessDetector,\n\u001b[1;32m     12\u001b[0m     SortedSpikesDetector,\n\u001b[1;32m     13\u001b[0m )\n\u001b[1;32m     14\u001b[0m \u001b[38;5;28;01mfrom\u001b[39;00m \u001b[38;5;21;01mnon_local_detector\u001b[39;00m\u001b[38;5;21;01m.\u001b[39;00m\u001b[38;5;21;01mobservation_models\u001b[39;00m \u001b[38;5;28;01mimport\u001b[39;00m ObservationModel\n\u001b[1;32m     15\u001b[0m \u001b[38;5;28;01mfrom\u001b[39;00m \u001b[38;5;21;01mnon_local_detector\u001b[39;00m\u001b[38;5;21;01m.\u001b[39;00m\u001b[38;5;21;01mtypes\u001b[39;00m \u001b[38;5;28;01mimport\u001b[39;00m (\n\u001b[1;32m     16\u001b[0m     ContinuousInitialConditions,\n\u001b[1;32m     17\u001b[0m     ContinuousTransitions,\n\u001b[0;32m   (...)\u001b[0m\n\u001b[1;32m     22\u001b[0m     Stickiness,\n\u001b[1;32m     23\u001b[0m )\n",
      "File \u001b[0;32m~/Documents/GitHub/non_local_detector/src/non_local_detector/models/base.py:33\u001b[0m\n\u001b[1;32m     27\u001b[0m \u001b[38;5;28;01mfrom\u001b[39;00m \u001b[38;5;21;01mnon_local_detector\u001b[39;00m\u001b[38;5;21;01m.\u001b[39;00m\u001b[38;5;21;01mdiscrete_state_transitions\u001b[39;00m \u001b[38;5;28;01mimport\u001b[39;00m (\n\u001b[1;32m     28\u001b[0m     _estimate_discrete_transition,\n\u001b[1;32m     29\u001b[0m     centered_softmax_forward,\n\u001b[1;32m     30\u001b[0m     predict_discrete_state_transitions,\n\u001b[1;32m     31\u001b[0m )\n\u001b[1;32m     32\u001b[0m \u001b[38;5;28;01mfrom\u001b[39;00m \u001b[38;5;21;01mnon_local_detector\u001b[39;00m\u001b[38;5;21;01m.\u001b[39;00m\u001b[38;5;21;01menvironment\u001b[39;00m\u001b[38;5;21;01m.\u001b[39;00m\u001b[38;5;21;01mgeometry_utils\u001b[39;00m \u001b[38;5;28;01mimport\u001b[39;00m Environment\n\u001b[0;32m---> 33\u001b[0m \u001b[38;5;28;01mfrom\u001b[39;00m \u001b[38;5;21;01mnon_local_detector\u001b[39;00m\u001b[38;5;21;01m.\u001b[39;00m\u001b[38;5;21;01mlikelihoods\u001b[39;00m \u001b[38;5;28;01mimport\u001b[39;00m (\n\u001b[1;32m     34\u001b[0m     _CLUSTERLESS_ALGORITHMS,\n\u001b[1;32m     35\u001b[0m     _SORTED_SPIKES_ALGORITHMS,\n\u001b[1;32m     36\u001b[0m     predict_no_spike_log_likelihood,\n\u001b[1;32m     37\u001b[0m )\n\u001b[1;32m     38\u001b[0m \u001b[38;5;28;01mfrom\u001b[39;00m \u001b[38;5;21;01mnon_local_detector\u001b[39;00m\u001b[38;5;21;01m.\u001b[39;00m\u001b[38;5;21;01mobservation_models\u001b[39;00m \u001b[38;5;28;01mimport\u001b[39;00m ObservationModel\n\u001b[1;32m     39\u001b[0m \u001b[38;5;28;01mfrom\u001b[39;00m \u001b[38;5;21;01mnon_local_detector\u001b[39;00m\u001b[38;5;21;01m.\u001b[39;00m\u001b[38;5;21;01mtypes\u001b[39;00m \u001b[38;5;28;01mimport\u001b[39;00m (\n\u001b[1;32m     40\u001b[0m     ContinuousInitialConditions,\n\u001b[1;32m     41\u001b[0m     ContinuousTransitions,\n\u001b[0;32m   (...)\u001b[0m\n\u001b[1;32m     46\u001b[0m     Stickiness,\n\u001b[1;32m     47\u001b[0m )\n",
      "File \u001b[0;32m~/Documents/GitHub/non_local_detector/src/non_local_detector/likelihoods/__init__.py:8\u001b[0m\n\u001b[1;32m      1\u001b[0m \u001b[38;5;28;01mfrom\u001b[39;00m \u001b[38;5;21;01mnon_local_detector\u001b[39;00m\u001b[38;5;21;01m.\u001b[39;00m\u001b[38;5;21;01mlikelihoods\u001b[39;00m\u001b[38;5;21;01m.\u001b[39;00m\u001b[38;5;21;01mclusterless_kde\u001b[39;00m \u001b[38;5;28;01mimport\u001b[39;00m (\n\u001b[1;32m      2\u001b[0m     fit_clusterless_kde_encoding_model,\n\u001b[1;32m      3\u001b[0m     predict_clusterless_kde_log_likelihood,\n\u001b[1;32m      4\u001b[0m )\n\u001b[1;32m      5\u001b[0m \u001b[38;5;28;01mfrom\u001b[39;00m \u001b[38;5;21;01mnon_local_detector\u001b[39;00m\u001b[38;5;21;01m.\u001b[39;00m\u001b[38;5;21;01mlikelihoods\u001b[39;00m\u001b[38;5;21;01m.\u001b[39;00m\u001b[38;5;21;01mno_spike\u001b[39;00m \u001b[38;5;28;01mimport\u001b[39;00m (  \u001b[38;5;66;03m# noqa F401\u001b[39;00m\n\u001b[1;32m      6\u001b[0m     predict_no_spike_log_likelihood,\n\u001b[1;32m      7\u001b[0m )\n\u001b[0;32m----> 8\u001b[0m \u001b[38;5;28;01mfrom\u001b[39;00m \u001b[38;5;21;01mnon_local_detector\u001b[39;00m\u001b[38;5;21;01m.\u001b[39;00m\u001b[38;5;21;01mlikelihoods\u001b[39;00m\u001b[38;5;21;01m.\u001b[39;00m\u001b[38;5;21;01msorted_spikes_diffusion_kde\u001b[39;00m \u001b[38;5;28;01mimport\u001b[39;00m (\n\u001b[1;32m      9\u001b[0m     fit_sorted_spikes_diffusion_kde_encoding_model,\n\u001b[1;32m     10\u001b[0m     predict_sorted_spikes_diffusion_kde_log_likelihood,\n\u001b[1;32m     11\u001b[0m )\n\u001b[1;32m     12\u001b[0m \u001b[38;5;28;01mfrom\u001b[39;00m \u001b[38;5;21;01mnon_local_detector\u001b[39;00m\u001b[38;5;21;01m.\u001b[39;00m\u001b[38;5;21;01mlikelihoods\u001b[39;00m\u001b[38;5;21;01m.\u001b[39;00m\u001b[38;5;21;01msorted_spikes_glm\u001b[39;00m \u001b[38;5;28;01mimport\u001b[39;00m (\n\u001b[1;32m     13\u001b[0m     fit_sorted_spikes_glm_encoding_model,\n\u001b[1;32m     14\u001b[0m     predict_sorted_spikes_glm_log_likelihood,\n\u001b[1;32m     15\u001b[0m )\n\u001b[1;32m     16\u001b[0m \u001b[38;5;28;01mfrom\u001b[39;00m \u001b[38;5;21;01mnon_local_detector\u001b[39;00m\u001b[38;5;21;01m.\u001b[39;00m\u001b[38;5;21;01mlikelihoods\u001b[39;00m\u001b[38;5;21;01m.\u001b[39;00m\u001b[38;5;21;01msorted_spikes_kde\u001b[39;00m \u001b[38;5;28;01mimport\u001b[39;00m (\n\u001b[1;32m     17\u001b[0m     fit_sorted_spikes_kde_encoding_model,\n\u001b[1;32m     18\u001b[0m     predict_sorted_spikes_kde_log_likelihood,\n\u001b[1;32m     19\u001b[0m )\n",
      "File \u001b[0;32m~/Documents/GitHub/non_local_detector/src/non_local_detector/likelihoods/sorted_spikes_diffusion_kde.py:10\u001b[0m\n\u001b[1;32m      7\u001b[0m \u001b[38;5;28;01mfrom\u001b[39;00m \u001b[38;5;21;01mscipy\u001b[39;00m\u001b[38;5;21;01m.\u001b[39;00m\u001b[38;5;21;01mspatial\u001b[39;00m \u001b[38;5;28;01mimport\u001b[39;00m KDTree\n\u001b[1;32m      8\u001b[0m \u001b[38;5;28;01mfrom\u001b[39;00m \u001b[38;5;21;01mtqdm\u001b[39;00m\u001b[38;5;21;01m.\u001b[39;00m\u001b[38;5;21;01mautonotebook\u001b[39;00m \u001b[38;5;28;01mimport\u001b[39;00m tqdm\n\u001b[0;32m---> 10\u001b[0m \u001b[38;5;28;01mfrom\u001b[39;00m \u001b[38;5;21;01mnon_local_detector\u001b[39;00m\u001b[38;5;21;01m.\u001b[39;00m\u001b[38;5;21;01mdiffusion_kernels\u001b[39;00m \u001b[38;5;28;01mimport\u001b[39;00m compute_diffusion_kernels\n\u001b[1;32m     11\u001b[0m \u001b[38;5;28;01mfrom\u001b[39;00m \u001b[38;5;21;01mnon_local_detector\u001b[39;00m\u001b[38;5;21;01m.\u001b[39;00m\u001b[38;5;21;01menvironment\u001b[39;00m\u001b[38;5;21;01m.\u001b[39;00m\u001b[38;5;21;01menvironment_with_engine\u001b[39;00m \u001b[38;5;28;01mimport\u001b[39;00m Environment\n\u001b[1;32m     12\u001b[0m \u001b[38;5;28;01mfrom\u001b[39;00m \u001b[38;5;21;01mnon_local_detector\u001b[39;00m\u001b[38;5;21;01m.\u001b[39;00m\u001b[38;5;21;01mlikelihoods\u001b[39;00m\u001b[38;5;21;01m.\u001b[39;00m\u001b[38;5;21;01mcommon\u001b[39;00m \u001b[38;5;28;01mimport\u001b[39;00m (\n\u001b[1;32m     13\u001b[0m     EPS,\n\u001b[1;32m     14\u001b[0m     get_position_at_time,\n\u001b[1;32m     15\u001b[0m     get_spikecount_per_time_bin,\n\u001b[1;32m     16\u001b[0m )\n",
      "File \u001b[0;32m~/Documents/GitHub/non_local_detector/src/non_local_detector/diffusion_kernels.py:9\u001b[0m\n\u001b[1;32m      6\u001b[0m \u001b[38;5;28;01mimport\u001b[39;00m \u001b[38;5;21;01mnetworkx\u001b[39;00m \u001b[38;5;28;01mas\u001b[39;00m \u001b[38;5;21;01mnx\u001b[39;00m\n\u001b[1;32m      7\u001b[0m \u001b[38;5;28;01mimport\u001b[39;00m \u001b[38;5;21;01mnumpy\u001b[39;00m \u001b[38;5;28;01mas\u001b[39;00m \u001b[38;5;21;01mnp\u001b[39;00m\n\u001b[0;32m----> 9\u001b[0m \u001b[38;5;28;01mfrom\u001b[39;00m \u001b[38;5;21;01mnon_local_detector\u001b[39;00m\u001b[38;5;21;01m.\u001b[39;00m\u001b[38;5;21;01menvironment\u001b[39;00m\u001b[38;5;21;01m.\u001b[39;00m\u001b[38;5;21;01menvironment\u001b[39;00m \u001b[38;5;28;01mimport\u001b[39;00m add_distance_weight_to_edges\n\u001b[1;32m     12\u001b[0m \u001b[38;5;28;01mdef\u001b[39;00m \u001b[38;5;21mcompute_diffusion_kernels\u001b[39m(\n\u001b[1;32m     13\u001b[0m     track_graph: nx\u001b[38;5;241m.\u001b[39mGraph,\n\u001b[1;32m     14\u001b[0m     interior_mask: np\u001b[38;5;241m.\u001b[39mndarray,\n\u001b[1;32m     15\u001b[0m     bandwidth_sigma: \u001b[38;5;28mfloat\u001b[39m,\n\u001b[1;32m     16\u001b[0m ) \u001b[38;5;241m-\u001b[39m\u001b[38;5;241m>\u001b[39m jnp\u001b[38;5;241m.\u001b[39mndarray:\n\u001b[1;32m     17\u001b[0m \u001b[38;5;250m    \u001b[39m\u001b[38;5;124;03m\"\"\"\u001b[39;00m\n\u001b[1;32m     18\u001b[0m \u001b[38;5;124;03m    Computes diffusion kernels for all valid interior bins using the\u001b[39;00m\n\u001b[1;32m     19\u001b[0m \u001b[38;5;124;03m    Graph Laplacian method and matrix exponential.\u001b[39;00m\n\u001b[0;32m   (...)\u001b[0m\n\u001b[1;32m     39\u001b[0m \u001b[38;5;124;03m        that has flowed from node j to node i after time t.\u001b[39;00m\n\u001b[1;32m     40\u001b[0m \u001b[38;5;124;03m    \"\"\"\u001b[39;00m\n",
      "\u001b[0;31mModuleNotFoundError\u001b[0m: No module named 'non_local_detector.environment.environment'"
     ]
    }
   ],
   "source": [
    "from scipy.stats import multivariate_normal\n",
    "from non_local_detector import Environment\n",
    "import numpy as np\n",
    "\n",
    "import matplotlib.pyplot as plt\n",
    "from track_linearization import make_track_graph, get_linearized_position\n",
    "\n",
    "x = np.linspace(0, 30)\n",
    "\n",
    "position = np.concatenate(\n",
    "    (\n",
    "        np.stack((np.zeros_like(x), x[::-1]), axis=1),\n",
    "        np.stack((x, np.zeros_like(x)), axis=1),\n",
    "        np.stack((np.ones_like(x) * 30, x), axis=1),\n",
    "    )\n",
    ")\n",
    "position += multivariate_normal(mean=0, cov=0.05).rvs(position.shape)\n",
    "\n",
    "node_positions = [\n",
    "    (0, 0),  # xy position of node 0\n",
    "    (30, 0),  # xy position of node 1\n",
    "    (30, 30),  # xy position of node 2\n",
    "    (0, 30),  # xy position of node 3\n",
    "]\n",
    "\n",
    "edges = [\n",
    "    (0, 1),  # connects node 0 and node 1\n",
    "    (0, 3),  # connects node 0 and node 3\n",
    "    (1, 2),  # connects node 1 and node 2\n",
    "]\n",
    "\n",
    "track_graph = make_track_graph(node_positions, edges)"
   ]
  },
  {
   "cell_type": "code",
   "execution_count": null,
   "id": "a89303f2",
   "metadata": {},
   "outputs": [],
   "source": [
    "env = Environment(\n",
    "    place_bin_size=10,\n",
    "    track_graph=track_graph,\n",
    "    edge_order=edges,\n",
    "    edge_spacing=10,\n",
    ").fit(position=position)\n",
    "\n",
    "lin_pos_df = get_linearized_position(\n",
    "    position,\n",
    "    track_graph=track_graph,\n",
    "    edge_order=edges,\n",
    "    edge_spacing=10,\n",
    ")\n",
    "\n",
    "env.plot_grid()\n",
    "\n",
    "plt.scatter(lin_pos_df[\"linear_position\"], np.ones_like(lin_pos_df[\"linear_position\"]) * 0.05, c=\"red\", s=1, zorder=10)\n",
    "env.is_track_interior_"
   ]
  },
  {
   "cell_type": "code",
   "execution_count": null,
   "id": "4b864d39",
   "metadata": {},
   "outputs": [],
   "source": [
    "env.n_dims"
   ]
  },
  {
   "cell_type": "code",
   "execution_count": null,
   "id": "9a4fdbf4",
   "metadata": {},
   "outputs": [],
   "source": [
    "env.nd_index_to_flat(1)"
   ]
  },
  {
   "cell_type": "code",
   "execution_count": null,
   "id": "871cbd64",
   "metadata": {},
   "outputs": [],
   "source": [
    "env.bin_index_to_nd(1)"
   ]
  },
  {
   "cell_type": "code",
   "execution_count": null,
   "id": "82fa9f59",
   "metadata": {},
   "outputs": [],
   "source": [
    "env = Environment(\n",
    "    place_bin_size=10,\n",
    ").fit(position=position)\n",
    "\n",
    "env.plot_grid()\n",
    "\n",
    "plt.scatter(position[:, 0], position[:, 1], c=\"red\", s=1, zorder=10)\n",
    "env.is_track_interior_"
   ]
  },
  {
   "cell_type": "code",
   "execution_count": null,
   "id": "692a0023",
   "metadata": {},
   "outputs": [],
   "source": [
    "env.n_dims"
   ]
  },
  {
   "cell_type": "code",
   "execution_count": null,
   "id": "0df2d3de",
   "metadata": {},
   "outputs": [],
   "source": [
    "env.nd_index_to_flat((0, 1))\n"
   ]
  },
  {
   "cell_type": "code",
   "execution_count": null,
   "id": "a8e2a2b0",
   "metadata": {},
   "outputs": [],
   "source": [
    "env.bin_index_to_nd(1)"
   ]
  }
 ],
 "metadata": {
  "kernelspec": {
   "display_name": "non_local_detector2",
   "language": "python",
   "name": "python3"
  },
  "language_info": {
   "codemirror_mode": {
    "name": "ipython",
    "version": 3
   },
   "file_extension": ".py",
   "mimetype": "text/x-python",
   "name": "python",
   "nbconvert_exporter": "python",
   "pygments_lexer": "ipython3",
   "version": "3.12.7"
  }
 },
 "nbformat": 4,
 "nbformat_minor": 5
}
